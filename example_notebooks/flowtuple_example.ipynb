{
 "cells": [
  {
   "cell_type": "markdown",
   "id": "46653b23-0495-4eea-bef6-25e46630771b",
   "metadata": {},
   "source": [
    "# Flowtuple analysis demo for AIMS 2025\n",
    "\n",
    "**Author(s):** M. Gao (magao@ucsd.edu) Ricky Mok (cskpmok@caida.org)"
   ]
  },
  {
   "cell_type": "markdown",
   "id": "d43641ab-5d45-4652-85ce-869078dd7dbc",
   "metadata": {},
   "source": [
    "## 0 - Imports"
   ]
  },
  {
   "cell_type": "code",
   "execution_count": 1,
   "id": "f82a373f-d439-4561-8ddf-45affb6df3fb",
   "metadata": {},
   "outputs": [],
   "source": [
    "# Import Libraries\n",
    "import pyspark\n",
    "from pyspark import SQLContext\n",
    "from pyspark import SparkContext\n",
    "import pyspark.sql.functions as psf\n",
    "import pyspark.sql.types as pst\n",
    "from pyspark.sql.window import Window\n",
    "from pyspark.sql.functions import col, row_number\n",
    "from pyspark.sql import SparkSession\n",
    "\n",
    "import os\n",
    "from datetime import datetime, timedelta, date\n",
    "import dateutil.relativedelta as relativedelta\n",
    "import IPython\n",
    "import pandas as pd\n",
    "import numpy as np\n",
    "\n",
    "# Find Spark\n",
    "import findspark\n",
    "findspark.init()\n",
    "\n",
    "# PySpark imports\n",
    "import pyspark\n",
    "from pyspark import SQLContext\n",
    "from pyspark import SparkContext\n",
    "from pyspark import StorageLevel\n",
    "import pyspark.sql.functions as F\n",
    "import pyspark.sql.types as pst\n",
    "from pyspark.sql.window import Window\n",
    "from pyspark.sql.functions import col, row_number, lit"
   ]
  },
  {
   "cell_type": "code",
   "execution_count": 2,
   "id": "a94fa613-77ad-49e0-a188-58fc6dcf666a",
   "metadata": {},
   "outputs": [
    {
     "name": "stdout",
     "output_type": "stream",
     "text": [
      "/expanse/lustre/scratch/magao/temp_project/spark-3.2.1\n"
     ]
    }
   ],
   "source": [
    "print(os.environ[\"SPARK_HOME\"])"
   ]
  },
  {
   "cell_type": "markdown",
   "id": "ad51ab92-efdb-4a79-adc1-46df445a4bf1",
   "metadata": {},
   "source": [
    "## 1 - Spark Configuration"
   ]
  },
  {
   "cell_type": "code",
   "execution_count": 3,
   "id": "4db8a89f-4897-4b80-9c97-e2b5dfe9eaac",
   "metadata": {},
   "outputs": [
    {
     "data": {
      "text/plain": [
       "'magao'"
      ]
     },
     "execution_count": 3,
     "metadata": {},
     "output_type": "execute_result"
    }
   ],
   "source": [
    "user=%env USER\n",
    "user"
   ]
  },
  {
   "cell_type": "code",
   "execution_count": 4,
   "id": "baad2cb7-1555-4d2f-b27a-d40290c41706",
   "metadata": {},
   "outputs": [
    {
     "data": {
      "text/plain": [
       "'exp-9-55.expanse.sdsc.edu'"
      ]
     },
     "execution_count": 4,
     "metadata": {},
     "output_type": "execute_result"
    }
   ],
   "source": [
    "hostname = !hostname --fqdn\n",
    "hostname[0]"
   ]
  },
  {
   "cell_type": "code",
   "execution_count": null,
   "id": "b21e0a62",
   "metadata": {},
   "outputs": [],
   "source": [
    "PROJECT = \"csd939\""
   ]
  },
  {
   "cell_type": "code",
   "execution_count": 5,
   "id": "e20e283e-7bf9-461b-b873-0255dc49a22a",
   "metadata": {},
   "outputs": [],
   "source": [
    "# os.environ[\"PYSPARK_PYTHON\"] = \"/opt/anaconda3/envs/spark3/bin/python\"\n",
    "# os.environ[\"SPARK_HOME\"] = \"/usr/local/spark-3.1.2-bin-hadoop3.2\"\n",
    "os.environ[\"HADOOP_OPTS\"] = \"-Djava.library.path=/cm/shared/apps/spack/cpu/opt/spack/linux-centos8-zen/gcc-8.3.1/hadoop/3.2.2/lib/native\"\n",
    "os.environ['PYSPARK_SUBMIT_ARGS'] = fr\"--jars /expanse/lustre/scratch/{user}/temp_project/spark-3.2.1/ext_jars/* --packages org.apache.spark:spark-avro_2.12:3.2.1 pyspark-shell\"\n",
    "os.environ[\"SPARK_LIB\"] = os.environ[\"SPARK_HOME\"]"
   ]
  },
  {
   "cell_type": "code",
   "execution_count": null,
   "id": "af6a4284",
   "metadata": {},
   "outputs": [],
   "source": [
    "# Set your swift credentials\n",
    "UCSD_NT_S3_ACCESS_KEY = \"\"\n",
    "UCSD_NT_S3_SECRET_KEY = \"\""
   ]
  },
  {
   "cell_type": "code",
   "execution_count": null,
   "id": "a7f00800",
   "metadata": {},
   "outputs": [],
   "source": [
    "# Set spark configurations to align with the slrum configuration\n",
    "SPARK_CORES_MAX = \"8\"\n",
    "SPARK_EXEC_CPU = \"2\"\n",
    "SPARK_EXEC_MEM = \"2G\""
   ]
  },
  {
   "cell_type": "code",
   "execution_count": 6,
   "id": "3fb34494-1de7-4c80-ac44-4098a5b68d29",
   "metadata": {},
   "outputs": [
    {
     "name": "stderr",
     "output_type": "stream",
     "text": [
      "Warning: Ignoring non-Spark config property: fs.s3a.endpoint\n",
      "Warning: Ignoring non-Spark config property: fs.s3a.access.key\n",
      "Warning: Ignoring non-Spark config property: fs.s3a.path.style.access\n",
      "Warning: Ignoring non-Spark config property: fs.s3a.aws.credentials.provider\n",
      "Warning: Ignoring non-Spark config property: fs.s3a.block.size\n",
      "Warning: Ignoring non-Spark config property: io.file.buffer.size\n",
      "Warning: Ignoring non-Spark config property: fs.s3a.connection.maximum\n",
      "Warning: Ignoring non-Spark config property: fs.s3a.secret.key\n",
      "Warning: Ignoring non-Spark config property: fs.s3a.experimental.input.fadvise\n",
      "Warning: Ignoring non-Spark config property: fs.s3a.readahead.range\n",
      "WARNING: An illegal reflective access operation has occurred\n",
      "WARNING: Illegal reflective access by org.apache.spark.unsafe.Platform (file:/expanse/lustre/scratch/magao/temp_project/spark-3.2.1/jars/spark-unsafe_2.12-3.2.1.jar) to constructor java.nio.DirectByteBuffer(long,int)\n",
      "WARNING: Please consider reporting this to the maintainers of org.apache.spark.unsafe.Platform\n",
      "WARNING: Use --illegal-access=warn to enable warnings of further illegal reflective access operations\n",
      "WARNING: All illegal access operations will be denied in a future release\n"
     ]
    },
    {
     "name": "stdout",
     "output_type": "stream",
     "text": [
      ":: loading settings :: url = jar:file:/expanse/lustre/scratch/magao/temp_project/spark-3.2.1/jars/ivy-2.5.0.jar!/org/apache/ivy/core/settings/ivysettings.xml\n"
     ]
    },
    {
     "name": "stderr",
     "output_type": "stream",
     "text": [
      "Ivy Default Cache set to: /home/magao/.ivy2/cache\n",
      "The jars for the packages stored in: /home/magao/.ivy2/jars\n",
      "org.apache.spark#spark-avro_2.12 added as a dependency\n",
      ":: resolving dependencies :: org.apache.spark#spark-submit-parent-73585ea3-401a-4b3d-8cef-ebb239439558;1.0\n",
      "\tconfs: [default]\n",
      "\tfound org.apache.spark#spark-avro_2.12;3.2.1 in central\n",
      "\tfound org.tukaani#xz;1.8 in central\n",
      "\tfound org.spark-project.spark#unused;1.0.0 in central\n",
      ":: resolution report :: resolve 672ms :: artifacts dl 6ms\n",
      "\t:: modules in use:\n",
      "\torg.apache.spark#spark-avro_2.12;3.2.1 from central in [default]\n",
      "\torg.spark-project.spark#unused;1.0.0 from central in [default]\n",
      "\torg.tukaani#xz;1.8 from central in [default]\n",
      "\t---------------------------------------------------------------------\n",
      "\t|                  |            modules            ||   artifacts   |\n",
      "\t|       conf       | number| search|dwnlded|evicted|| number|dwnlded|\n",
      "\t---------------------------------------------------------------------\n",
      "\t|      default     |   3   |   0   |   0   |   0   ||   3   |   0   |\n",
      "\t---------------------------------------------------------------------\n",
      ":: retrieving :: org.apache.spark#spark-submit-parent-73585ea3-401a-4b3d-8cef-ebb239439558\n",
      "\tconfs: [default]\n",
      "\t0 artifacts copied, 3 already retrieved (0kB/16ms)\n",
      "24/04/10 14:24:47 WARN NativeCodeLoader: Unable to load native-hadoop library for your platform... using builtin-java classes where applicable\n",
      "Using Spark's default log4j profile: org/apache/spark/log4j-defaults.properties\n",
      "Setting default log level to \"WARN\".\n",
      "To adjust logging level use sc.setLogLevel(newLevel). For SparkR, use setLogLevel(newLevel).\n",
      "24/04/10 14:24:51 WARN SparkConf: Total executor cores: 128 is not divisible by cores per executor: 124, the left cores: 4 will not be allocated\n"
     ]
    },
    {
     "name": "stdout",
     "output_type": "stream",
     "text": [
      "<pyspark.sql.session.SparkSession object at 0x1555311787c0>\n"
     ]
    }
   ],
   "source": [
    "\n",
    "MASTER_URL=fr\"spark://{hostname[0]}:7077\"\n",
    "\n",
    "spark = SparkSession.builder.master(MASTER_URL).appName('spark-cluster'\n",
    ").config(\"fs.s3a.aws.credentials.provider\", \"org.apache.hadoop.fs.s3a.SimpleAWSCredentialsProvider\"\n",
    ").config(\"fs.s3a.access.key\", UCSD_NT_S3_ACCESS_KEY\n",
    ").config(\"fs.s3a.secret.key\", UCSD_NT_S3_SECRET_KEY\n",
    ").config(\"fs.s3a.endpoint\", \"https://hermes.caida.org\").config(\"fs.s3a.path.style.access\", \"true\"\n",
    ").config(\"fs.s3a.block.size\", \"64M\").config(\"fs.s3a.readahead.range\", \"128K\"\n",
    ").config(\"fs.s3a.experimental.input.fadvise\", \"sequential\"\n",
    ").config(\"fs.s3a.connection.maximum\", 256\n",
    ").config(\"spark.driver.extraJavaOptions\", f\"-Djava.io.tmpdir=/expanse/lustre/projects/{PROJECT}/{user}/spark_scratch\"\n",
    ").config(\"spark.executor.extraJavaOptions\", f\"-Djava.io.tmpdir=/expanse/lustre/projects/{PROJECT}/{user}/spark_scratch\"         \n",
    ").config(\"spark.cores.max\", SPARK_CORES_MAX\n",
    ").config(\"spark.driver.cores\",\"6\"\n",
    ").config(\"spark.driver.memory\",\"6G\"\n",
    ").config(\"spark.executor.cores\", SPARK_EXEC_CPU\n",
    ").config(\"spark.executor.memory\", SPARK_EXEC_MEM\n",
    "# ).config(\"spark.executor.memoryOverhead\", \"4G\"\n",
    ").config(\"io.file.buffer.size\", \"67108864\"\n",
    ").config(\"spark.submit.deploymode\", \"client\"\n",
    ").config(\"spark.buffer.size\", \"67108864\"\n",
    ").config(\"spark.network.timeout\", \"300s\"\n",
    ").config(\"spark.sql.session.timeZone\", \"UTC\"\n",
    ").config(\"spark.sql.files.ignoreCorruptFiles\", \"true\" # Set this when analyzing periods of high traffic volatility, during which there may be corrupt files\n",
    ").getOrCreate()\n",
    "\n",
    "print(spark)"
   ]
  },
  {
   "cell_type": "code",
   "execution_count": 7,
   "id": "c42941a5-efa4-4e54-b754-c5604e9fc370",
   "metadata": {},
   "outputs": [
    {
     "name": "stderr",
     "output_type": "stream",
     "text": [
      "/home/magao/miniconda3/envs/tele_ts/lib/python3.8/site-packages/pyspark/sql/context.py:77: FutureWarning: Deprecated in 3.0.0. Use SparkSession.builder.getOrCreate() instead.\n",
      "  warnings.warn(\n"
     ]
    }
   ],
   "source": [
    "# sc = SparkContext(conf=spark)\n",
    "# sc.setLogLevel('ERROR')\n",
    "sqlcontext = SQLContext(spark)"
   ]
  },
  {
   "cell_type": "code",
   "execution_count": 9,
   "id": "3ddc5b72-6f65-4974-a90e-4b71e6930280",
   "metadata": {},
   "outputs": [
    {
     "data": {
      "text/html": [
       "\n",
       "            <div>\n",
       "                <p><b>SparkSession - in-memory</b></p>\n",
       "                \n",
       "        <div>\n",
       "            <p><b>SparkContext</b></p>\n",
       "\n",
       "            <p><a href=\"http://exp-9-55.expanse.sdsc.edu:4040\">Spark UI</a></p>\n",
       "\n",
       "            <dl>\n",
       "              <dt>Version</dt>\n",
       "                <dd><code>v3.2.1</code></dd>\n",
       "              <dt>Master</dt>\n",
       "                <dd><code>spark://exp-9-55.expanse.sdsc.edu:7077</code></dd>\n",
       "              <dt>AppName</dt>\n",
       "                <dd><code>spark-cluster</code></dd>\n",
       "            </dl>\n",
       "        </div>\n",
       "        \n",
       "            </div>\n",
       "        "
      ],
      "text/plain": [
       "<pyspark.sql.session.SparkSession at 0x1555311787c0>"
      ]
     },
     "execution_count": 9,
     "metadata": {},
     "output_type": "execute_result"
    }
   ],
   "source": [
    "spark"
   ]
  },
  {
   "cell_type": "markdown",
   "id": "b65076db-466e-48b8-89b4-0f2277462da8",
   "metadata": {},
   "source": [
    "## 2 - Functions"
   ]
  },
  {
   "cell_type": "code",
   "execution_count": 10,
   "id": "b4780b1c-5031-4046-a92b-1e456d7cfc2b",
   "metadata": {},
   "outputs": [],
   "source": [
    "import socket, struct\n",
    "import ipaddress\n",
    "\n",
    "def long2ip(long):\n",
    "    return ipaddress.ip_network(socket.inet_ntoa(struct.pack('!L', long)) + '/255.255.255.255', strict=False)\n",
    "\n",
    "def long2ip24subnet(long):\n",
    "    return ipaddress.ip_network(socket.inet_ntoa(struct.pack('!L', long)) + '/255.255.255.0', strict=False)\n",
    "\n",
    "def long2ip16subnet(long):\n",
    "    return ipaddress.ip_network(socket.inet_ntoa(struct.pack('!L', long)) + '/255.255.0.0', strict=False)\n",
    "\n",
    "'''\n",
    "Convert an IP string to long\n",
    "'''\n",
    "def ip2long(ip):\n",
    "    packedIP = socket.inet_aton(ip)\n",
    "    return struct.unpack(\"!L\", packedIP)[0]"
   ]
  },
  {
   "cell_type": "code",
   "execution_count": 11,
   "id": "2477ca8a-2ef9-4c6a-98ff-7f864512269d",
   "metadata": {},
   "outputs": [],
   "source": [
    "'''\n",
    "Input: List of IPv4 Subnets in CIDR Notation e.g. ('0.0.0.0/16')\n",
    "\n",
    "Returns the set of all IP addresses as integers within the subnet.\n",
    "'''\n",
    "def explode_prefix(prefix_list):\n",
    "    prefix_set = set()\n",
    "    \n",
    "    for pfx in prefix_list:\n",
    "        for ip in ipaddress.IPv4Network(pfx):\n",
    "            prefix_set.add(ip2long(str(ip)))\n",
    "            \n",
    "    return prefix_set"
   ]
  },
  {
   "cell_type": "code",
   "execution_count": 12,
   "id": "ade5dac5-4f22-45e0-86a4-afbeb07aed21",
   "metadata": {},
   "outputs": [],
   "source": [
    "import pytz\n",
    "\n",
    "def load_ft_pyspark(avro_files):\n",
    "    df = sqlcontext.read.format('avro').load(avro_files)\n",
    "    df = df.withColumn('time', psf.to_utc_timestamp((df.time).cast(dataType=pst.TimestampType()), 'UTC'))\n",
    "    # df = df.withColumn('time', psf.from_unixtime(df.time))\n",
    "    return df"
   ]
  },
  {
   "cell_type": "markdown",
   "id": "6c6ba379-a9f3-4c74-bae9-b857c320c17f",
   "metadata": {},
   "source": [
    "## 3 - Analysis Configuration"
   ]
  },
  {
   "cell_type": "code",
   "execution_count": 13,
   "id": "c9de4b62-e0fc-478a-9d6b-fb7e3228f950",
   "metadata": {
    "editable": true,
    "slideshow": {
     "slide_type": ""
    },
    "tags": [
     "parameters"
    ]
   },
   "outputs": [],
   "source": [
    "### Papermill Parameters ###\n",
    "\n",
    "OUT_DIR = '/expanse/lustre/projects/{PROJECT}/{user}/shared_data/case_study_1'\n",
    "START_1 = '2024-01-01 00:00'\n",
    "END_1 = '2024-01-01 00:30'"
   ]
  },
  {
   "cell_type": "markdown",
   "id": "731d905b-5a79-4bb0-806c-94d5aef0c999",
   "metadata": {},
   "source": [
    "## 4 - Load .avro Files"
   ]
  },
  {
   "cell_type": "markdown",
   "id": "e0db40e1-e59d-4386-80e1-c8a821a9d4e4",
   "metadata": {},
   "source": [
    "### 4.1 - Convert Timestamps to DateTime"
   ]
  },
  {
   "cell_type": "code",
   "execution_count": 14,
   "id": "f13f9edd-01a6-4570-8baa-fd7fff2071b8",
   "metadata": {
    "editable": true,
    "slideshow": {
     "slide_type": ""
    },
    "tags": []
   },
   "outputs": [],
   "source": [
    "# Inclusive start and end times\n",
    "start_1 = pd.to_datetime(START_1)\n",
    "end_1 = pd.to_datetime(END_1)"
   ]
  },
  {
   "cell_type": "markdown",
   "id": "e4592201-34b0-4944-adfa-95c6f1c4085e",
   "metadata": {},
   "source": [
    "### 4.2 - Load Files"
   ]
  },
  {
   "cell_type": "code",
   "execution_count": 15,
   "id": "407b293c-3e3c-4ae2-8021-505de5aa9071",
   "metadata": {},
   "outputs": [],
   "source": [
    "def generate_avro_uris(avro_filename, start_dt, end_dt, s3_pre_uri='s3a://telescope-ucsdnt-avro-flowtuple-v4-2024'):\n",
    "    avro_df = pd.read_parquet(avro_filename)\n",
    "    avro_df['datetime'] = pd.to_datetime(avro_df['datetime'])\n",
    "    avro_df = avro_df.set_index('datetime')\n",
    "    \n",
    "    ### Select .avro's within timeframe\n",
    "    selected_avros = avro_df[(avro_df.index >= start_dt) & (avro_df.index <= end_dt)]\n",
    "    print(f'Avro filecount: {len(selected_avros)}')\n",
    "    \n",
    "    ### Build URI's\n",
    "    selected_avro_uris = selected_avros.filename.apply(lambda x: f'{s3_pre_uri}/{x}').values\n",
    "    print(f'Avro uri count: {len(selected_avro_uris)}')\n",
    "    \n",
    "    return selected_avro_uris"
   ]
  },
  {
   "cell_type": "markdown",
   "id": "e07b80fc",
   "metadata": {},
   "source": [
    "Use per-computed list of available flowtuple files. "
   ]
  },
  {
   "cell_type": "code",
   "execution_count": 17,
   "id": "3b2148d3-9a3c-4f3e-8e74-abeacbc725ce",
   "metadata": {
    "editable": true,
    "slideshow": {
     "slide_type": ""
    },
    "tags": []
   },
   "outputs": [
    {
     "name": "stdout",
     "output_type": "stream",
     "text": [
      "Avro filecount: 864\n",
      "Avro uri count: 864\n"
     ]
    }
   ],
   "source": [
    "avro_filename = '../ft4_file_lists/ft4_2024_files.parquet.gzip'\n",
    "s3_pre_uri = 's3a://telescope-ucsdnt-avro-flowtuple-v4-2024/'\n",
    "\n",
    "avro_uris = generate_avro_uris(avro_filename, start_1, end_1, s3_pre_uri)"
   ]
  },
  {
   "cell_type": "code",
   "execution_count": 18,
   "id": "294b0482-47b3-4c25-91ee-49f189c81dc6",
   "metadata": {},
   "outputs": [
    {
     "name": "stderr",
     "output_type": "stream",
     "text": [
      "24/04/10 14:25:22 WARN MetricsConfig: Cannot locate configuration: tried hadoop-metrics2-s3a-file-system.properties,hadoop-metrics2.properties\n",
      "                                                                                \r"
     ]
    },
    {
     "name": "stdout",
     "output_type": "stream",
     "text": [
      "CPU times: user 35.4 ms, sys: 10.5 ms, total: 45.9 ms\n",
      "Wall time: 16 s\n"
     ]
    }
   ],
   "source": [
    "%%time\n",
    "\n",
    "spark_df = load_ft_pyspark(list(avro_uris))"
   ]
  },
  {
   "cell_type": "markdown",
   "id": "586bb061-db69-481f-aaeb-82291124157f",
   "metadata": {
    "editable": true,
    "slideshow": {
     "slide_type": ""
    },
    "tags": []
   },
   "source": [
    "## 5 - Optional Filters"
   ]
  },
  {
   "cell_type": "markdown",
   "id": "fa6d1b94-6506-4d84-8b6f-495614ce6d8c",
   "metadata": {
    "editable": true,
    "slideshow": {
     "slide_type": ""
    },
    "tags": []
   },
   "source": [
    "#### Source Filters"
   ]
  },
  {
   "cell_type": "code",
   "execution_count": 19,
   "id": "8f46b25f-b2ce-42d9-912c-abd093b1894d",
   "metadata": {
    "editable": true,
    "slideshow": {
     "slide_type": ""
    },
    "tags": []
   },
   "outputs": [
    {
     "name": "stdout",
     "output_type": "stream",
     "text": [
      "IP filter cardinality: 0\n",
      "ASN filter cardinality: 0\n"
     ]
    }
   ],
   "source": [
    "src_ip_filter = set([\n",
    "    # '137.110.41.27',\n",
    "    # '137.110.41.248',\n",
    "    # '137.110.33.50',\n",
    "    # '137.110.60.41',\n",
    "])\n",
    "\n",
    "src_subnet_filter = set([\n",
    "    # '137.110.0.0/16'\n",
    "])\n",
    "\n",
    "src_asn_filter = [\n",
    "]\n",
    "\n",
    "# Convert to integers\n",
    "src_ip_filter = set(map(ip2long, src_ip_filter))\n",
    "src_subnet_filter = explode_prefix(src_subnet_filter)\n",
    "# Union\n",
    "ip_filter = src_ip_filter.union(src_subnet_filter)\n",
    "\n",
    "print(f'IP filter cardinality: {len(ip_filter)}')\n",
    "print(f'ASN filter cardinality: {len(src_asn_filter)}')"
   ]
  },
  {
   "cell_type": "markdown",
   "id": "8b83a2b5-1be7-41d2-b86d-b753d9352f14",
   "metadata": {
    "editable": true,
    "slideshow": {
     "slide_type": ""
    },
    "tags": []
   },
   "source": [
    "#### Dest. Filters"
   ]
  },
  {
   "cell_type": "code",
   "execution_count": 20,
   "id": "a03a7901-4b1d-4e98-8028-8663527a2871",
   "metadata": {
    "editable": true,
    "slideshow": {
     "slide_type": ""
    },
    "tags": []
   },
   "outputs": [
    {
     "name": "stdout",
     "output_type": "stream",
     "text": [
      "DST_IP filter cardinality: 0\n",
      "DST_PORT filter cardinality: 0\n"
     ]
    }
   ],
   "source": [
    "dst_ip_filter = set([\n",
    "])\n",
    "\n",
    "dst_port_filter = set([\n",
    "    # 25, 1723, 2379, 3306, 4567, 5060, 6443, 7170, 7547, 8008, 8009, 8085, 8089, 9200,\n",
    "    # 10250, 30005, 50001\n",
    "])\n",
    "\n",
    "print(f'DST_IP filter cardinality: {len(dst_ip_filter)}')\n",
    "print(f'DST_PORT filter cardinality: {len(dst_port_filter)}')"
   ]
  },
  {
   "cell_type": "markdown",
   "id": "ced13720-7cf4-43c9-bfcd-3425a5cf6655",
   "metadata": {},
   "source": [
    "#### Misc. Filters"
   ]
  },
  {
   "cell_type": "code",
   "execution_count": 21,
   "id": "bdabcfb1-30b7-452d-8af8-021d7fae3bd8",
   "metadata": {},
   "outputs": [
    {
     "name": "stdout",
     "output_type": "stream",
     "text": [
      "Protocol filter cardinality: 1\n"
     ]
    }
   ],
   "source": [
    "proto_filter = set([\n",
    "    17\n",
    "])\n",
    "\n",
    "print(f'Protocol filter cardinality: {len(proto_filter)}')"
   ]
  },
  {
   "cell_type": "markdown",
   "id": "9e203cf4-969a-407f-be21-94189f1353d7",
   "metadata": {
    "editable": true,
    "slideshow": {
     "slide_type": ""
    },
    "tags": []
   },
   "source": [
    "### 5.1 - Apply Filters"
   ]
  },
  {
   "cell_type": "code",
   "execution_count": 22,
   "id": "03258d13-882f-4a14-8125-79358aa176e2",
   "metadata": {
    "editable": true,
    "slideshow": {
     "slide_type": ""
    },
    "tags": []
   },
   "outputs": [],
   "source": [
    "def create_filter_df(items, col_name):\n",
    "    return spark.createDataFrame(\n",
    "        [(item,) for item in items],\n",
    "        [col_name]\n",
    "    )\n",
    "\n",
    "def apply_filter_df(orig_df, filter_df, col_name):\n",
    "    import pyspark.sql.functions as F\n",
    "    return orig_df.join(\n",
    "            F.broadcast(\n",
    "                filter_df\n",
    "            ),\n",
    "            on=col_name\n",
    "    )"
   ]
  },
  {
   "cell_type": "code",
   "execution_count": 23,
   "id": "d128b42e-59ff-48ca-9648-cb264ccd8bc0",
   "metadata": {
    "editable": true,
    "slideshow": {
     "slide_type": ""
    },
    "tags": []
   },
   "outputs": [
    {
     "name": "stdout",
     "output_type": "stream",
     "text": [
      "Applying Protocol Filter\n"
     ]
    }
   ],
   "source": [
    "traff_df = spark_df\n",
    "\n",
    "if len(ip_filter) > 0:\n",
    "    print(f'Applying Source IP Filter')\n",
    "    ip_filter_df = create_filter_df(ip_filter, 'src_ip')\n",
    "    traff_df = traff_df.join(\n",
    "        F.broadcast(\n",
    "            ip_filter_df\n",
    "            ),\n",
    "        on='src_ip'\n",
    "    )\n",
    "\n",
    "if len(src_asn_filter) > 0:\n",
    "    print(f'Applying Source ASN Filter')\n",
    "    asn_filter_df = create_filter_df(src_asn_filter, 'prefix2asn')\n",
    "    traff_df = traff_df.join(\n",
    "        F.broadcast(\n",
    "            asn_filter_df\n",
    "            ),\n",
    "        on='prefix2asn'\n",
    "    )\n",
    "    \n",
    "if len(dst_port_filter) > 0:\n",
    "    print(f'Applying Dest. Port Filter')\n",
    "    dp_filter_df = create_filter_df(dst_port_filter, 'dst_port')\n",
    "    traff_df = traff_df.join(\n",
    "        F.broadcast(\n",
    "            dp_filter_df\n",
    "            ),\n",
    "        on='dst_port'\n",
    "    )\n",
    "\n",
    "if len(proto_filter) > 0:\n",
    "    print(f'Applying Protocol Filter')\n",
    "    proto_filter_df = create_filter_df(proto_filter, 'protocol')\n",
    "    traff_df = traff_df.join(\n",
    "        F.broadcast(\n",
    "            proto_filter_df\n",
    "            ),\n",
    "        on='protocol'\n",
    "    )"
   ]
  },
  {
   "cell_type": "markdown",
   "id": "b186ddfd-185a-4598-8e01-4a9413c291d5",
   "metadata": {
    "editable": true,
    "slideshow": {
     "slide_type": ""
    },
    "tags": []
   },
   "source": [
    "## 6 - Traffic Metric Analysis"
   ]
  },
  {
   "cell_type": "markdown",
   "id": "a67185f0-63c9-42e3-aeb7-d65a7903cdd4",
   "metadata": {},
   "source": [
    "### Functions"
   ]
  },
  {
   "cell_type": "code",
   "execution_count": 24,
   "id": "6dd45172-74de-4a2f-b023-6a877db3fc38",
   "metadata": {},
   "outputs": [],
   "source": [
    "def list_len(list):\n",
    "    if list is None:\n",
    "        return 0\n",
    "    else:\n",
    "        return len(list)"
   ]
  },
  {
   "cell_type": "markdown",
   "id": "e6200f35-e258-4be6-b3bc-f4129d1a3db2",
   "metadata": {},
   "source": [
    "### Packet Counts + Unique Source IP Counts per Subnet"
   ]
  },
  {
   "cell_type": "code",
   "execution_count": 25,
   "id": "22bca2b9-df83-42ce-b252-d824d2673793",
   "metadata": {},
   "outputs": [
    {
     "name": "stderr",
     "output_type": "stream",
     "text": [
      "[Stage 3:======================================================>(198 + 2) / 200]\r"
     ]
    },
    {
     "name": "stdout",
     "output_type": "stream",
     "text": [
      "CPU times: user 1.47 s, sys: 486 ms, total: 1.96 s\n",
      "Wall time: 14min 13s\n"
     ]
    },
    {
     "name": "stderr",
     "output_type": "stream",
     "text": [
      "                                                                                \r"
     ]
    }
   ],
   "source": [
    "%%time\n",
    "\n",
    "result = spark_df.groupby('dst_net').agg(\n",
    "    F.sum('packet_cnt'), \n",
    "    F.countDistinct('src_ip')\n",
    ").toPandas()"
   ]
  },
  {
   "cell_type": "code",
   "execution_count": 90,
   "id": "606bc388-cf1e-4d45-b085-d782e506f643",
   "metadata": {},
   "outputs": [
    {
     "data": {
      "text/html": [
       "<div>\n",
       "<style scoped>\n",
       "    .dataframe tbody tr th:only-of-type {\n",
       "        vertical-align: middle;\n",
       "    }\n",
       "\n",
       "    .dataframe tbody tr th {\n",
       "        vertical-align: top;\n",
       "    }\n",
       "\n",
       "    .dataframe thead th {\n",
       "        text-align: right;\n",
       "    }\n",
       "</style>\n",
       "<table border=\"1\" class=\"dataframe\">\n",
       "  <thead>\n",
       "    <tr style=\"text-align: right;\">\n",
       "      <th></th>\n",
       "      <th>dst_net</th>\n",
       "      <th>sum(packet_cnt)</th>\n",
       "      <th>count(src_ip)</th>\n",
       "      <th>pc_percentile_rank</th>\n",
       "      <th>src_ip_percentile_rank</th>\n",
       "    </tr>\n",
       "  </thead>\n",
       "  <tbody>\n",
       "    <tr>\n",
       "      <th>0</th>\n",
       "      <td>38</td>\n",
       "      <td>1478454591</td>\n",
       "      <td>1055898</td>\n",
       "      <td>0.701754</td>\n",
       "      <td>0.701754</td>\n",
       "    </tr>\n",
       "    <tr>\n",
       "      <th>1</th>\n",
       "      <td>187</td>\n",
       "      <td>1504826285</td>\n",
       "      <td>986626</td>\n",
       "      <td>0.771930</td>\n",
       "      <td>0.274854</td>\n",
       "    </tr>\n",
       "    <tr>\n",
       "      <th>2</th>\n",
       "      <td>4</td>\n",
       "      <td>1328710615</td>\n",
       "      <td>1057207</td>\n",
       "      <td>0.116959</td>\n",
       "      <td>0.707602</td>\n",
       "    </tr>\n",
       "    <tr>\n",
       "      <th>3</th>\n",
       "      <td>21</td>\n",
       "      <td>1450823828</td>\n",
       "      <td>1168539</td>\n",
       "      <td>0.526316</td>\n",
       "      <td>0.947368</td>\n",
       "    </tr>\n",
       "    <tr>\n",
       "      <th>4</th>\n",
       "      <td>77</td>\n",
       "      <td>1368293449</td>\n",
       "      <td>1004496</td>\n",
       "      <td>0.269006</td>\n",
       "      <td>0.426901</td>\n",
       "    </tr>\n",
       "    <tr>\n",
       "      <th>...</th>\n",
       "      <td>...</td>\n",
       "      <td>...</td>\n",
       "      <td>...</td>\n",
       "      <td>...</td>\n",
       "      <td>...</td>\n",
       "    </tr>\n",
       "    <tr>\n",
       "      <th>166</th>\n",
       "      <td>89</td>\n",
       "      <td>1368333007</td>\n",
       "      <td>984167</td>\n",
       "      <td>0.274854</td>\n",
       "      <td>0.269006</td>\n",
       "    </tr>\n",
       "    <tr>\n",
       "      <th>167</th>\n",
       "      <td>23</td>\n",
       "      <td>1444215824</td>\n",
       "      <td>1001236</td>\n",
       "      <td>0.461988</td>\n",
       "      <td>0.391813</td>\n",
       "    </tr>\n",
       "    <tr>\n",
       "      <th>168</th>\n",
       "      <td>7</td>\n",
       "      <td>1442089975</td>\n",
       "      <td>939121</td>\n",
       "      <td>0.450292</td>\n",
       "      <td>0.081871</td>\n",
       "    </tr>\n",
       "    <tr>\n",
       "      <th>169</th>\n",
       "      <td>88</td>\n",
       "      <td>1355154441</td>\n",
       "      <td>980680</td>\n",
       "      <td>0.175439</td>\n",
       "      <td>0.233918</td>\n",
       "    </tr>\n",
       "    <tr>\n",
       "      <th>170</th>\n",
       "      <td>98</td>\n",
       "      <td>1984638392</td>\n",
       "      <td>1505901</td>\n",
       "      <td>0.994152</td>\n",
       "      <td>0.982456</td>\n",
       "    </tr>\n",
       "  </tbody>\n",
       "</table>\n",
       "<p>171 rows × 5 columns</p>\n",
       "</div>"
      ],
      "text/plain": [
       "     dst_net  sum(packet_cnt)  count(src_ip)  pc_percentile_rank  \\\n",
       "0         38       1478454591        1055898            0.701754   \n",
       "1        187       1504826285         986626            0.771930   \n",
       "2          4       1328710615        1057207            0.116959   \n",
       "3         21       1450823828        1168539            0.526316   \n",
       "4         77       1368293449        1004496            0.269006   \n",
       "..       ...              ...            ...                 ...   \n",
       "166       89       1368333007         984167            0.274854   \n",
       "167       23       1444215824        1001236            0.461988   \n",
       "168        7       1442089975         939121            0.450292   \n",
       "169       88       1355154441         980680            0.175439   \n",
       "170       98       1984638392        1505901            0.994152   \n",
       "\n",
       "     src_ip_percentile_rank  \n",
       "0                  0.701754  \n",
       "1                  0.274854  \n",
       "2                  0.707602  \n",
       "3                  0.947368  \n",
       "4                  0.426901  \n",
       "..                      ...  \n",
       "166                0.269006  \n",
       "167                0.391813  \n",
       "168                0.081871  \n",
       "169                0.233918  \n",
       "170                0.982456  \n",
       "\n",
       "[171 rows x 5 columns]"
      ]
     },
     "execution_count": 90,
     "metadata": {},
     "output_type": "execute_result"
    }
   ],
   "source": [
    "result"
   ]
  },
  {
   "cell_type": "code",
   "execution_count": 80,
   "id": "216e7b37-b26b-404d-b161-dfd98578dda9",
   "metadata": {},
   "outputs": [],
   "source": [
    "result['dst_net'] = result['dst_net'].apply(lambda ip_int: long2ip(ip_int)).apply(lambda ip: str(ip).split('.')[1])"
   ]
  },
  {
   "cell_type": "code",
   "execution_count": 81,
   "id": "5fd39f47-c598-44ed-8327-6fdf89a71ec4",
   "metadata": {},
   "outputs": [],
   "source": [
    "result['dst_net'] = result['dst_net'].astype(int)"
   ]
  },
  {
   "cell_type": "code",
   "execution_count": 82,
   "id": "012051f4-ceb2-4694-8039-02a8a2d00d64",
   "metadata": {},
   "outputs": [],
   "source": [
    "result['pc_percentile_rank'] = result['sum(packet_cnt)'].rank(pct=True)\n",
    "result['src_ip_percentile_rank'] = result['count(src_ip)'].rank(pct=True)"
   ]
  },
  {
   "cell_type": "code",
   "execution_count": 91,
   "id": "44f63279-afef-4722-a514-e3d00e85712d",
   "metadata": {},
   "outputs": [
    {
     "data": {
      "text/html": [
       "<div>\n",
       "<style scoped>\n",
       "    .dataframe tbody tr th:only-of-type {\n",
       "        vertical-align: middle;\n",
       "    }\n",
       "\n",
       "    .dataframe tbody tr th {\n",
       "        vertical-align: top;\n",
       "    }\n",
       "\n",
       "    .dataframe thead th {\n",
       "        text-align: right;\n",
       "    }\n",
       "</style>\n",
       "<table border=\"1\" class=\"dataframe\">\n",
       "  <thead>\n",
       "    <tr style=\"text-align: right;\">\n",
       "      <th></th>\n",
       "      <th>dst_net</th>\n",
       "      <th>sum(packet_cnt)</th>\n",
       "      <th>count(src_ip)</th>\n",
       "      <th>pc_percentile_rank</th>\n",
       "      <th>src_ip_percentile_rank</th>\n",
       "    </tr>\n",
       "  </thead>\n",
       "  <tbody>\n",
       "    <tr>\n",
       "      <th>20</th>\n",
       "      <td>31</td>\n",
       "      <td>26999342</td>\n",
       "      <td>185470</td>\n",
       "      <td>0.005848</td>\n",
       "      <td>0.005848</td>\n",
       "    </tr>\n",
       "    <tr>\n",
       "      <th>161</th>\n",
       "      <td>134</td>\n",
       "      <td>291401414</td>\n",
       "      <td>479972</td>\n",
       "      <td>0.011696</td>\n",
       "      <td>0.011696</td>\n",
       "    </tr>\n",
       "    <tr>\n",
       "      <th>121</th>\n",
       "      <td>3</td>\n",
       "      <td>689296765</td>\n",
       "      <td>756486</td>\n",
       "      <td>0.017544</td>\n",
       "      <td>0.023392</td>\n",
       "    </tr>\n",
       "    <tr>\n",
       "      <th>55</th>\n",
       "      <td>132</td>\n",
       "      <td>725996454</td>\n",
       "      <td>728042</td>\n",
       "      <td>0.023392</td>\n",
       "      <td>0.017544</td>\n",
       "    </tr>\n",
       "    <tr>\n",
       "      <th>22</th>\n",
       "      <td>154</td>\n",
       "      <td>1024391745</td>\n",
       "      <td>894639</td>\n",
       "      <td>0.029240</td>\n",
       "      <td>0.046784</td>\n",
       "    </tr>\n",
       "    <tr>\n",
       "      <th>...</th>\n",
       "      <td>...</td>\n",
       "      <td>...</td>\n",
       "      <td>...</td>\n",
       "      <td>...</td>\n",
       "      <td>...</td>\n",
       "    </tr>\n",
       "    <tr>\n",
       "      <th>104</th>\n",
       "      <td>178</td>\n",
       "      <td>1888266387</td>\n",
       "      <td>1001596</td>\n",
       "      <td>0.976608</td>\n",
       "      <td>0.397661</td>\n",
       "    </tr>\n",
       "    <tr>\n",
       "      <th>5</th>\n",
       "      <td>44</td>\n",
       "      <td>1896421626</td>\n",
       "      <td>1983079</td>\n",
       "      <td>0.982456</td>\n",
       "      <td>0.994152</td>\n",
       "    </tr>\n",
       "    <tr>\n",
       "      <th>41</th>\n",
       "      <td>51</td>\n",
       "      <td>1936964962</td>\n",
       "      <td>1143055</td>\n",
       "      <td>0.988304</td>\n",
       "      <td>0.918129</td>\n",
       "    </tr>\n",
       "    <tr>\n",
       "      <th>170</th>\n",
       "      <td>98</td>\n",
       "      <td>1984638392</td>\n",
       "      <td>1505901</td>\n",
       "      <td>0.994152</td>\n",
       "      <td>0.982456</td>\n",
       "    </tr>\n",
       "    <tr>\n",
       "      <th>9</th>\n",
       "      <td>176</td>\n",
       "      <td>2642260284</td>\n",
       "      <td>1127383</td>\n",
       "      <td>1.000000</td>\n",
       "      <td>0.900585</td>\n",
       "    </tr>\n",
       "  </tbody>\n",
       "</table>\n",
       "<p>171 rows × 5 columns</p>\n",
       "</div>"
      ],
      "text/plain": [
       "     dst_net  sum(packet_cnt)  count(src_ip)  pc_percentile_rank  \\\n",
       "20        31         26999342         185470            0.005848   \n",
       "161      134        291401414         479972            0.011696   \n",
       "121        3        689296765         756486            0.017544   \n",
       "55       132        725996454         728042            0.023392   \n",
       "22       154       1024391745         894639            0.029240   \n",
       "..       ...              ...            ...                 ...   \n",
       "104      178       1888266387        1001596            0.976608   \n",
       "5         44       1896421626        1983079            0.982456   \n",
       "41        51       1936964962        1143055            0.988304   \n",
       "170       98       1984638392        1505901            0.994152   \n",
       "9        176       2642260284        1127383            1.000000   \n",
       "\n",
       "     src_ip_percentile_rank  \n",
       "20                 0.005848  \n",
       "161                0.011696  \n",
       "121                0.023392  \n",
       "55                 0.017544  \n",
       "22                 0.046784  \n",
       "..                      ...  \n",
       "104                0.397661  \n",
       "5                  0.994152  \n",
       "41                 0.918129  \n",
       "170                0.982456  \n",
       "9                  0.900585  \n",
       "\n",
       "[171 rows x 5 columns]"
      ]
     },
     "execution_count": 91,
     "metadata": {},
     "output_type": "execute_result"
    }
   ],
   "source": [
    "result.sort_values(by='sum(packet_cnt)', ascending=True)"
   ]
  },
  {
   "cell_type": "code",
   "execution_count": 92,
   "id": "bcb4b5dd-f8d9-4a5e-8ca5-5c62c8fc23a2",
   "metadata": {},
   "outputs": [
    {
     "data": {
      "text/html": [
       "<div>\n",
       "<style scoped>\n",
       "    .dataframe tbody tr th:only-of-type {\n",
       "        vertical-align: middle;\n",
       "    }\n",
       "\n",
       "    .dataframe tbody tr th {\n",
       "        vertical-align: top;\n",
       "    }\n",
       "\n",
       "    .dataframe thead th {\n",
       "        text-align: right;\n",
       "    }\n",
       "</style>\n",
       "<table border=\"1\" class=\"dataframe\">\n",
       "  <thead>\n",
       "    <tr style=\"text-align: right;\">\n",
       "      <th></th>\n",
       "      <th>dst_net</th>\n",
       "      <th>sum(packet_cnt)</th>\n",
       "      <th>count(src_ip)</th>\n",
       "      <th>pc_percentile_rank</th>\n",
       "      <th>src_ip_percentile_rank</th>\n",
       "    </tr>\n",
       "  </thead>\n",
       "  <tbody>\n",
       "    <tr>\n",
       "      <th>20</th>\n",
       "      <td>31</td>\n",
       "      <td>26999342</td>\n",
       "      <td>185470</td>\n",
       "      <td>0.005848</td>\n",
       "      <td>0.005848</td>\n",
       "    </tr>\n",
       "    <tr>\n",
       "      <th>161</th>\n",
       "      <td>134</td>\n",
       "      <td>291401414</td>\n",
       "      <td>479972</td>\n",
       "      <td>0.011696</td>\n",
       "      <td>0.011696</td>\n",
       "    </tr>\n",
       "    <tr>\n",
       "      <th>121</th>\n",
       "      <td>3</td>\n",
       "      <td>689296765</td>\n",
       "      <td>756486</td>\n",
       "      <td>0.017544</td>\n",
       "      <td>0.023392</td>\n",
       "    </tr>\n",
       "    <tr>\n",
       "      <th>55</th>\n",
       "      <td>132</td>\n",
       "      <td>725996454</td>\n",
       "      <td>728042</td>\n",
       "      <td>0.023392</td>\n",
       "      <td>0.017544</td>\n",
       "    </tr>\n",
       "    <tr>\n",
       "      <th>22</th>\n",
       "      <td>154</td>\n",
       "      <td>1024391745</td>\n",
       "      <td>894639</td>\n",
       "      <td>0.029240</td>\n",
       "      <td>0.046784</td>\n",
       "    </tr>\n",
       "    <tr>\n",
       "      <th>...</th>\n",
       "      <td>...</td>\n",
       "      <td>...</td>\n",
       "      <td>...</td>\n",
       "      <td>...</td>\n",
       "      <td>...</td>\n",
       "    </tr>\n",
       "    <tr>\n",
       "      <th>104</th>\n",
       "      <td>178</td>\n",
       "      <td>1888266387</td>\n",
       "      <td>1001596</td>\n",
       "      <td>0.976608</td>\n",
       "      <td>0.397661</td>\n",
       "    </tr>\n",
       "    <tr>\n",
       "      <th>5</th>\n",
       "      <td>44</td>\n",
       "      <td>1896421626</td>\n",
       "      <td>1983079</td>\n",
       "      <td>0.982456</td>\n",
       "      <td>0.994152</td>\n",
       "    </tr>\n",
       "    <tr>\n",
       "      <th>41</th>\n",
       "      <td>51</td>\n",
       "      <td>1936964962</td>\n",
       "      <td>1143055</td>\n",
       "      <td>0.988304</td>\n",
       "      <td>0.918129</td>\n",
       "    </tr>\n",
       "    <tr>\n",
       "      <th>170</th>\n",
       "      <td>98</td>\n",
       "      <td>1984638392</td>\n",
       "      <td>1505901</td>\n",
       "      <td>0.994152</td>\n",
       "      <td>0.982456</td>\n",
       "    </tr>\n",
       "    <tr>\n",
       "      <th>9</th>\n",
       "      <td>176</td>\n",
       "      <td>2642260284</td>\n",
       "      <td>1127383</td>\n",
       "      <td>1.000000</td>\n",
       "      <td>0.900585</td>\n",
       "    </tr>\n",
       "  </tbody>\n",
       "</table>\n",
       "<p>171 rows × 5 columns</p>\n",
       "</div>"
      ],
      "text/plain": [
       "     dst_net  sum(packet_cnt)  count(src_ip)  pc_percentile_rank  \\\n",
       "20        31         26999342         185470            0.005848   \n",
       "161      134        291401414         479972            0.011696   \n",
       "121        3        689296765         756486            0.017544   \n",
       "55       132        725996454         728042            0.023392   \n",
       "22       154       1024391745         894639            0.029240   \n",
       "..       ...              ...            ...                 ...   \n",
       "104      178       1888266387        1001596            0.976608   \n",
       "5         44       1896421626        1983079            0.982456   \n",
       "41        51       1936964962        1143055            0.988304   \n",
       "170       98       1984638392        1505901            0.994152   \n",
       "9        176       2642260284        1127383            1.000000   \n",
       "\n",
       "     src_ip_percentile_rank  \n",
       "20                 0.005848  \n",
       "161                0.011696  \n",
       "121                0.023392  \n",
       "55                 0.017544  \n",
       "22                 0.046784  \n",
       "..                      ...  \n",
       "104                0.397661  \n",
       "5                  0.994152  \n",
       "41                 0.918129  \n",
       "170                0.982456  \n",
       "9                  0.900585  \n",
       "\n",
       "[171 rows x 5 columns]"
      ]
     },
     "execution_count": 92,
     "metadata": {},
     "output_type": "execute_result"
    }
   ],
   "source": [
    "result.sort_values(by='pc_percentile_rank')"
   ]
  },
  {
   "cell_type": "code",
   "execution_count": 93,
   "id": "7cb2061e-d3e6-4215-a548-797c42deaee2",
   "metadata": {},
   "outputs": [
    {
     "data": {
      "text/html": [
       "<div>\n",
       "<style scoped>\n",
       "    .dataframe tbody tr th:only-of-type {\n",
       "        vertical-align: middle;\n",
       "    }\n",
       "\n",
       "    .dataframe tbody tr th {\n",
       "        vertical-align: top;\n",
       "    }\n",
       "\n",
       "    .dataframe thead th {\n",
       "        text-align: right;\n",
       "    }\n",
       "</style>\n",
       "<table border=\"1\" class=\"dataframe\">\n",
       "  <thead>\n",
       "    <tr style=\"text-align: right;\">\n",
       "      <th></th>\n",
       "      <th>dst_net</th>\n",
       "      <th>sum(packet_cnt)</th>\n",
       "      <th>count(src_ip)</th>\n",
       "      <th>pc_percentile_rank</th>\n",
       "      <th>src_ip_percentile_rank</th>\n",
       "    </tr>\n",
       "  </thead>\n",
       "  <tbody>\n",
       "    <tr>\n",
       "      <th>20</th>\n",
       "      <td>31</td>\n",
       "      <td>26999342</td>\n",
       "      <td>185470</td>\n",
       "      <td>0.005848</td>\n",
       "      <td>0.005848</td>\n",
       "    </tr>\n",
       "    <tr>\n",
       "      <th>161</th>\n",
       "      <td>134</td>\n",
       "      <td>291401414</td>\n",
       "      <td>479972</td>\n",
       "      <td>0.011696</td>\n",
       "      <td>0.011696</td>\n",
       "    </tr>\n",
       "    <tr>\n",
       "      <th>55</th>\n",
       "      <td>132</td>\n",
       "      <td>725996454</td>\n",
       "      <td>728042</td>\n",
       "      <td>0.023392</td>\n",
       "      <td>0.017544</td>\n",
       "    </tr>\n",
       "    <tr>\n",
       "      <th>121</th>\n",
       "      <td>3</td>\n",
       "      <td>689296765</td>\n",
       "      <td>756486</td>\n",
       "      <td>0.017544</td>\n",
       "      <td>0.023392</td>\n",
       "    </tr>\n",
       "    <tr>\n",
       "      <th>15</th>\n",
       "      <td>103</td>\n",
       "      <td>1177287039</td>\n",
       "      <td>849234</td>\n",
       "      <td>0.052632</td>\n",
       "      <td>0.029240</td>\n",
       "    </tr>\n",
       "    <tr>\n",
       "      <th>...</th>\n",
       "      <td>...</td>\n",
       "      <td>...</td>\n",
       "      <td>...</td>\n",
       "      <td>...</td>\n",
       "      <td>...</td>\n",
       "    </tr>\n",
       "    <tr>\n",
       "      <th>94</th>\n",
       "      <td>0</td>\n",
       "      <td>1420294758</td>\n",
       "      <td>1282400</td>\n",
       "      <td>0.397661</td>\n",
       "      <td>0.976608</td>\n",
       "    </tr>\n",
       "    <tr>\n",
       "      <th>170</th>\n",
       "      <td>98</td>\n",
       "      <td>1984638392</td>\n",
       "      <td>1505901</td>\n",
       "      <td>0.994152</td>\n",
       "      <td>0.982456</td>\n",
       "    </tr>\n",
       "    <tr>\n",
       "      <th>12</th>\n",
       "      <td>99</td>\n",
       "      <td>1452441648</td>\n",
       "      <td>1703488</td>\n",
       "      <td>0.543860</td>\n",
       "      <td>0.988304</td>\n",
       "    </tr>\n",
       "    <tr>\n",
       "      <th>5</th>\n",
       "      <td>44</td>\n",
       "      <td>1896421626</td>\n",
       "      <td>1983079</td>\n",
       "      <td>0.982456</td>\n",
       "      <td>0.994152</td>\n",
       "    </tr>\n",
       "    <tr>\n",
       "      <th>134</th>\n",
       "      <td>65</td>\n",
       "      <td>1589660547</td>\n",
       "      <td>48283508</td>\n",
       "      <td>0.912281</td>\n",
       "      <td>1.000000</td>\n",
       "    </tr>\n",
       "  </tbody>\n",
       "</table>\n",
       "<p>171 rows × 5 columns</p>\n",
       "</div>"
      ],
      "text/plain": [
       "     dst_net  sum(packet_cnt)  count(src_ip)  pc_percentile_rank  \\\n",
       "20        31         26999342         185470            0.005848   \n",
       "161      134        291401414         479972            0.011696   \n",
       "55       132        725996454         728042            0.023392   \n",
       "121        3        689296765         756486            0.017544   \n",
       "15       103       1177287039         849234            0.052632   \n",
       "..       ...              ...            ...                 ...   \n",
       "94         0       1420294758        1282400            0.397661   \n",
       "170       98       1984638392        1505901            0.994152   \n",
       "12        99       1452441648        1703488            0.543860   \n",
       "5         44       1896421626        1983079            0.982456   \n",
       "134       65       1589660547       48283508            0.912281   \n",
       "\n",
       "     src_ip_percentile_rank  \n",
       "20                 0.005848  \n",
       "161                0.011696  \n",
       "55                 0.017544  \n",
       "121                0.023392  \n",
       "15                 0.029240  \n",
       "..                      ...  \n",
       "94                 0.976608  \n",
       "170                0.982456  \n",
       "12                 0.988304  \n",
       "5                  0.994152  \n",
       "134                1.000000  \n",
       "\n",
       "[171 rows x 5 columns]"
      ]
     },
     "execution_count": 93,
     "metadata": {},
     "output_type": "execute_result"
    }
   ],
   "source": [
    "result.sort_values(by='count(src_ip)')"
   ]
  }
 ],
 "metadata": {
  "kernelspec": {
   "display_name": "Python 3 (ipykernel)",
   "language": "python",
   "name": "python3"
  },
  "language_info": {
   "codemirror_mode": {
    "name": "ipython",
    "version": 3
   },
   "file_extension": ".py",
   "mimetype": "text/x-python",
   "name": "python",
   "nbconvert_exporter": "python",
   "pygments_lexer": "ipython3",
   "version": "3.8.17"
  }
 },
 "nbformat": 4,
 "nbformat_minor": 5
}
