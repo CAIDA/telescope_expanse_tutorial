{
 "cells": [
  {
   "cell_type": "markdown",
   "id": "2dd14c03-d4d4-48ad-916c-6b775f01337c",
   "metadata": {},
   "source": [
    "# DarkSim - Segment Analysis\n",
    "\n",
    "**Author:** Eric Li (ericljx2020@gmail.com)"
   ]
  },
  {
   "cell_type": "markdown",
   "id": "d43641ab-5d45-4652-85ce-869078dd7dbc",
   "metadata": {},
   "source": [
    "## 0 - Imports"
   ]
  },
  {
   "cell_type": "code",
   "execution_count": 1,
   "id": "f82a373f-d439-4561-8ddf-45affb6df3fb",
   "metadata": {},
   "outputs": [],
   "source": [
    "# Import Libraries\n",
    "import pyspark\n",
    "from pyspark import SQLContext\n",
    "from pyspark import SparkContext\n",
    "import pyspark.sql.functions as psf\n",
    "import pyspark.sql.types as pst\n",
    "from pyspark.sql.window import Window\n",
    "from pyspark.sql.functions import col, row_number\n",
    "from pyspark.sql import SparkSession\n",
    "\n",
    "import os\n",
    "from datetime import datetime, timedelta, date\n",
    "import dateutil.relativedelta as relativedelta\n",
    "import IPython\n",
    "import pandas as pd\n",
    "import numpy as np\n",
    "\n",
    "# Find Spark\n",
    "import findspark\n",
    "findspark.init()\n",
    "\n",
    "# PySpark imports\n",
    "import pyspark\n",
    "from pyspark import SQLContext\n",
    "from pyspark import SparkContext\n",
    "from pyspark import StorageLevel\n",
    "import pyspark.sql.functions as F\n",
    "import pyspark.sql.types as pst\n",
    "from pyspark.sql.window import Window\n",
    "from pyspark.sql.functions import col, row_number, lit"
   ]
  },
  {
   "cell_type": "code",
   "execution_count": 2,
   "id": "a94fa613-77ad-49e0-a188-58fc6dcf666a",
   "metadata": {},
   "outputs": [
    {
     "name": "stdout",
     "output_type": "stream",
     "text": [
      "/expanse/lustre/scratch/jli21/temp_project/spark-3.2.1\n"
     ]
    }
   ],
   "source": [
    "print(os.environ[\"SPARK_HOME\"])"
   ]
  },
  {
   "cell_type": "markdown",
   "id": "ad51ab92-efdb-4a79-adc1-46df445a4bf1",
   "metadata": {},
   "source": [
    "## 1 - Spark Configuration"
   ]
  },
  {
   "cell_type": "code",
   "execution_count": 3,
   "id": "4db8a89f-4897-4b80-9c97-e2b5dfe9eaac",
   "metadata": {},
   "outputs": [
    {
     "data": {
      "text/plain": [
       "'jli21'"
      ]
     },
     "execution_count": 3,
     "metadata": {},
     "output_type": "execute_result"
    }
   ],
   "source": [
    "user=%env USER\n",
    "user"
   ]
  },
  {
   "cell_type": "code",
   "execution_count": 4,
   "id": "baad2cb7-1555-4d2f-b27a-d40290c41706",
   "metadata": {},
   "outputs": [
    {
     "data": {
      "text/plain": [
       "'exp-10-47.expanse.sdsc.edu'"
      ]
     },
     "execution_count": 4,
     "metadata": {},
     "output_type": "execute_result"
    }
   ],
   "source": [
    "hostname = !hostname --fqdn\n",
    "hostname[0]"
   ]
  },
  {
   "cell_type": "code",
   "execution_count": 5,
   "id": "e20e283e-7bf9-461b-b873-0255dc49a22a",
   "metadata": {},
   "outputs": [],
   "source": [
    "# os.environ[\"PYSPARK_PYTHON\"] = \"/opt/anaconda3/envs/spark3/bin/python\"\n",
    "# os.environ[\"SPARK_HOME\"] = \"/usr/local/spark-3.1.2-bin-hadoop3.2\"\n",
    "os.environ[\"HADOOP_OPTS\"] = \"-Djava.library.path=/cm/shared/apps/spack/cpu/opt/spack/linux-centos8-zen/gcc-8.3.1/hadoop/3.2.2/lib/native\"\n",
    "os.environ['PYSPARK_SUBMIT_ARGS'] = fr\"--jars /expanse/lustre/scratch/{user}/temp_project/spark-3.2.1/ext_jars/* --packages org.apache.spark:spark-avro_2.12:3.2.1 pyspark-shell\"\n",
    "os.environ[\"SPARK_LIB\"] = os.environ[\"SPARK_HOME\"]"
   ]
  },
  {
   "cell_type": "code",
   "execution_count": 6,
   "id": "3fb34494-1de7-4c80-ac44-4098a5b68d29",
   "metadata": {},
   "outputs": [
    {
     "name": "stderr",
     "output_type": "stream",
     "text": [
      "Warning: Ignoring non-Spark config property: fs.s3a.endpoint\n",
      "Warning: Ignoring non-Spark config property: fs.s3a.access.key\n",
      "Warning: Ignoring non-Spark config property: fs.s3a.path.style.access\n",
      "Warning: Ignoring non-Spark config property: fs.s3a.aws.credentials.provider\n",
      "Warning: Ignoring non-Spark config property: io.file.buffer.size\n",
      "Warning: Ignoring non-Spark config property: fs.s3a.block.size\n",
      "Warning: Ignoring non-Spark config property: fs.s3a.secret.key\n",
      "Warning: Ignoring non-Spark config property: fs.s3a.connection.maximum\n",
      "Warning: Ignoring non-Spark config property: fs.s3a.readahead.range\n",
      "Warning: Ignoring non-Spark config property: fs.s3a.experimental.input.fadvise\n",
      "WARNING: An illegal reflective access operation has occurred\n",
      "WARNING: Illegal reflective access by org.apache.spark.unsafe.Platform (file:/expanse/lustre/scratch/jli21/temp_project/spark-3.2.1/jars/spark-unsafe_2.12-3.2.1.jar) to constructor java.nio.DirectByteBuffer(long,int)\n",
      "WARNING: Please consider reporting this to the maintainers of org.apache.spark.unsafe.Platform\n",
      "WARNING: Use --illegal-access=warn to enable warnings of further illegal reflective access operations\n",
      "WARNING: All illegal access operations will be denied in a future release\n"
     ]
    },
    {
     "name": "stdout",
     "output_type": "stream",
     "text": [
      ":: loading settings :: url = jar:file:/expanse/lustre/scratch/jli21/temp_project/spark-3.2.1/jars/ivy-2.5.0.jar!/org/apache/ivy/core/settings/ivysettings.xml\n"
     ]
    },
    {
     "name": "stderr",
     "output_type": "stream",
     "text": [
      "Ivy Default Cache set to: /home/jli21/.ivy2/cache\n",
      "The jars for the packages stored in: /home/jli21/.ivy2/jars\n",
      "org.apache.spark#spark-avro_2.12 added as a dependency\n",
      ":: resolving dependencies :: org.apache.spark#spark-submit-parent-1204b0b2-28b3-47d1-adb1-99e1f86aaecd;1.0\n",
      "\tconfs: [default]\n",
      "\tfound org.apache.spark#spark-avro_2.12;3.2.1 in central\n",
      "\tfound org.tukaani#xz;1.8 in central\n",
      "\tfound org.spark-project.spark#unused;1.0.0 in central\n",
      ":: resolution report :: resolve 442ms :: artifacts dl 5ms\n",
      "\t:: modules in use:\n",
      "\torg.apache.spark#spark-avro_2.12;3.2.1 from central in [default]\n",
      "\torg.spark-project.spark#unused;1.0.0 from central in [default]\n",
      "\torg.tukaani#xz;1.8 from central in [default]\n",
      "\t---------------------------------------------------------------------\n",
      "\t|                  |            modules            ||   artifacts   |\n",
      "\t|       conf       | number| search|dwnlded|evicted|| number|dwnlded|\n",
      "\t---------------------------------------------------------------------\n",
      "\t|      default     |   3   |   0   |   0   |   0   ||   3   |   0   |\n",
      "\t---------------------------------------------------------------------\n",
      ":: retrieving :: org.apache.spark#spark-submit-parent-1204b0b2-28b3-47d1-adb1-99e1f86aaecd\n",
      "\tconfs: [default]\n",
      "\t0 artifacts copied, 3 already retrieved (0kB/4ms)\n",
      "24/01/17 09:17:55 WARN NativeCodeLoader: Unable to load native-hadoop library for your platform... using builtin-java classes where applicable\n",
      "Using Spark's default log4j profile: org/apache/spark/log4j-defaults.properties\n",
      "Setting default log level to \"WARN\".\n",
      "To adjust logging level use sc.setLogLevel(newLevel). For SparkR, use setLogLevel(newLevel).\n",
      "24/01/17 09:18:41 WARN SparkConf: Total executor cores: 128 is not divisible by cores per executor: 125, the left cores: 3 will not be allocated\n"
     ]
    },
    {
     "name": "stdout",
     "output_type": "stream",
     "text": [
      "<pyspark.sql.session.SparkSession object at 0x155531201310>\n"
     ]
    }
   ],
   "source": [
    "# Set your credentials here\n",
    "UCSD_NT_S3_ACCESS_KEY = \"163a6d8005ad4d1d92faaf71993ef4ae\"\n",
    "UCSD_NT_S3_SECRET_KEY = \"8a1dfbbba6e5485088bad4a9882a44b7\"\n",
    "\n",
    "MASTER_URL=fr\"spark://{hostname[0]}:7077\"\n",
    "\n",
    "spark = SparkSession.builder.master(MASTER_URL).appName('spark-cluster'\n",
    ").config(\"fs.s3a.aws.credentials.provider\", \"org.apache.hadoop.fs.s3a.SimpleAWSCredentialsProvider\"\n",
    ").config(\"fs.s3a.access.key\", UCSD_NT_S3_ACCESS_KEY\n",
    ").config(\"fs.s3a.secret.key\", UCSD_NT_S3_SECRET_KEY\n",
    ").config(\"fs.s3a.endpoint\", \"https://hermes.caida.org\").config(\"fs.s3a.path.style.access\", \"true\"\n",
    ").config(\"fs.s3a.block.size\", \"64M\").config(\"fs.s3a.readahead.range\", \"128K\"\n",
    ").config(\"fs.s3a.experimental.input.fadvise\", \"sequential\"\n",
    ").config(\"fs.s3a.connection.maximum\", 256\n",
    ").config(\"spark.cores.max\", \"128\"\n",
    ").config(\"spark.driver.cores\",\"2\"\n",
    ").config(\"spark.driver.memory\",\"2G\"\n",
    ").config(\"spark.executor.cores\", \"125\"\n",
    ").config(\"spark.executor.memory\", \"125G\"\n",
    "# ).config(\"spark.executor.memoryOverhead\", \"4G\"\n",
    ").config(\"io.file.buffer.size\", \"67108864\"\n",
    ").config(\"spark.submit.deploymode\", \"client\"\n",
    ").config(\"spark.buffer.size\", \"67108864\"\n",
    ").config(\"spark.network.timeout\", \"300s\"\n",
    ").config(\"spark.sql.session.timeZone\", \"UTC\"\n",
    ").config(\"spark.sql.files.ignoreCorruptFiles\", \"true\" # Set this when analyzing periods of high volatility, during which there may be corrupt files\n",
    ").getOrCreate()\n",
    "\n",
    "print(spark)"
   ]
  },
  {
   "cell_type": "code",
   "execution_count": 7,
   "id": "c42941a5-efa4-4e54-b754-c5604e9fc370",
   "metadata": {},
   "outputs": [
    {
     "name": "stderr",
     "output_type": "stream",
     "text": [
      "/home/jli21/miniconda3/envs/tele_ts/lib/python3.8/site-packages/pyspark/sql/context.py:77: FutureWarning: Deprecated in 3.0.0. Use SparkSession.builder.getOrCreate() instead.\n",
      "  warnings.warn(\n"
     ]
    }
   ],
   "source": [
    "# sc = SparkContext(conf=spark)\n",
    "# sc.setLogLevel('ERROR')\n",
    "sqlcontext = SQLContext(spark)"
   ]
  },
  {
   "cell_type": "code",
   "execution_count": 8,
   "id": "3ddc5b72-6f65-4974-a90e-4b71e6930280",
   "metadata": {},
   "outputs": [
    {
     "data": {
      "text/html": [
       "\n",
       "            <div>\n",
       "                <p><b>SparkSession - in-memory</b></p>\n",
       "                \n",
       "        <div>\n",
       "            <p><b>SparkContext</b></p>\n",
       "\n",
       "            <p><a href=\"http://exp-10-47.expanse.sdsc.edu:4040\">Spark UI</a></p>\n",
       "\n",
       "            <dl>\n",
       "              <dt>Version</dt>\n",
       "                <dd><code>v3.2.1</code></dd>\n",
       "              <dt>Master</dt>\n",
       "                <dd><code>spark://exp-10-47.expanse.sdsc.edu:7077</code></dd>\n",
       "              <dt>AppName</dt>\n",
       "                <dd><code>spark-cluster</code></dd>\n",
       "            </dl>\n",
       "        </div>\n",
       "        \n",
       "            </div>\n",
       "        "
      ],
      "text/plain": [
       "<pyspark.sql.session.SparkSession at 0x155531201310>"
      ]
     },
     "execution_count": 8,
     "metadata": {},
     "output_type": "execute_result"
    }
   ],
   "source": [
    "spark"
   ]
  },
  {
   "cell_type": "markdown",
   "id": "b65076db-466e-48b8-89b4-0f2277462da8",
   "metadata": {},
   "source": [
    "## 2 - Functions"
   ]
  },
  {
   "cell_type": "code",
   "execution_count": 9,
   "id": "b4780b1c-5031-4046-a92b-1e456d7cfc2b",
   "metadata": {},
   "outputs": [],
   "source": [
    "import socket, struct\n",
    "import ipaddress\n",
    "\n",
    "def long2ip(long):\n",
    "    return ipaddress.ip_network(socket.inet_ntoa(struct.pack('!L', long)) + '/255.255.255.255', strict=False)\n",
    "\n",
    "def long2ip24subnet(long):\n",
    "    return ipaddress.ip_network(socket.inet_ntoa(struct.pack('!L', long)) + '/255.255.255.0', strict=False)\n",
    "\n",
    "def long2ip16subnet(long):\n",
    "    return ipaddress.ip_network(socket.inet_ntoa(struct.pack('!L', long)) + '/255.255.0.0', strict=False)\n",
    "\n",
    "'''\n",
    "Convert an IP string to long\n",
    "'''\n",
    "def ip2long(ip):\n",
    "    packedIP = socket.inet_aton(ip)\n",
    "    return struct.unpack(\"!L\", packedIP)[0]"
   ]
  },
  {
   "cell_type": "code",
   "execution_count": 10,
   "id": "2477ca8a-2ef9-4c6a-98ff-7f864512269d",
   "metadata": {},
   "outputs": [],
   "source": [
    "'''\n",
    "Input: List of IPv4 Subnets in CIDR Notation e.g. ('0.0.0.0/16')\n",
    "\n",
    "Returns the set of all IP addresses as integers within the subnet.\n",
    "'''\n",
    "def explode_prefix(prefix_list):\n",
    "    prefix_set = set()\n",
    "    \n",
    "    for pfx in prefix_list:\n",
    "        for ip in ipaddress.IPv4Network(pfx):\n",
    "            prefix_set.add(ip2long(str(ip)))\n",
    "            \n",
    "    return prefix_set"
   ]
  },
  {
   "cell_type": "code",
   "execution_count": 11,
   "id": "ade5dac5-4f22-45e0-86a4-afbeb07aed21",
   "metadata": {},
   "outputs": [],
   "source": [
    "import pytz\n",
    "\n",
    "def load_ft_pyspark(avro_files):\n",
    "    df = sqlcontext.read.format('avro').load(avro_files)\n",
    "    df = df.withColumn('time', psf.to_utc_timestamp((df.time).cast(dataType=pst.TimestampType()), 'UTC'))\n",
    "    # df = df.withColumn('time', psf.from_unixtime(df.time))\n",
    "    return df"
   ]
  },
  {
   "cell_type": "markdown",
   "id": "6c6ba379-a9f3-4c74-bae9-b857c320c17f",
   "metadata": {},
   "source": [
    "## 3 - Extraction Configuration"
   ]
  },
  {
   "cell_type": "code",
   "execution_count": 385,
   "id": "c9de4b62-e0fc-478a-9d6b-fb7e3228f950",
   "metadata": {
    "editable": true,
    "slideshow": {
     "slide_type": ""
    },
    "tags": [
     "parameters"
    ]
   },
   "outputs": [],
   "source": [
    "### Papermill Parameters ###\n",
    "\n",
    "OUT_DIR = '/expanse/lustre/projects/sds193/magao/shared_data/case_study_1'\n",
    "\n",
    "DST_PORT = 5000\n",
    "\n",
    "START_1 = '2023-03-25 00:30'\n",
    "END_1 = '2023-03-25 02:30'\n",
    "\n",
    "START_2 = '2023-03-26 04:45'\n",
    "END_2 = '2023-03-26 06:45'"
   ]
  },
  {
   "cell_type": "markdown",
   "id": "586bb061-db69-481f-aaeb-82291124157f",
   "metadata": {
    "editable": true,
    "slideshow": {
     "slide_type": ""
    },
    "tags": []
   },
   "source": [
    "### 3.1 - Optional Filters"
   ]
  },
  {
   "cell_type": "markdown",
   "id": "fa6d1b94-6506-4d84-8b6f-495614ce6d8c",
   "metadata": {
    "editable": true,
    "slideshow": {
     "slide_type": ""
    },
    "tags": []
   },
   "source": [
    "#### Source Filters"
   ]
  },
  {
   "cell_type": "code",
   "execution_count": 386,
   "id": "8f46b25f-b2ce-42d9-912c-abd093b1894d",
   "metadata": {
    "editable": true,
    "slideshow": {
     "slide_type": ""
    },
    "tags": []
   },
   "outputs": [],
   "source": [
    "src_ip_filter = set([\n",
    "    # '137.110.41.27',\n",
    "    # '137.110.41.248',\n",
    "    # '137.110.33.50',\n",
    "    # '137.110.60.41',\n",
    "])\n",
    "\n",
    "src_subnet_filter = set([\n",
    "    # '137.110.0.0/16'\n",
    "])\n",
    "\n",
    "src_asn_filter = [\n",
    "]"
   ]
  },
  {
   "cell_type": "code",
   "execution_count": 387,
   "id": "ddadf032-f248-49ce-8056-65d5f2ce33ad",
   "metadata": {
    "editable": true,
    "slideshow": {
     "slide_type": ""
    },
    "tags": []
   },
   "outputs": [],
   "source": [
    "src_ip_filter = set([\n",
    "])\n",
    "\n",
    "src_subnet_filter = set([\n",
    "])\n",
    "\n",
    "src_asn_filter = [\n",
    "    # 7377\n",
    "]"
   ]
  },
  {
   "cell_type": "code",
   "execution_count": 388,
   "id": "c69a26dd-e651-4c4c-a608-ac30c21c7f25",
   "metadata": {
    "editable": true,
    "slideshow": {
     "slide_type": ""
    },
    "tags": []
   },
   "outputs": [
    {
     "name": "stdout",
     "output_type": "stream",
     "text": [
      "IP filter cardinality: 0\n",
      "ASN filter cardinality: 0\n"
     ]
    }
   ],
   "source": [
    "# Convert to integers\n",
    "src_ip_filter = set(map(ip2long, src_ip_filter))\n",
    "src_subnet_filter = explode_prefix(src_subnet_filter)\n",
    "# Union\n",
    "ip_filter = src_ip_filter.union(src_subnet_filter)\n",
    "\n",
    "print(f'IP filter cardinality: {len(ip_filter)}')\n",
    "print(f'ASN filter cardinality: {len(src_asn_filter)}')"
   ]
  },
  {
   "cell_type": "markdown",
   "id": "8b83a2b5-1be7-41d2-b86d-b753d9352f14",
   "metadata": {
    "editable": true,
    "slideshow": {
     "slide_type": ""
    },
    "tags": []
   },
   "source": [
    "#### Dest. Filters"
   ]
  },
  {
   "cell_type": "code",
   "execution_count": 389,
   "id": "a03a7901-4b1d-4e98-8028-8663527a2871",
   "metadata": {
    "editable": true,
    "slideshow": {
     "slide_type": ""
    },
    "tags": []
   },
   "outputs": [],
   "source": [
    "dst_ip_filter = set([\n",
    "])\n",
    "\n",
    "dst_port_filter = set([\n",
    "    25, 1723, 2379, 3306, 4567, 5060, 6443, 7170, 7547, 8008, 8009, 8085, 8089, 9200,\n",
    "    10250, 30005, 50001\n",
    "])"
   ]
  },
  {
   "cell_type": "code",
   "execution_count": 390,
   "id": "84819658-0a5c-4bc5-9f05-16c2140a5fbb",
   "metadata": {},
   "outputs": [
    {
     "name": "stdout",
     "output_type": "stream",
     "text": [
      "DST_IP filter cardinality: 0\n",
      "DST_PORT filter cardinality: 17\n"
     ]
    }
   ],
   "source": [
    "print(f'DST_IP filter cardinality: {len(dst_ip_filter)}')\n",
    "print(f'DST_PORT filter cardinality: {len(dst_port_filter)}')"
   ]
  },
  {
   "cell_type": "markdown",
   "id": "18714bc7-8fa2-4d68-86d5-1cc30991d8e1",
   "metadata": {
    "editable": true,
    "slideshow": {
     "slide_type": ""
    },
    "tags": []
   },
   "source": [
    "#### Temporal Filter"
   ]
  },
  {
   "cell_type": "code",
   "execution_count": 391,
   "id": "f13f9edd-01a6-4570-8baa-fd7fff2071b8",
   "metadata": {
    "editable": true,
    "slideshow": {
     "slide_type": ""
    },
    "tags": []
   },
   "outputs": [],
   "source": [
    "# Inclusive start and end times\n",
    "start_1 = pd.to_datetime(START_1)\n",
    "end_1 = pd.to_datetime(END_1)\n",
    "\n",
    "start_2 = pd.to_datetime(START_2)\n",
    "end_2 = pd.to_datetime(END_2)"
   ]
  },
  {
   "cell_type": "markdown",
   "id": "2106087c-b139-4263-92b5-b82402c4fee3",
   "metadata": {
    "editable": true,
    "slideshow": {
     "slide_type": ""
    },
    "tags": []
   },
   "source": [
    "### Load .avro files"
   ]
  },
  {
   "cell_type": "code",
   "execution_count": 392,
   "id": "620615e6-2550-4371-9054-c8cbca2fd52f",
   "metadata": {
    "editable": true,
    "slideshow": {
     "slide_type": ""
    },
    "tags": []
   },
   "outputs": [],
   "source": [
    "def extract_timestamp(filename):\n",
    "    return int(filename.split('.')[1])\n",
    "\n",
    "def build_uri(row):\n",
    "    return f's3a://{row.container}/{row.datasource}/year={row.year}/month={row.month}/day={row.day}/hour={row.hour}/{row.filename}'"
   ]
  },
  {
   "cell_type": "code",
   "execution_count": 393,
   "id": "3b2148d3-9a3c-4f3e-8e74-abeacbc725ce",
   "metadata": {
    "editable": true,
    "slideshow": {
     "slide_type": ""
    },
    "tags": []
   },
   "outputs": [
    {
     "name": "stdout",
     "output_type": "stream",
     "text": [
      "Avro filecount: 25\n",
      "Avro uri count: 25\n"
     ]
    },
    {
     "data": {
      "text/plain": [
       "array(['s3a://telescope-ucsdnt-avro-flowtuple-v4-2023/datasource=ucsd-nt/year=2023/month=03/day=25/hour=00/ucsd-nt.1679704200.flowtuple-v4.avro',\n",
       "       's3a://telescope-ucsdnt-avro-flowtuple-v4-2023/datasource=ucsd-nt/year=2023/month=03/day=25/hour=00/ucsd-nt.1679704500.flowtuple-v4.avro',\n",
       "       's3a://telescope-ucsdnt-avro-flowtuple-v4-2023/datasource=ucsd-nt/year=2023/month=03/day=25/hour=00/ucsd-nt.1679704800.flowtuple-v4.avro',\n",
       "       's3a://telescope-ucsdnt-avro-flowtuple-v4-2023/datasource=ucsd-nt/year=2023/month=03/day=25/hour=00/ucsd-nt.1679705100.flowtuple-v4.avro',\n",
       "       's3a://telescope-ucsdnt-avro-flowtuple-v4-2023/datasource=ucsd-nt/year=2023/month=03/day=25/hour=00/ucsd-nt.1679705400.flowtuple-v4.avro',\n",
       "       's3a://telescope-ucsdnt-avro-flowtuple-v4-2023/datasource=ucsd-nt/year=2023/month=03/day=25/hour=00/ucsd-nt.1679705700.flowtuple-v4.avro',\n",
       "       's3a://telescope-ucsdnt-avro-flowtuple-v4-2023/datasource=ucsd-nt/year=2023/month=03/day=25/hour=01/ucsd-nt.1679706000.flowtuple-v4.avro',\n",
       "       's3a://telescope-ucsdnt-avro-flowtuple-v4-2023/datasource=ucsd-nt/year=2023/month=03/day=25/hour=01/ucsd-nt.1679706300.flowtuple-v4.avro',\n",
       "       's3a://telescope-ucsdnt-avro-flowtuple-v4-2023/datasource=ucsd-nt/year=2023/month=03/day=25/hour=01/ucsd-nt.1679706600.flowtuple-v4.avro',\n",
       "       's3a://telescope-ucsdnt-avro-flowtuple-v4-2023/datasource=ucsd-nt/year=2023/month=03/day=25/hour=01/ucsd-nt.1679706900.flowtuple-v4.avro',\n",
       "       's3a://telescope-ucsdnt-avro-flowtuple-v4-2023/datasource=ucsd-nt/year=2023/month=03/day=25/hour=01/ucsd-nt.1679707200.flowtuple-v4.avro',\n",
       "       's3a://telescope-ucsdnt-avro-flowtuple-v4-2023/datasource=ucsd-nt/year=2023/month=03/day=25/hour=01/ucsd-nt.1679707500.flowtuple-v4.avro',\n",
       "       's3a://telescope-ucsdnt-avro-flowtuple-v4-2023/datasource=ucsd-nt/year=2023/month=03/day=25/hour=01/ucsd-nt.1679707800.flowtuple-v4.avro',\n",
       "       's3a://telescope-ucsdnt-avro-flowtuple-v4-2023/datasource=ucsd-nt/year=2023/month=03/day=25/hour=01/ucsd-nt.1679708100.flowtuple-v4.avro',\n",
       "       's3a://telescope-ucsdnt-avro-flowtuple-v4-2023/datasource=ucsd-nt/year=2023/month=03/day=25/hour=01/ucsd-nt.1679708400.flowtuple-v4.avro',\n",
       "       's3a://telescope-ucsdnt-avro-flowtuple-v4-2023/datasource=ucsd-nt/year=2023/month=03/day=25/hour=01/ucsd-nt.1679708700.flowtuple-v4.avro',\n",
       "       's3a://telescope-ucsdnt-avro-flowtuple-v4-2023/datasource=ucsd-nt/year=2023/month=03/day=25/hour=01/ucsd-nt.1679709000.flowtuple-v4.avro',\n",
       "       's3a://telescope-ucsdnt-avro-flowtuple-v4-2023/datasource=ucsd-nt/year=2023/month=03/day=25/hour=01/ucsd-nt.1679709300.flowtuple-v4.avro',\n",
       "       's3a://telescope-ucsdnt-avro-flowtuple-v4-2023/datasource=ucsd-nt/year=2023/month=03/day=25/hour=02/ucsd-nt.1679709600.flowtuple-v4.avro',\n",
       "       's3a://telescope-ucsdnt-avro-flowtuple-v4-2023/datasource=ucsd-nt/year=2023/month=03/day=25/hour=02/ucsd-nt.1679709900.flowtuple-v4.avro',\n",
       "       's3a://telescope-ucsdnt-avro-flowtuple-v4-2023/datasource=ucsd-nt/year=2023/month=03/day=25/hour=02/ucsd-nt.1679710200.flowtuple-v4.avro',\n",
       "       's3a://telescope-ucsdnt-avro-flowtuple-v4-2023/datasource=ucsd-nt/year=2023/month=03/day=25/hour=02/ucsd-nt.1679710500.flowtuple-v4.avro',\n",
       "       's3a://telescope-ucsdnt-avro-flowtuple-v4-2023/datasource=ucsd-nt/year=2023/month=03/day=25/hour=02/ucsd-nt.1679710800.flowtuple-v4.avro',\n",
       "       's3a://telescope-ucsdnt-avro-flowtuple-v4-2023/datasource=ucsd-nt/year=2023/month=03/day=25/hour=02/ucsd-nt.1679711100.flowtuple-v4.avro',\n",
       "       's3a://telescope-ucsdnt-avro-flowtuple-v4-2023/datasource=ucsd-nt/year=2023/month=03/day=25/hour=02/ucsd-nt.1679711400.flowtuple-v4.avro'],\n",
       "      dtype=object)"
      ]
     },
     "execution_count": 393,
     "metadata": {},
     "output_type": "execute_result"
    }
   ],
   "source": [
    "avro_df = pd.read_parquet('ft4_file_lists/ft4_2023_files.parquet.gzip')\n",
    "avro_df['datetime'] = pd.to_datetime(avro_df['datetime'])\n",
    "avro_df = avro_df.set_index('datetime')\n",
    "\n",
    "### Select .avro's within timeframe\n",
    "selected_avros = avro_df[(avro_df.index >= start_1) & (avro_df.index <= end_1)]\n",
    "print(f'Avro filecount: {len(selected_avros)}')\n",
    "\n",
    "### Build URI's\n",
    "selected_avro_uris_1 = selected_avros.filename.apply(lambda x: f's3a://telescope-ucsdnt-avro-flowtuple-v4-2023/{x}').values\n",
    "print(f'Avro uri count: {len(selected_avro_uris_1)}')\n",
    "\n",
    "selected_avro_uris_1"
   ]
  },
  {
   "cell_type": "code",
   "execution_count": 394,
   "id": "5bc4fbdb-b892-4bdd-9264-36f56d5c0779",
   "metadata": {},
   "outputs": [
    {
     "name": "stdout",
     "output_type": "stream",
     "text": [
      "Avro filecount: 25\n",
      "Avro uri count: 25\n"
     ]
    },
    {
     "data": {
      "text/plain": [
       "array(['s3a://telescope-ucsdnt-avro-flowtuple-v4-2023/datasource=ucsd-nt/year=2023/month=03/day=26/hour=04/ucsd-nt.1679805900.flowtuple-v4.avro',\n",
       "       's3a://telescope-ucsdnt-avro-flowtuple-v4-2023/datasource=ucsd-nt/year=2023/month=03/day=26/hour=04/ucsd-nt.1679806200.flowtuple-v4.avro',\n",
       "       's3a://telescope-ucsdnt-avro-flowtuple-v4-2023/datasource=ucsd-nt/year=2023/month=03/day=26/hour=04/ucsd-nt.1679806500.flowtuple-v4.avro',\n",
       "       's3a://telescope-ucsdnt-avro-flowtuple-v4-2023/datasource=ucsd-nt/year=2023/month=03/day=26/hour=05/ucsd-nt.1679806800.flowtuple-v4.avro',\n",
       "       's3a://telescope-ucsdnt-avro-flowtuple-v4-2023/datasource=ucsd-nt/year=2023/month=03/day=26/hour=05/ucsd-nt.1679807100.flowtuple-v4.avro',\n",
       "       's3a://telescope-ucsdnt-avro-flowtuple-v4-2023/datasource=ucsd-nt/year=2023/month=03/day=26/hour=05/ucsd-nt.1679807400.flowtuple-v4.avro',\n",
       "       's3a://telescope-ucsdnt-avro-flowtuple-v4-2023/datasource=ucsd-nt/year=2023/month=03/day=26/hour=05/ucsd-nt.1679807700.flowtuple-v4.avro',\n",
       "       's3a://telescope-ucsdnt-avro-flowtuple-v4-2023/datasource=ucsd-nt/year=2023/month=03/day=26/hour=05/ucsd-nt.1679808000.flowtuple-v4.avro',\n",
       "       's3a://telescope-ucsdnt-avro-flowtuple-v4-2023/datasource=ucsd-nt/year=2023/month=03/day=26/hour=05/ucsd-nt.1679808300.flowtuple-v4.avro',\n",
       "       's3a://telescope-ucsdnt-avro-flowtuple-v4-2023/datasource=ucsd-nt/year=2023/month=03/day=26/hour=05/ucsd-nt.1679808600.flowtuple-v4.avro',\n",
       "       's3a://telescope-ucsdnt-avro-flowtuple-v4-2023/datasource=ucsd-nt/year=2023/month=03/day=26/hour=05/ucsd-nt.1679808900.flowtuple-v4.avro',\n",
       "       's3a://telescope-ucsdnt-avro-flowtuple-v4-2023/datasource=ucsd-nt/year=2023/month=03/day=26/hour=05/ucsd-nt.1679809200.flowtuple-v4.avro',\n",
       "       's3a://telescope-ucsdnt-avro-flowtuple-v4-2023/datasource=ucsd-nt/year=2023/month=03/day=26/hour=05/ucsd-nt.1679809500.flowtuple-v4.avro',\n",
       "       's3a://telescope-ucsdnt-avro-flowtuple-v4-2023/datasource=ucsd-nt/year=2023/month=03/day=26/hour=05/ucsd-nt.1679809800.flowtuple-v4.avro',\n",
       "       's3a://telescope-ucsdnt-avro-flowtuple-v4-2023/datasource=ucsd-nt/year=2023/month=03/day=26/hour=05/ucsd-nt.1679810100.flowtuple-v4.avro',\n",
       "       's3a://telescope-ucsdnt-avro-flowtuple-v4-2023/datasource=ucsd-nt/year=2023/month=03/day=26/hour=06/ucsd-nt.1679810400.flowtuple-v4.avro',\n",
       "       's3a://telescope-ucsdnt-avro-flowtuple-v4-2023/datasource=ucsd-nt/year=2023/month=03/day=26/hour=06/ucsd-nt.1679810700.flowtuple-v4.avro',\n",
       "       's3a://telescope-ucsdnt-avro-flowtuple-v4-2023/datasource=ucsd-nt/year=2023/month=03/day=26/hour=06/ucsd-nt.1679811000.flowtuple-v4.avro',\n",
       "       's3a://telescope-ucsdnt-avro-flowtuple-v4-2023/datasource=ucsd-nt/year=2023/month=03/day=26/hour=06/ucsd-nt.1679811300.flowtuple-v4.avro',\n",
       "       's3a://telescope-ucsdnt-avro-flowtuple-v4-2023/datasource=ucsd-nt/year=2023/month=03/day=26/hour=06/ucsd-nt.1679811600.flowtuple-v4.avro',\n",
       "       's3a://telescope-ucsdnt-avro-flowtuple-v4-2023/datasource=ucsd-nt/year=2023/month=03/day=26/hour=06/ucsd-nt.1679811900.flowtuple-v4.avro',\n",
       "       's3a://telescope-ucsdnt-avro-flowtuple-v4-2023/datasource=ucsd-nt/year=2023/month=03/day=26/hour=06/ucsd-nt.1679812200.flowtuple-v4.avro',\n",
       "       's3a://telescope-ucsdnt-avro-flowtuple-v4-2023/datasource=ucsd-nt/year=2023/month=03/day=26/hour=06/ucsd-nt.1679812500.flowtuple-v4.avro',\n",
       "       's3a://telescope-ucsdnt-avro-flowtuple-v4-2023/datasource=ucsd-nt/year=2023/month=03/day=26/hour=06/ucsd-nt.1679812800.flowtuple-v4.avro',\n",
       "       's3a://telescope-ucsdnt-avro-flowtuple-v4-2023/datasource=ucsd-nt/year=2023/month=03/day=26/hour=06/ucsd-nt.1679813100.flowtuple-v4.avro'],\n",
       "      dtype=object)"
      ]
     },
     "execution_count": 394,
     "metadata": {},
     "output_type": "execute_result"
    }
   ],
   "source": [
    "avro_df = pd.read_parquet('ft4_file_lists/ft4_2023_files.parquet.gzip')\n",
    "avro_df['datetime'] = pd.to_datetime(avro_df['datetime'])\n",
    "avro_df = avro_df.set_index('datetime')\n",
    "\n",
    "### Select .avro's within timeframe\n",
    "selected_avros = avro_df[(avro_df.index >= start_2) & (avro_df.index <= end_2)]\n",
    "print(f'Avro filecount: {len(selected_avros)}')\n",
    "\n",
    "### Build URI's\n",
    "selected_avro_uris_2 = selected_avros.filename.apply(lambda x: f's3a://telescope-ucsdnt-avro-flowtuple-v4-2023/{x}').values\n",
    "print(f'Avro uri count: {len(selected_avro_uris_2)}')\n",
    "\n",
    "selected_avro_uris_2"
   ]
  },
  {
   "cell_type": "code",
   "execution_count": 395,
   "id": "763a26ee-20ae-4e47-8809-a18c2e5f6de6",
   "metadata": {
    "editable": true,
    "slideshow": {
     "slide_type": ""
    },
    "tags": []
   },
   "outputs": [
    {
     "name": "stdout",
     "output_type": "stream",
     "text": [
      "CPU times: user 12 ms, sys: 5.13 ms, total: 17.2 ms\n",
      "Wall time: 9.79 s\n"
     ]
    }
   ],
   "source": [
    "%%time\n",
    "\n",
    "# Load .avro's\n",
    "spark_df_1 = load_ft_pyspark(list(selected_avro_uris_1))\n",
    "spark_df_2 = load_ft_pyspark(list(selected_avro_uris_2))"
   ]
  },
  {
   "cell_type": "markdown",
   "id": "9e203cf4-969a-407f-be21-94189f1353d7",
   "metadata": {
    "editable": true,
    "slideshow": {
     "slide_type": ""
    },
    "tags": []
   },
   "source": [
    "### Apply Filters"
   ]
  },
  {
   "cell_type": "code",
   "execution_count": 396,
   "id": "03258d13-882f-4a14-8125-79358aa176e2",
   "metadata": {
    "editable": true,
    "slideshow": {
     "slide_type": ""
    },
    "tags": []
   },
   "outputs": [],
   "source": [
    "def create_filter_df(items, col_name):\n",
    "    return spark.createDataFrame(\n",
    "        [(item,) for item in items],\n",
    "        [col_name]\n",
    "    )"
   ]
  },
  {
   "cell_type": "code",
   "execution_count": 397,
   "id": "d128b42e-59ff-48ca-9648-cb264ccd8bc0",
   "metadata": {
    "editable": true,
    "slideshow": {
     "slide_type": ""
    },
    "tags": []
   },
   "outputs": [
    {
     "name": "stdout",
     "output_type": "stream",
     "text": [
      "Applying Dest. Port Filter\n"
     ]
    }
   ],
   "source": [
    "traff_df_1 = spark_df_1\n",
    "\n",
    "if len(ip_filter) > 0:\n",
    "    print(f'Applying Source IP Filter')\n",
    "    ip_filter_df = create_filter_df(ip_filter, 'src_ip')\n",
    "    traff_df_1 = traff_df_1.join(\n",
    "        F.broadcast(\n",
    "            ip_filter_df\n",
    "            ),\n",
    "        on='src_ip'\n",
    "    )\n",
    "\n",
    "if len(src_asn_filter) > 0:\n",
    "    print(f'Applying Source ASN Filter')\n",
    "    asn_filter_df = create_filter_df(src_asn_filter, 'prefix2asn')\n",
    "    traff_df_1 = traff_df_1.join(\n",
    "        F.broadcast(\n",
    "            asn_filter_df\n",
    "            ),\n",
    "        on='prefix2asn'\n",
    "    )\n",
    "    \n",
    "\n",
    "if len(dst_port_filter) > 0:\n",
    "    print(f'Applying Dest. Port Filter')\n",
    "    dp_filter_df = create_filter_df(dst_port_filter, 'dst_port')\n",
    "    traff_df_1 = traff_df_1.join(\n",
    "        F.broadcast(\n",
    "            dp_filter_df\n",
    "            ),\n",
    "        on='dst_port'\n",
    "    )"
   ]
  },
  {
   "cell_type": "code",
   "execution_count": 398,
   "id": "311a3edb-ccd0-4b63-a8fb-a6dedf1a7653",
   "metadata": {},
   "outputs": [
    {
     "name": "stdout",
     "output_type": "stream",
     "text": [
      "Applying Dest. Port Filter\n"
     ]
    }
   ],
   "source": [
    "traff_df_2 = spark_df_2\n",
    "\n",
    "if len(ip_filter) > 0:\n",
    "    print(f'Applying Source IP Filter')\n",
    "    ip_filter_df = create_filter_df(ip_filter, 'src_ip')\n",
    "    traff_df_2 = traff_df_2.join(\n",
    "        F.broadcast(\n",
    "            ip_filter_df\n",
    "            ),\n",
    "        on='src_ip'\n",
    "    )\n",
    "\n",
    "if len(src_asn_filter) > 0:\n",
    "    print(f'Applying Source ASN Filter')\n",
    "    asn_filter_df = create_filter_df(src_asn_filter, 'prefix2asn')\n",
    "    traff_df_2 = traff_df_2.join(\n",
    "        F.broadcast(\n",
    "            asn_filter_df\n",
    "            ),\n",
    "        on='prefix2asn'\n",
    "    )\n",
    "    \n",
    "\n",
    "if len(dst_port_filter) > 0:\n",
    "    print(f'Applying Dest. Port Filter')\n",
    "    dp_filter_df = create_filter_df(dst_port_filter, 'dst_port')\n",
    "    traff_df_2 = traff_df_2.join(\n",
    "        F.broadcast(\n",
    "            dp_filter_df\n",
    "            ),\n",
    "        on='dst_port'\n",
    "    )"
   ]
  },
  {
   "cell_type": "markdown",
   "id": "b186ddfd-185a-4598-8e01-4a9413c291d5",
   "metadata": {
    "editable": true,
    "slideshow": {
     "slide_type": ""
    },
    "tags": []
   },
   "source": [
    "## Traffic Metric Analysis"
   ]
  },
  {
   "cell_type": "code",
   "execution_count": 399,
   "id": "cc1cf671-25b5-454e-8949-17ad5b139240",
   "metadata": {},
   "outputs": [
    {
     "name": "stderr",
     "output_type": "stream",
     "text": [
      "                                                                                \r"
     ]
    }
   ],
   "source": [
    "test_1 = traff_df_1.groupby('time').agg(F.countDistinct('src_ip').alias('uniq_src_ip'))\\\n",
    "        .withColumn('time', traff_df_1.time.cast('string')).toPandas().astype({'time': 'datetime64[ns]'}) # Compatability fix\n",
    "test_1 = test_1.sort_values(by='time')"
   ]
  },
  {
   "cell_type": "code",
   "execution_count": 400,
   "id": "0c0445a9-e386-4146-be1a-ed474004d5a3",
   "metadata": {},
   "outputs": [
    {
     "data": {
      "text/html": [
       "<div>\n",
       "<style scoped>\n",
       "    .dataframe tbody tr th:only-of-type {\n",
       "        vertical-align: middle;\n",
       "    }\n",
       "\n",
       "    .dataframe tbody tr th {\n",
       "        vertical-align: top;\n",
       "    }\n",
       "\n",
       "    .dataframe thead th {\n",
       "        text-align: right;\n",
       "    }\n",
       "</style>\n",
       "<table border=\"1\" class=\"dataframe\">\n",
       "  <thead>\n",
       "    <tr style=\"text-align: right;\">\n",
       "      <th></th>\n",
       "      <th>time</th>\n",
       "      <th>uniq_src_ip</th>\n",
       "    </tr>\n",
       "  </thead>\n",
       "  <tbody>\n",
       "    <tr>\n",
       "      <th>23</th>\n",
       "      <td>2023-03-25 00:30:00</td>\n",
       "      <td>2372</td>\n",
       "    </tr>\n",
       "    <tr>\n",
       "      <th>12</th>\n",
       "      <td>2023-03-25 00:35:00</td>\n",
       "      <td>2417</td>\n",
       "    </tr>\n",
       "    <tr>\n",
       "      <th>9</th>\n",
       "      <td>2023-03-25 00:40:00</td>\n",
       "      <td>2415</td>\n",
       "    </tr>\n",
       "    <tr>\n",
       "      <th>10</th>\n",
       "      <td>2023-03-25 00:45:00</td>\n",
       "      <td>2433</td>\n",
       "    </tr>\n",
       "    <tr>\n",
       "      <th>15</th>\n",
       "      <td>2023-03-25 00:50:00</td>\n",
       "      <td>2467</td>\n",
       "    </tr>\n",
       "    <tr>\n",
       "      <th>8</th>\n",
       "      <td>2023-03-25 00:55:00</td>\n",
       "      <td>2429</td>\n",
       "    </tr>\n",
       "    <tr>\n",
       "      <th>17</th>\n",
       "      <td>2023-03-25 01:00:00</td>\n",
       "      <td>2517</td>\n",
       "    </tr>\n",
       "    <tr>\n",
       "      <th>11</th>\n",
       "      <td>2023-03-25 01:05:00</td>\n",
       "      <td>2399</td>\n",
       "    </tr>\n",
       "    <tr>\n",
       "      <th>21</th>\n",
       "      <td>2023-03-25 01:10:00</td>\n",
       "      <td>2404</td>\n",
       "    </tr>\n",
       "    <tr>\n",
       "      <th>20</th>\n",
       "      <td>2023-03-25 01:15:00</td>\n",
       "      <td>2374</td>\n",
       "    </tr>\n",
       "    <tr>\n",
       "      <th>14</th>\n",
       "      <td>2023-03-25 01:20:00</td>\n",
       "      <td>2349</td>\n",
       "    </tr>\n",
       "    <tr>\n",
       "      <th>0</th>\n",
       "      <td>2023-03-25 01:25:00</td>\n",
       "      <td>2348</td>\n",
       "    </tr>\n",
       "    <tr>\n",
       "      <th>1</th>\n",
       "      <td>2023-03-25 01:30:00</td>\n",
       "      <td>2355</td>\n",
       "    </tr>\n",
       "    <tr>\n",
       "      <th>16</th>\n",
       "      <td>2023-03-25 01:35:00</td>\n",
       "      <td>2310</td>\n",
       "    </tr>\n",
       "    <tr>\n",
       "      <th>2</th>\n",
       "      <td>2023-03-25 01:40:00</td>\n",
       "      <td>2340</td>\n",
       "    </tr>\n",
       "    <tr>\n",
       "      <th>7</th>\n",
       "      <td>2023-03-25 01:45:00</td>\n",
       "      <td>2340</td>\n",
       "    </tr>\n",
       "    <tr>\n",
       "      <th>13</th>\n",
       "      <td>2023-03-25 01:50:00</td>\n",
       "      <td>2397</td>\n",
       "    </tr>\n",
       "    <tr>\n",
       "      <th>24</th>\n",
       "      <td>2023-03-25 01:55:00</td>\n",
       "      <td>2343</td>\n",
       "    </tr>\n",
       "    <tr>\n",
       "      <th>5</th>\n",
       "      <td>2023-03-25 02:00:00</td>\n",
       "      <td>2360</td>\n",
       "    </tr>\n",
       "    <tr>\n",
       "      <th>3</th>\n",
       "      <td>2023-03-25 02:05:00</td>\n",
       "      <td>2360</td>\n",
       "    </tr>\n",
       "    <tr>\n",
       "      <th>18</th>\n",
       "      <td>2023-03-25 02:10:00</td>\n",
       "      <td>2331</td>\n",
       "    </tr>\n",
       "    <tr>\n",
       "      <th>22</th>\n",
       "      <td>2023-03-25 02:15:00</td>\n",
       "      <td>2359</td>\n",
       "    </tr>\n",
       "    <tr>\n",
       "      <th>6</th>\n",
       "      <td>2023-03-25 02:20:00</td>\n",
       "      <td>2373</td>\n",
       "    </tr>\n",
       "    <tr>\n",
       "      <th>4</th>\n",
       "      <td>2023-03-25 02:25:00</td>\n",
       "      <td>2344</td>\n",
       "    </tr>\n",
       "    <tr>\n",
       "      <th>19</th>\n",
       "      <td>2023-03-25 02:30:00</td>\n",
       "      <td>2378</td>\n",
       "    </tr>\n",
       "  </tbody>\n",
       "</table>\n",
       "</div>"
      ],
      "text/plain": [
       "                  time  uniq_src_ip\n",
       "23 2023-03-25 00:30:00         2372\n",
       "12 2023-03-25 00:35:00         2417\n",
       "9  2023-03-25 00:40:00         2415\n",
       "10 2023-03-25 00:45:00         2433\n",
       "15 2023-03-25 00:50:00         2467\n",
       "8  2023-03-25 00:55:00         2429\n",
       "17 2023-03-25 01:00:00         2517\n",
       "11 2023-03-25 01:05:00         2399\n",
       "21 2023-03-25 01:10:00         2404\n",
       "20 2023-03-25 01:15:00         2374\n",
       "14 2023-03-25 01:20:00         2349\n",
       "0  2023-03-25 01:25:00         2348\n",
       "1  2023-03-25 01:30:00         2355\n",
       "16 2023-03-25 01:35:00         2310\n",
       "2  2023-03-25 01:40:00         2340\n",
       "7  2023-03-25 01:45:00         2340\n",
       "13 2023-03-25 01:50:00         2397\n",
       "24 2023-03-25 01:55:00         2343\n",
       "5  2023-03-25 02:00:00         2360\n",
       "3  2023-03-25 02:05:00         2360\n",
       "18 2023-03-25 02:10:00         2331\n",
       "22 2023-03-25 02:15:00         2359\n",
       "6  2023-03-25 02:20:00         2373\n",
       "4  2023-03-25 02:25:00         2344\n",
       "19 2023-03-25 02:30:00         2378"
      ]
     },
     "execution_count": 400,
     "metadata": {},
     "output_type": "execute_result"
    }
   ],
   "source": [
    "test_1"
   ]
  },
  {
   "cell_type": "code",
   "execution_count": 401,
   "id": "cca74629-3b1e-45bd-9f9e-2e924520896a",
   "metadata": {},
   "outputs": [
    {
     "data": {
      "image/png": "[encoded data removed]",
      "text/plain": [
       "<Figure size 1000x200 with 1 Axes>"
      ]
     },
     "metadata": {},
     "output_type": "display_data"
    }
   ],
   "source": [
    "import matplotlib.pyplot as plt\n",
    "\n",
    "plt.figure(figsize=(10, 2))\n",
    "plt.plot(test_1.time, test_1.uniq_src_ip, marker='.')\n",
    "plt.grid()"
   ]
  },
  {
   "cell_type": "code",
   "execution_count": 402,
   "id": "180c9950-9e95-4544-9f25-1d4fa8029baa",
   "metadata": {},
   "outputs": [
    {
     "name": "stderr",
     "output_type": "stream",
     "text": [
      "                                                                                \r"
     ]
    }
   ],
   "source": [
    "test_2 = traff_df_2.groupby('time').agg(F.countDistinct('src_ip').alias('uniq_src_ip'))\\\n",
    "        .withColumn('time', traff_df_2.time.cast('string')).toPandas().astype({'time': 'datetime64[ns]'}) # Compatability fix\n",
    "test_2 = test_2.sort_values(by='time')"
   ]
  },
  {
   "cell_type": "code",
   "execution_count": 403,
   "id": "f0d280ba-354f-46a6-abc8-f70126b40325",
   "metadata": {},
   "outputs": [
    {
     "data": {
      "image/png": "[encoded data removed]",
      "text/plain": [
       "<Figure size 1000x200 with 1 Axes>"
      ]
     },
     "metadata": {},
     "output_type": "display_data"
    }
   ],
   "source": [
    "plt.figure(figsize=(10, 2))\n",
    "plt.plot(test_2.time, test_2.uniq_src_ip, marker='.')\n",
    "plt.grid()"
   ]
  },
  {
   "cell_type": "markdown",
   "id": "c34ddaf9-3c21-453e-afce-1c25c6f3cb01",
   "metadata": {},
   "source": [
    "### Diff: Unique Source IPs"
   ]
  },
  {
   "cell_type": "code",
   "execution_count": 404,
   "id": "076e6aa5-bc71-4632-90d4-ae26cc7d9404",
   "metadata": {},
   "outputs": [
    {
     "name": "stderr",
     "output_type": "stream",
     "text": [
      "[Stage 237:====================================================>(126 + 2) / 128]\r"
     ]
    },
    {
     "name": "stdout",
     "output_type": "stream",
     "text": [
      "+-----------+\n",
      "|uniq_src_ip|\n",
      "+-----------+\n",
      "|       4993|\n",
      "+-----------+\n",
      "\n"
     ]
    },
    {
     "name": "stderr",
     "output_type": "stream",
     "text": [
      "                                                                                \r"
     ]
    }
   ],
   "source": [
    "traff_df_1.agg(F.countDistinct('src_ip').alias('uniq_src_ip')).show()"
   ]
  },
  {
   "cell_type": "code",
   "execution_count": 405,
   "id": "7e20f49e-6124-4401-bc1f-218bfebb24af",
   "metadata": {},
   "outputs": [
    {
     "name": "stderr",
     "output_type": "stream",
     "text": [
      "[Stage 244:====================================================>(127 + 1) / 128]\r"
     ]
    },
    {
     "name": "stdout",
     "output_type": "stream",
     "text": [
      "+-----------+\n",
      "|uniq_src_ip|\n",
      "+-----------+\n",
      "|       4997|\n",
      "+-----------+\n",
      "\n"
     ]
    },
    {
     "name": "stderr",
     "output_type": "stream",
     "text": [
      "                                                                                \r"
     ]
    }
   ],
   "source": [
    "traff_df_2.agg(F.countDistinct('src_ip').alias('uniq_src_ip')).show()"
   ]
  },
  {
   "cell_type": "markdown",
   "id": "1af08ee0-b332-4eb7-9bd7-8a2b345629af",
   "metadata": {},
   "source": [
    "### Diff: Unique Source IPs (Per Country)"
   ]
  },
  {
   "cell_type": "code",
   "execution_count": 406,
   "id": "cdb21299-3cea-4773-9acf-c814fa16b2f6",
   "metadata": {},
   "outputs": [
    {
     "name": "stderr",
     "output_type": "stream",
     "text": [
      "                                                                                \r"
     ]
    }
   ],
   "source": [
    "country_usp_1 = traff_df_1.groupby('netacq_country').agg(F.countDistinct('src_ip').alias('uniq_src_ip')).toPandas()\n",
    "country_usp_2 = traff_df_2.groupby('netacq_country').agg(F.countDistinct('src_ip').alias('uniq_src_ip')).toPandas()"
   ]
  },
  {
   "cell_type": "code",
   "execution_count": 407,
   "id": "4286f08f-b8d2-4321-bb41-58657f82ecfd",
   "metadata": {},
   "outputs": [],
   "source": [
    "country_union = pd.concat([country_usp_1['netacq_country'], country_usp_2['netacq_country']]).drop_duplicates().reset_index(drop=True).values\n",
    "\n",
    "for country in country_union:\n",
    "    if country not in country_usp_1['netacq_country'].values:\n",
    "        country_usp_1 = pd.concat([pd.DataFrame([[country, 0]], columns=country_usp_1.columns), country_usp_1], ignore_index=True)\n",
    "\n",
    "    if country not in country_usp_2['netacq_country'].values:\n",
    "        country_usp_2 = pd.concat([pd.DataFrame([[country, 0]], columns=country_usp_2.columns), country_usp_2], ignore_index=True)"
   ]
  },
  {
   "cell_type": "code",
   "execution_count": 408,
   "id": "289e78fe-af52-43f3-b8e3-bc0744a11c8f",
   "metadata": {
    "scrolled": true
   },
   "outputs": [
    {
     "data": {
      "text/html": [
       "<div>\n",
       "<style scoped>\n",
       "    .dataframe tbody tr th:only-of-type {\n",
       "        vertical-align: middle;\n",
       "    }\n",
       "\n",
       "    .dataframe tbody tr th {\n",
       "        vertical-align: top;\n",
       "    }\n",
       "\n",
       "    .dataframe thead th {\n",
       "        text-align: right;\n",
       "    }\n",
       "</style>\n",
       "<table border=\"1\" class=\"dataframe\">\n",
       "  <thead>\n",
       "    <tr style=\"text-align: right;\">\n",
       "      <th></th>\n",
       "      <th>netacq_country</th>\n",
       "      <th>uniq_src_ip</th>\n",
       "    </tr>\n",
       "  </thead>\n",
       "  <tbody>\n",
       "    <tr>\n",
       "      <th>58</th>\n",
       "      <td>US</td>\n",
       "      <td>1246</td>\n",
       "    </tr>\n",
       "    <tr>\n",
       "      <th>24</th>\n",
       "      <td>CN</td>\n",
       "      <td>1203</td>\n",
       "    </tr>\n",
       "    <tr>\n",
       "      <th>45</th>\n",
       "      <td>GB</td>\n",
       "      <td>386</td>\n",
       "    </tr>\n",
       "    <tr>\n",
       "      <th>57</th>\n",
       "      <td>KR</td>\n",
       "      <td>200</td>\n",
       "    </tr>\n",
       "    <tr>\n",
       "      <th>38</th>\n",
       "      <td>ID</td>\n",
       "      <td>155</td>\n",
       "    </tr>\n",
       "    <tr>\n",
       "      <th>...</th>\n",
       "      <td>...</td>\n",
       "      <td>...</td>\n",
       "    </tr>\n",
       "    <tr>\n",
       "      <th>5</th>\n",
       "      <td>RS</td>\n",
       "      <td>0</td>\n",
       "    </tr>\n",
       "    <tr>\n",
       "      <th>6</th>\n",
       "      <td>EC</td>\n",
       "      <td>0</td>\n",
       "    </tr>\n",
       "    <tr>\n",
       "      <th>7</th>\n",
       "      <td>MD</td>\n",
       "      <td>0</td>\n",
       "    </tr>\n",
       "    <tr>\n",
       "      <th>1</th>\n",
       "      <td>BO</td>\n",
       "      <td>0</td>\n",
       "    </tr>\n",
       "    <tr>\n",
       "      <th>0</th>\n",
       "      <td>UY</td>\n",
       "      <td>0</td>\n",
       "    </tr>\n",
       "  </tbody>\n",
       "</table>\n",
       "<p>104 rows × 2 columns</p>\n",
       "</div>"
      ],
      "text/plain": [
       "   netacq_country  uniq_src_ip\n",
       "58             US         1246\n",
       "24             CN         1203\n",
       "45             GB          386\n",
       "57             KR          200\n",
       "38             ID          155\n",
       "..            ...          ...\n",
       "5              RS            0\n",
       "6              EC            0\n",
       "7              MD            0\n",
       "1              BO            0\n",
       "0              UY            0\n",
       "\n",
       "[104 rows x 2 columns]"
      ]
     },
     "execution_count": 408,
     "metadata": {},
     "output_type": "execute_result"
    }
   ],
   "source": [
    "country_usp_1.sort_values(by='uniq_src_ip', ascending=False)"
   ]
  },
  {
   "cell_type": "code",
   "execution_count": 409,
   "id": "4c607519-ceea-46d8-baba-47c93668e0ce",
   "metadata": {
    "scrolled": true
   },
   "outputs": [
    {
     "data": {
      "text/html": [
       "<div>\n",
       "<style scoped>\n",
       "    .dataframe tbody tr th:only-of-type {\n",
       "        vertical-align: middle;\n",
       "    }\n",
       "\n",
       "    .dataframe tbody tr th {\n",
       "        vertical-align: top;\n",
       "    }\n",
       "\n",
       "    .dataframe thead th {\n",
       "        text-align: right;\n",
       "    }\n",
       "</style>\n",
       "<table border=\"1\" class=\"dataframe\">\n",
       "  <thead>\n",
       "    <tr style=\"text-align: right;\">\n",
       "      <th></th>\n",
       "      <th>netacq_country</th>\n",
       "      <th>uniq_src_ip</th>\n",
       "    </tr>\n",
       "  </thead>\n",
       "  <tbody>\n",
       "    <tr>\n",
       "      <th>20</th>\n",
       "      <td>CN</td>\n",
       "      <td>1447</td>\n",
       "    </tr>\n",
       "    <tr>\n",
       "      <th>56</th>\n",
       "      <td>US</td>\n",
       "      <td>1071</td>\n",
       "    </tr>\n",
       "    <tr>\n",
       "      <th>41</th>\n",
       "      <td>GB</td>\n",
       "      <td>360</td>\n",
       "    </tr>\n",
       "    <tr>\n",
       "      <th>34</th>\n",
       "      <td>ID</td>\n",
       "      <td>180</td>\n",
       "    </tr>\n",
       "    <tr>\n",
       "      <th>14</th>\n",
       "      <td>NL</td>\n",
       "      <td>153</td>\n",
       "    </tr>\n",
       "    <tr>\n",
       "      <th>...</th>\n",
       "      <td>...</td>\n",
       "      <td>...</td>\n",
       "    </tr>\n",
       "    <tr>\n",
       "      <th>5</th>\n",
       "      <td>EE</td>\n",
       "      <td>0</td>\n",
       "    </tr>\n",
       "    <tr>\n",
       "      <th>4</th>\n",
       "      <td>IQ</td>\n",
       "      <td>0</td>\n",
       "    </tr>\n",
       "    <tr>\n",
       "      <th>3</th>\n",
       "      <td>SI</td>\n",
       "      <td>0</td>\n",
       "    </tr>\n",
       "    <tr>\n",
       "      <th>2</th>\n",
       "      <td>GA</td>\n",
       "      <td>0</td>\n",
       "    </tr>\n",
       "    <tr>\n",
       "      <th>0</th>\n",
       "      <td>AO</td>\n",
       "      <td>0</td>\n",
       "    </tr>\n",
       "  </tbody>\n",
       "</table>\n",
       "<p>104 rows × 2 columns</p>\n",
       "</div>"
      ],
      "text/plain": [
       "   netacq_country  uniq_src_ip\n",
       "20             CN         1447\n",
       "56             US         1071\n",
       "41             GB          360\n",
       "34             ID          180\n",
       "14             NL          153\n",
       "..            ...          ...\n",
       "5              EE            0\n",
       "4              IQ            0\n",
       "3              SI            0\n",
       "2              GA            0\n",
       "0              AO            0\n",
       "\n",
       "[104 rows x 2 columns]"
      ]
     },
     "execution_count": 409,
     "metadata": {},
     "output_type": "execute_result"
    }
   ],
   "source": [
    "country_usp_2.sort_values(by='uniq_src_ip', ascending=False)"
   ]
  },
  {
   "cell_type": "code",
   "execution_count": 410,
   "id": "e5402133-78ba-4641-b3ba-e741429ea5e7",
   "metadata": {},
   "outputs": [
    {
     "data": {
      "text/html": [
       "<div>\n",
       "<style scoped>\n",
       "    .dataframe tbody tr th:only-of-type {\n",
       "        vertical-align: middle;\n",
       "    }\n",
       "\n",
       "    .dataframe tbody tr th {\n",
       "        vertical-align: top;\n",
       "    }\n",
       "\n",
       "    .dataframe thead th {\n",
       "        text-align: right;\n",
       "    }\n",
       "</style>\n",
       "<table border=\"1\" class=\"dataframe\">\n",
       "  <thead>\n",
       "    <tr style=\"text-align: right;\">\n",
       "      <th></th>\n",
       "      <th>netacq_country</th>\n",
       "      <th>uniq_src_ip_df1</th>\n",
       "      <th>uniq_src_ip_df2</th>\n",
       "      <th>ip_diff</th>\n",
       "    </tr>\n",
       "  </thead>\n",
       "  <tbody>\n",
       "    <tr>\n",
       "      <th>24</th>\n",
       "      <td>CN</td>\n",
       "      <td>1203</td>\n",
       "      <td>1447</td>\n",
       "      <td>244</td>\n",
       "    </tr>\n",
       "    <tr>\n",
       "      <th>32</th>\n",
       "      <td>HK</td>\n",
       "      <td>82</td>\n",
       "      <td>112</td>\n",
       "      <td>30</td>\n",
       "    </tr>\n",
       "    <tr>\n",
       "      <th>38</th>\n",
       "      <td>ID</td>\n",
       "      <td>155</td>\n",
       "      <td>180</td>\n",
       "      <td>25</td>\n",
       "    </tr>\n",
       "    <tr>\n",
       "      <th>26</th>\n",
       "      <td>RU</td>\n",
       "      <td>116</td>\n",
       "      <td>133</td>\n",
       "      <td>17</td>\n",
       "    </tr>\n",
       "    <tr>\n",
       "      <th>61</th>\n",
       "      <td>IN</td>\n",
       "      <td>99</td>\n",
       "      <td>114</td>\n",
       "      <td>15</td>\n",
       "    </tr>\n",
       "    <tr>\n",
       "      <th>22</th>\n",
       "      <td>MX</td>\n",
       "      <td>44</td>\n",
       "      <td>55</td>\n",
       "      <td>11</td>\n",
       "    </tr>\n",
       "    <tr>\n",
       "      <th>74</th>\n",
       "      <td>PH</td>\n",
       "      <td>4</td>\n",
       "      <td>11</td>\n",
       "      <td>7</td>\n",
       "    </tr>\n",
       "    <tr>\n",
       "      <th>30</th>\n",
       "      <td>PT</td>\n",
       "      <td>130</td>\n",
       "      <td>137</td>\n",
       "      <td>7</td>\n",
       "    </tr>\n",
       "    <tr>\n",
       "      <th>60</th>\n",
       "      <td>MY</td>\n",
       "      <td>5</td>\n",
       "      <td>11</td>\n",
       "      <td>6</td>\n",
       "    </tr>\n",
       "    <tr>\n",
       "      <th>62</th>\n",
       "      <td>AE</td>\n",
       "      <td>5</td>\n",
       "      <td>11</td>\n",
       "      <td>6</td>\n",
       "    </tr>\n",
       "  </tbody>\n",
       "</table>\n",
       "</div>"
      ],
      "text/plain": [
       "   netacq_country  uniq_src_ip_df1  uniq_src_ip_df2  ip_diff\n",
       "24             CN             1203             1447      244\n",
       "32             HK               82              112       30\n",
       "38             ID              155              180       25\n",
       "26             RU              116              133       17\n",
       "61             IN               99              114       15\n",
       "22             MX               44               55       11\n",
       "74             PH                4               11        7\n",
       "30             PT              130              137        7\n",
       "60             MY                5               11        6\n",
       "62             AE                5               11        6"
      ]
     },
     "execution_count": 410,
     "metadata": {},
     "output_type": "execute_result"
    }
   ],
   "source": [
    "merged_df = pd.merge(country_usp_1, country_usp_2, on='netacq_country', suffixes=('_df1', '_df2'))\n",
    "merged_df['ip_diff'] =  merged_df['uniq_src_ip_df2'] - merged_df['uniq_src_ip_df1']\n",
    "merged_df.sort_values(by='ip_diff', ascending=False).head(10)"
   ]
  },
  {
   "cell_type": "code",
   "execution_count": 411,
   "id": "5e80d3a1-89c0-4606-94b2-19fb0494dea7",
   "metadata": {},
   "outputs": [
    {
     "data": {
      "text/plain": [
       "netacq_country     SCUAROPLPSAMEEATIQNPCZPYLYAUPKSACAGBBRDEESMOVE...\n",
       "uniq_src_ip_df1                                                 2648\n",
       "uniq_src_ip_df2                                                 2225\n",
       "ip_diff                                                         -423\n",
       "dtype: object"
      ]
     },
     "execution_count": 411,
     "metadata": {},
     "output_type": "execute_result"
    }
   ],
   "source": [
    "merged_df[merged_df['ip_diff'] < 0].sum()"
   ]
  },
  {
   "cell_type": "markdown",
   "id": "dc4fe014-a88d-42cb-95ca-e7a25b8e3deb",
   "metadata": {},
   "source": [
    "### Diff: Unique Source IPs - Per AS"
   ]
  },
  {
   "cell_type": "code",
   "execution_count": 412,
   "id": "b0028e0d-265a-44e2-8fd2-440dd08910ad",
   "metadata": {},
   "outputs": [
    {
     "name": "stderr",
     "output_type": "stream",
     "text": [
      "                                                                                \r"
     ]
    }
   ],
   "source": [
    "asn_usp_1 = traff_df_1.groupby('prefix2asn').agg(F.countDistinct('src_ip').alias('uniq_src_ip')).toPandas()\n",
    "asn_usp_2 = traff_df_2.groupby('prefix2asn').agg(F.countDistinct('src_ip').alias('uniq_src_ip')).toPandas()"
   ]
  },
  {
   "cell_type": "code",
   "execution_count": 413,
   "id": "e948e22f-83db-49ef-ae7e-98a89cea2d5b",
   "metadata": {},
   "outputs": [],
   "source": [
    "asn_union = pd.concat([asn_usp_1['prefix2asn'], asn_usp_2['prefix2asn']]).drop_duplicates().reset_index(drop=True).values\n",
    "\n",
    "for asn_ in asn_union:\n",
    "    if asn_ not in asn_usp_1['prefix2asn'].values:\n",
    "        asn_usp_1 = pd.concat([pd.DataFrame([[asn_, 0]], columns=asn_usp_1.columns), asn_usp_1], ignore_index=True)\n",
    "\n",
    "    if asn_ not in asn_usp_1['prefix2asn'].values:\n",
    "        asn_usp_2 = pd.concat([pd.DataFrame([[asn_, 0]], columns=asn_usp_2.columns), asn_usp_2], ignore_index=True)"
   ]
  },
  {
   "cell_type": "code",
   "execution_count": 414,
   "id": "52468f44-3d25-43a7-a4e5-747ba617b5a0",
   "metadata": {},
   "outputs": [
    {
     "data": {
      "text/html": [
       "<div>\n",
       "<style scoped>\n",
       "    .dataframe tbody tr th:only-of-type {\n",
       "        vertical-align: middle;\n",
       "    }\n",
       "\n",
       "    .dataframe tbody tr th {\n",
       "        vertical-align: top;\n",
       "    }\n",
       "\n",
       "    .dataframe thead th {\n",
       "        text-align: right;\n",
       "    }\n",
       "</style>\n",
       "<table border=\"1\" class=\"dataframe\">\n",
       "  <thead>\n",
       "    <tr style=\"text-align: right;\">\n",
       "      <th></th>\n",
       "      <th>prefix2asn</th>\n",
       "      <th>uniq_src_ip</th>\n",
       "    </tr>\n",
       "  </thead>\n",
       "  <tbody>\n",
       "    <tr>\n",
       "      <th>164</th>\n",
       "      <td>8075</td>\n",
       "      <td>432</td>\n",
       "    </tr>\n",
       "    <tr>\n",
       "      <th>325</th>\n",
       "      <td>4134</td>\n",
       "      <td>363</td>\n",
       "    </tr>\n",
       "    <tr>\n",
       "      <th>664</th>\n",
       "      <td>211298</td>\n",
       "      <td>253</td>\n",
       "    </tr>\n",
       "    <tr>\n",
       "      <th>871</th>\n",
       "      <td>4837</td>\n",
       "      <td>241</td>\n",
       "    </tr>\n",
       "    <tr>\n",
       "      <th>177</th>\n",
       "      <td>16276</td>\n",
       "      <td>173</td>\n",
       "    </tr>\n",
       "    <tr>\n",
       "      <th>...</th>\n",
       "      <td>...</td>\n",
       "      <td>...</td>\n",
       "    </tr>\n",
       "    <tr>\n",
       "      <th>109</th>\n",
       "      <td>31608</td>\n",
       "      <td>0</td>\n",
       "    </tr>\n",
       "    <tr>\n",
       "      <th>108</th>\n",
       "      <td>18106</td>\n",
       "      <td>0</td>\n",
       "    </tr>\n",
       "    <tr>\n",
       "      <th>107</th>\n",
       "      <td>38195</td>\n",
       "      <td>0</td>\n",
       "    </tr>\n",
       "    <tr>\n",
       "      <th>106</th>\n",
       "      <td>51604</td>\n",
       "      <td>0</td>\n",
       "    </tr>\n",
       "    <tr>\n",
       "      <th>0</th>\n",
       "      <td>14775</td>\n",
       "      <td>0</td>\n",
       "    </tr>\n",
       "  </tbody>\n",
       "</table>\n",
       "<p>898 rows × 2 columns</p>\n",
       "</div>"
      ],
      "text/plain": [
       "     prefix2asn  uniq_src_ip\n",
       "164        8075          432\n",
       "325        4134          363\n",
       "664      211298          253\n",
       "871        4837          241\n",
       "177       16276          173\n",
       "..          ...          ...\n",
       "109       31608            0\n",
       "108       18106            0\n",
       "107       38195            0\n",
       "106       51604            0\n",
       "0         14775            0\n",
       "\n",
       "[898 rows x 2 columns]"
      ]
     },
     "execution_count": 414,
     "metadata": {},
     "output_type": "execute_result"
    }
   ],
   "source": [
    "asn_usp_1.sort_values(by='uniq_src_ip', ascending=False)"
   ]
  },
  {
   "cell_type": "code",
   "execution_count": 415,
   "id": "8d198625-2b42-4f1c-9388-aa64fb8604d5",
   "metadata": {},
   "outputs": [
    {
     "data": {
      "text/html": [
       "<div>\n",
       "<style scoped>\n",
       "    .dataframe tbody tr th:only-of-type {\n",
       "        vertical-align: middle;\n",
       "    }\n",
       "\n",
       "    .dataframe tbody tr th {\n",
       "        vertical-align: top;\n",
       "    }\n",
       "\n",
       "    .dataframe thead th {\n",
       "        text-align: right;\n",
       "    }\n",
       "</style>\n",
       "<table border=\"1\" class=\"dataframe\">\n",
       "  <thead>\n",
       "    <tr style=\"text-align: right;\">\n",
       "      <th></th>\n",
       "      <th>prefix2asn</th>\n",
       "      <th>uniq_src_ip</th>\n",
       "    </tr>\n",
       "  </thead>\n",
       "  <tbody>\n",
       "    <tr>\n",
       "      <th>153</th>\n",
       "      <td>4134</td>\n",
       "      <td>490</td>\n",
       "    </tr>\n",
       "    <tr>\n",
       "      <th>660</th>\n",
       "      <td>4837</td>\n",
       "      <td>293</td>\n",
       "    </tr>\n",
       "    <tr>\n",
       "      <th>0</th>\n",
       "      <td>8075</td>\n",
       "      <td>272</td>\n",
       "    </tr>\n",
       "    <tr>\n",
       "      <th>468</th>\n",
       "      <td>211298</td>\n",
       "      <td>252</td>\n",
       "    </tr>\n",
       "    <tr>\n",
       "      <th>563</th>\n",
       "      <td>135377</td>\n",
       "      <td>231</td>\n",
       "    </tr>\n",
       "    <tr>\n",
       "      <th>...</th>\n",
       "      <td>...</td>\n",
       "      <td>...</td>\n",
       "    </tr>\n",
       "    <tr>\n",
       "      <th>388</th>\n",
       "      <td>6871</td>\n",
       "      <td>1</td>\n",
       "    </tr>\n",
       "    <tr>\n",
       "      <th>152</th>\n",
       "      <td>14782</td>\n",
       "      <td>1</td>\n",
       "    </tr>\n",
       "    <tr>\n",
       "      <th>386</th>\n",
       "      <td>16904</td>\n",
       "      <td>1</td>\n",
       "    </tr>\n",
       "    <tr>\n",
       "      <th>385</th>\n",
       "      <td>2856</td>\n",
       "      <td>1</td>\n",
       "    </tr>\n",
       "    <tr>\n",
       "      <th>689</th>\n",
       "      <td>61680</td>\n",
       "      <td>1</td>\n",
       "    </tr>\n",
       "  </tbody>\n",
       "</table>\n",
       "<p>690 rows × 2 columns</p>\n",
       "</div>"
      ],
      "text/plain": [
       "     prefix2asn  uniq_src_ip\n",
       "153        4134          490\n",
       "660        4837          293\n",
       "0          8075          272\n",
       "468      211298          252\n",
       "563      135377          231\n",
       "..          ...          ...\n",
       "388        6871            1\n",
       "152       14782            1\n",
       "386       16904            1\n",
       "385        2856            1\n",
       "689       61680            1\n",
       "\n",
       "[690 rows x 2 columns]"
      ]
     },
     "execution_count": 415,
     "metadata": {},
     "output_type": "execute_result"
    }
   ],
   "source": [
    "asn_usp_2.sort_values(by='uniq_src_ip', ascending=False)"
   ]
  },
  {
   "cell_type": "code",
   "execution_count": 416,
   "id": "fe9805fb-2182-442d-8b3a-1177705c9d03",
   "metadata": {},
   "outputs": [
    {
     "data": {
      "text/html": [
       "<div>\n",
       "<style scoped>\n",
       "    .dataframe tbody tr th:only-of-type {\n",
       "        vertical-align: middle;\n",
       "    }\n",
       "\n",
       "    .dataframe tbody tr th {\n",
       "        vertical-align: top;\n",
       "    }\n",
       "\n",
       "    .dataframe thead th {\n",
       "        text-align: right;\n",
       "    }\n",
       "</style>\n",
       "<table border=\"1\" class=\"dataframe\">\n",
       "  <thead>\n",
       "    <tr style=\"text-align: right;\">\n",
       "      <th></th>\n",
       "      <th>prefix2asn</th>\n",
       "      <th>uniq_src_ip_df1</th>\n",
       "      <th>uniq_src_ip_df2</th>\n",
       "      <th>ip_diff</th>\n",
       "    </tr>\n",
       "  </thead>\n",
       "  <tbody>\n",
       "    <tr>\n",
       "      <th>599</th>\n",
       "      <td>135377</td>\n",
       "      <td>71</td>\n",
       "      <td>231</td>\n",
       "      <td>160</td>\n",
       "    </tr>\n",
       "    <tr>\n",
       "      <th>283</th>\n",
       "      <td>4134</td>\n",
       "      <td>363</td>\n",
       "      <td>490</td>\n",
       "      <td>127</td>\n",
       "    </tr>\n",
       "    <tr>\n",
       "      <th>673</th>\n",
       "      <td>4837</td>\n",
       "      <td>241</td>\n",
       "      <td>293</td>\n",
       "      <td>52</td>\n",
       "    </tr>\n",
       "    <tr>\n",
       "      <th>384</th>\n",
       "      <td>9808</td>\n",
       "      <td>85</td>\n",
       "      <td>112</td>\n",
       "      <td>27</td>\n",
       "    </tr>\n",
       "    <tr>\n",
       "      <th>271</th>\n",
       "      <td>17623</td>\n",
       "      <td>40</td>\n",
       "      <td>58</td>\n",
       "      <td>18</td>\n",
       "    </tr>\n",
       "    <tr>\n",
       "      <th>8</th>\n",
       "      <td>12668</td>\n",
       "      <td>0</td>\n",
       "      <td>14</td>\n",
       "      <td>14</td>\n",
       "    </tr>\n",
       "    <tr>\n",
       "      <th>233</th>\n",
       "      <td>202425</td>\n",
       "      <td>26</td>\n",
       "      <td>39</td>\n",
       "      <td>13</td>\n",
       "    </tr>\n",
       "    <tr>\n",
       "      <th>403</th>\n",
       "      <td>9829</td>\n",
       "      <td>47</td>\n",
       "      <td>60</td>\n",
       "      <td>13</td>\n",
       "    </tr>\n",
       "    <tr>\n",
       "      <th>349</th>\n",
       "      <td>14061</td>\n",
       "      <td>136</td>\n",
       "      <td>146</td>\n",
       "      <td>10</td>\n",
       "    </tr>\n",
       "    <tr>\n",
       "      <th>285</th>\n",
       "      <td>4808</td>\n",
       "      <td>25</td>\n",
       "      <td>35</td>\n",
       "      <td>10</td>\n",
       "    </tr>\n",
       "  </tbody>\n",
       "</table>\n",
       "</div>"
      ],
      "text/plain": [
       "     prefix2asn  uniq_src_ip_df1  uniq_src_ip_df2  ip_diff\n",
       "599      135377               71              231      160\n",
       "283        4134              363              490      127\n",
       "673        4837              241              293       52\n",
       "384        9808               85              112       27\n",
       "271       17623               40               58       18\n",
       "8         12668                0               14       14\n",
       "233      202425               26               39       13\n",
       "403        9829               47               60       13\n",
       "349       14061              136              146       10\n",
       "285        4808               25               35       10"
      ]
     },
     "execution_count": 416,
     "metadata": {},
     "output_type": "execute_result"
    }
   ],
   "source": [
    "merged_df = pd.merge(asn_usp_1, asn_usp_2, on='prefix2asn', suffixes=('_df1', '_df2'))\n",
    "merged_df['ip_diff'] =  merged_df['uniq_src_ip_df2'] - merged_df['uniq_src_ip_df1']\n",
    "merged_df.sort_values(by='ip_diff', ascending=False).head(10)"
   ]
  },
  {
   "cell_type": "code",
   "execution_count": 462,
   "id": "72094ec2-0916-4aed-b4c3-61a0781edd39",
   "metadata": {},
   "outputs": [
    {
     "data": {
      "text/plain": [
       "4837"
      ]
     },
     "execution_count": 462,
     "metadata": {},
     "output_type": "execute_result"
    }
   ],
   "source": [
    "asn_top_diff = int(merged_df.sort_values(by='ip_diff', ascending=False).iloc[2]['prefix2asn'])\n",
    "asn_top_diff"
   ]
  },
  {
   "cell_type": "code",
   "execution_count": 463,
   "id": "fc7d8709-20ed-4a17-a546-a167e980abdd",
   "metadata": {},
   "outputs": [
    {
     "name": "stderr",
     "output_type": "stream",
     "text": [
      "Exception in thread \"serve-DataFrame\" java.net.SocketTimeoutException: Accept timed out\n",
      "\tat java.base/java.net.PlainSocketImpl.socketAccept(Native Method)\n",
      "\tat java.base/java.net.AbstractPlainSocketImpl.accept(AbstractPlainSocketImpl.java:458)\n",
      "\tat java.base/java.net.ServerSocket.implAccept(ServerSocket.java:551)\n",
      "\tat java.base/java.net.ServerSocket.accept(ServerSocket.java:519)\n",
      "\tat org.apache.spark.security.SocketAuthServer$$anon$1.run(SocketAuthServer.scala:64)\n",
      "                                                                                \r"
     ]
    }
   ],
   "source": [
    "from pyspark.sql.functions import date_format\n",
    "\n",
    "top_as_df_1 = traff_df_1.where(traff_df_1.prefix2asn == asn_top_diff).select(\n",
    "    date_format(\"time\", \"yyyy-MM-dd HH:mm:ss\").alias(\"time\"), \n",
    "    \"src_ip\",\n",
    "    \"dst_net\",\n",
    "    \"netacq_country\",\n",
    "    \"dst_port\",\n",
    "    \"packet_cnt\",\n",
    "    \"prefix2asn\"\n",
    ").toPandas()\n",
    "\n",
    "# top_as_df_1\n"
   ]
  },
  {
   "cell_type": "code",
   "execution_count": 464,
   "id": "bb77392c-bd4b-47fd-a8fb-1c03dc93bf1d",
   "metadata": {},
   "outputs": [
    {
     "data": {
      "text/html": [
       "<div>\n",
       "<style scoped>\n",
       "    .dataframe tbody tr th:only-of-type {\n",
       "        vertical-align: middle;\n",
       "    }\n",
       "\n",
       "    .dataframe tbody tr th {\n",
       "        vertical-align: top;\n",
       "    }\n",
       "\n",
       "    .dataframe thead th {\n",
       "        text-align: right;\n",
       "    }\n",
       "</style>\n",
       "<table border=\"1\" class=\"dataframe\">\n",
       "  <thead>\n",
       "    <tr style=\"text-align: right;\">\n",
       "      <th></th>\n",
       "      <th>time</th>\n",
       "      <th>src_ip</th>\n",
       "      <th>dst_net</th>\n",
       "      <th>netacq_country</th>\n",
       "      <th>dst_port</th>\n",
       "      <th>packet_cnt</th>\n",
       "      <th>prefix2asn</th>\n",
       "    </tr>\n",
       "  </thead>\n",
       "  <tbody>\n",
       "    <tr>\n",
       "      <th>39851</th>\n",
       "      <td>2023-03-25 01:50:00</td>\n",
       "      <td>1956824770</td>\n",
       "      <td>741146624</td>\n",
       "      <td>CN</td>\n",
       "      <td>7547</td>\n",
       "      <td>1248</td>\n",
       "      <td>4837</td>\n",
       "    </tr>\n",
       "    <tr>\n",
       "      <th>39936</th>\n",
       "      <td>2023-03-25 01:50:00</td>\n",
       "      <td>1956824770</td>\n",
       "      <td>742326272</td>\n",
       "      <td>CN</td>\n",
       "      <td>7547</td>\n",
       "      <td>1238</td>\n",
       "      <td>4837</td>\n",
       "    </tr>\n",
       "    <tr>\n",
       "      <th>39771</th>\n",
       "      <td>2023-03-25 01:50:00</td>\n",
       "      <td>1956824770</td>\n",
       "      <td>739966976</td>\n",
       "      <td>CN</td>\n",
       "      <td>7547</td>\n",
       "      <td>1222</td>\n",
       "      <td>4837</td>\n",
       "    </tr>\n",
       "    <tr>\n",
       "      <th>39988</th>\n",
       "      <td>2023-03-25 01:50:00</td>\n",
       "      <td>1956824770</td>\n",
       "      <td>743047168</td>\n",
       "      <td>CN</td>\n",
       "      <td>7547</td>\n",
       "      <td>1214</td>\n",
       "      <td>4837</td>\n",
       "    </tr>\n",
       "    <tr>\n",
       "      <th>39697</th>\n",
       "      <td>2023-03-25 01:50:00</td>\n",
       "      <td>1956824770</td>\n",
       "      <td>738787328</td>\n",
       "      <td>CN</td>\n",
       "      <td>7547</td>\n",
       "      <td>1213</td>\n",
       "      <td>4837</td>\n",
       "    </tr>\n",
       "    <tr>\n",
       "      <th>...</th>\n",
       "      <td>...</td>\n",
       "      <td>...</td>\n",
       "      <td>...</td>\n",
       "      <td>...</td>\n",
       "      <td>...</td>\n",
       "      <td>...</td>\n",
       "      <td>...</td>\n",
       "    </tr>\n",
       "    <tr>\n",
       "      <th>31898</th>\n",
       "      <td>2023-03-25 01:30:00</td>\n",
       "      <td>2063907392</td>\n",
       "      <td>749535232</td>\n",
       "      <td>CN</td>\n",
       "      <td>5060</td>\n",
       "      <td>1</td>\n",
       "      <td>4837</td>\n",
       "    </tr>\n",
       "    <tr>\n",
       "      <th>31899</th>\n",
       "      <td>2023-03-25 01:30:00</td>\n",
       "      <td>2063915909</td>\n",
       "      <td>738590720</td>\n",
       "      <td>CN</td>\n",
       "      <td>5060</td>\n",
       "      <td>1</td>\n",
       "      <td>4837</td>\n",
       "    </tr>\n",
       "    <tr>\n",
       "      <th>31900</th>\n",
       "      <td>2023-03-25 01:30:00</td>\n",
       "      <td>2063915909</td>\n",
       "      <td>739246080</td>\n",
       "      <td>CN</td>\n",
       "      <td>5060</td>\n",
       "      <td>1</td>\n",
       "      <td>4837</td>\n",
       "    </tr>\n",
       "    <tr>\n",
       "      <th>31901</th>\n",
       "      <td>2023-03-25 01:30:00</td>\n",
       "      <td>2063915909</td>\n",
       "      <td>740753408</td>\n",
       "      <td>CN</td>\n",
       "      <td>5060</td>\n",
       "      <td>1</td>\n",
       "      <td>4837</td>\n",
       "    </tr>\n",
       "    <tr>\n",
       "      <th>75494</th>\n",
       "      <td>2023-03-25 02:30:00</td>\n",
       "      <td>3733882634</td>\n",
       "      <td>749404160</td>\n",
       "      <td>CN</td>\n",
       "      <td>5060</td>\n",
       "      <td>1</td>\n",
       "      <td>4837</td>\n",
       "    </tr>\n",
       "  </tbody>\n",
       "</table>\n",
       "<p>75495 rows × 7 columns</p>\n",
       "</div>"
      ],
      "text/plain": [
       "                      time      src_ip    dst_net netacq_country  dst_port  \\\n",
       "39851  2023-03-25 01:50:00  1956824770  741146624             CN      7547   \n",
       "39936  2023-03-25 01:50:00  1956824770  742326272             CN      7547   \n",
       "39771  2023-03-25 01:50:00  1956824770  739966976             CN      7547   \n",
       "39988  2023-03-25 01:50:00  1956824770  743047168             CN      7547   \n",
       "39697  2023-03-25 01:50:00  1956824770  738787328             CN      7547   \n",
       "...                    ...         ...        ...            ...       ...   \n",
       "31898  2023-03-25 01:30:00  2063907392  749535232             CN      5060   \n",
       "31899  2023-03-25 01:30:00  2063915909  738590720             CN      5060   \n",
       "31900  2023-03-25 01:30:00  2063915909  739246080             CN      5060   \n",
       "31901  2023-03-25 01:30:00  2063915909  740753408             CN      5060   \n",
       "75494  2023-03-25 02:30:00  3733882634  749404160             CN      5060   \n",
       "\n",
       "       packet_cnt  prefix2asn  \n",
       "39851        1248        4837  \n",
       "39936        1238        4837  \n",
       "39771        1222        4837  \n",
       "39988        1214        4837  \n",
       "39697        1213        4837  \n",
       "...           ...         ...  \n",
       "31898           1        4837  \n",
       "31899           1        4837  \n",
       "31900           1        4837  \n",
       "31901           1        4837  \n",
       "75494           1        4837  \n",
       "\n",
       "[75495 rows x 7 columns]"
      ]
     },
     "execution_count": 464,
     "metadata": {},
     "output_type": "execute_result"
    }
   ],
   "source": [
    "top_as_df_1.sort_values(by='packet_cnt', ascending=False)"
   ]
  },
  {
   "cell_type": "code",
   "execution_count": 465,
   "id": "94a477d9-2bc4-496f-bd97-51e1abdc7f01",
   "metadata": {},
   "outputs": [
    {
     "data": {
      "image/png": "[encoded data removed]",
      "text/plain": [
       "<Figure size 500x500 with 1 Axes>"
      ]
     },
     "metadata": {},
     "output_type": "display_data"
    }
   ],
   "source": [
    "# Initialize the bin counts\n",
    "pkt_cnt_df_1 = top_as_df_1['packet_cnt'].tolist()\n",
    "\n",
    "# Using Freedman-Diaconis Rule to calculate bin size\n",
    "q75, q25 = np.percentile(pkt_cnt_df_1, [75 ,25])\n",
    "iqr = q75 - q25\n",
    "\n",
    "if iqr > 0:\n",
    "    bin_width = 2 * iqr * len(pkt_cnt_df_1) ** (-1/3)\n",
    "    bins = max(1, round((max(pkt_cnt_df_1) - min(pkt_cnt_df_1)) / bin_width))\n",
    "else:\n",
    "    # Fallback to default binning strategy\n",
    "    bins = 'auto'\n",
    "\n",
    "# Generating histogram data\n",
    "counts, bin_edges = np.histogram(pkt_cnt_df_1, bins=bins)\n",
    "\n",
    "# Convert counts to probabilities\n",
    "probabilities = counts / len(pkt_cnt_df_1)\n",
    "\n",
    "# Converting histogram to CDF\n",
    "cdf = np.cumsum(probabilities)\n",
    "\n",
    "# Plotting the CDF\n",
    "plt.figure(figsize=(5, 5))\n",
    "plt.plot(bin_edges[:-1], cdf, drawstyle='steps-pre', marker='o', color='blue', alpha=0.7)\n",
    "plt.title('Baseline Packet CDF')\n",
    "plt.xlabel('Packet Count Range')\n",
    "plt.ylabel('Cumulative Probability')\n",
    "plt.grid(True)\n",
    "plt.show()\n"
   ]
  },
  {
   "cell_type": "code",
   "execution_count": 466,
   "id": "6817614a-497c-4956-a0b6-1be1626d932b",
   "metadata": {},
   "outputs": [
    {
     "name": "stderr",
     "output_type": "stream",
     "text": [
      "                                                                                \r"
     ]
    }
   ],
   "source": [
    "from pyspark.sql.functions import date_format\n",
    "\n",
    "top_as_df_2 = traff_df_2.where(traff_df_2.prefix2asn == asn_top_diff).select(\n",
    "    date_format(\"time\", \"yyyy-MM-dd HH:mm:ss\").alias(\"time\"), \n",
    "    \"src_ip\",\n",
    "    \"dst_net\",\n",
    "    \"netacq_country\",\n",
    "    \"dst_port\",\n",
    "    \"packet_cnt\",\n",
    "    \"prefix2asn\",\n",
    "    \"common_srcports\"\n",
    ").toPandas()\n",
    "\n",
    "# top_as_df_1\n"
   ]
  },
  {
   "cell_type": "code",
   "execution_count": 467,
   "id": "485cc994-d589-462b-bfa0-0a78f4473712",
   "metadata": {},
   "outputs": [
    {
     "data": {
      "text/html": [
       "<div>\n",
       "<style scoped>\n",
       "    .dataframe tbody tr th:only-of-type {\n",
       "        vertical-align: middle;\n",
       "    }\n",
       "\n",
       "    .dataframe tbody tr th {\n",
       "        vertical-align: top;\n",
       "    }\n",
       "\n",
       "    .dataframe thead th {\n",
       "        text-align: right;\n",
       "    }\n",
       "</style>\n",
       "<table border=\"1\" class=\"dataframe\">\n",
       "  <thead>\n",
       "    <tr style=\"text-align: right;\">\n",
       "      <th></th>\n",
       "      <th>time</th>\n",
       "      <th>src_ip</th>\n",
       "      <th>dst_net</th>\n",
       "      <th>netacq_country</th>\n",
       "      <th>dst_port</th>\n",
       "      <th>packet_cnt</th>\n",
       "      <th>prefix2asn</th>\n",
       "      <th>common_srcports</th>\n",
       "    </tr>\n",
       "  </thead>\n",
       "  <tbody>\n",
       "    <tr>\n",
       "      <th>2408</th>\n",
       "      <td>2023-03-26 04:50:00</td>\n",
       "      <td>1731739012</td>\n",
       "      <td>742719488</td>\n",
       "      <td>CN</td>\n",
       "      <td>3306</td>\n",
       "      <td>9387</td>\n",
       "      <td>4837</td>\n",
       "      <td>[]</td>\n",
       "    </tr>\n",
       "    <tr>\n",
       "      <th>2406</th>\n",
       "      <td>2023-03-26 04:50:00</td>\n",
       "      <td>1731739012</td>\n",
       "      <td>742588416</td>\n",
       "      <td>CN</td>\n",
       "      <td>3306</td>\n",
       "      <td>9355</td>\n",
       "      <td>4837</td>\n",
       "      <td>[]</td>\n",
       "    </tr>\n",
       "    <tr>\n",
       "      <th>2417</th>\n",
       "      <td>2023-03-26 04:50:00</td>\n",
       "      <td>1731739012</td>\n",
       "      <td>743309312</td>\n",
       "      <td>CN</td>\n",
       "      <td>3306</td>\n",
       "      <td>9332</td>\n",
       "      <td>4837</td>\n",
       "      <td>[]</td>\n",
       "    </tr>\n",
       "    <tr>\n",
       "      <th>2410</th>\n",
       "      <td>2023-03-26 04:50:00</td>\n",
       "      <td>1731739012</td>\n",
       "      <td>742850560</td>\n",
       "      <td>CN</td>\n",
       "      <td>3306</td>\n",
       "      <td>9323</td>\n",
       "      <td>4837</td>\n",
       "      <td>[]</td>\n",
       "    </tr>\n",
       "    <tr>\n",
       "      <th>2416</th>\n",
       "      <td>2023-03-26 04:50:00</td>\n",
       "      <td>1731739012</td>\n",
       "      <td>743243776</td>\n",
       "      <td>CN</td>\n",
       "      <td>3306</td>\n",
       "      <td>9316</td>\n",
       "      <td>4837</td>\n",
       "      <td>[]</td>\n",
       "    </tr>\n",
       "    <tr>\n",
       "      <th>...</th>\n",
       "      <td>...</td>\n",
       "      <td>...</td>\n",
       "      <td>...</td>\n",
       "      <td>...</td>\n",
       "      <td>...</td>\n",
       "      <td>...</td>\n",
       "      <td>...</td>\n",
       "      <td>...</td>\n",
       "    </tr>\n",
       "    <tr>\n",
       "      <th>21998</th>\n",
       "      <td>2023-03-26 05:30:00</td>\n",
       "      <td>2053148071</td>\n",
       "      <td>746192896</td>\n",
       "      <td>CN</td>\n",
       "      <td>5060</td>\n",
       "      <td>1</td>\n",
       "      <td>4837</td>\n",
       "      <td>[17656]</td>\n",
       "    </tr>\n",
       "    <tr>\n",
       "      <th>21999</th>\n",
       "      <td>2023-03-26 05:30:00</td>\n",
       "      <td>2053148071</td>\n",
       "      <td>746782720</td>\n",
       "      <td>CN</td>\n",
       "      <td>5060</td>\n",
       "      <td>1</td>\n",
       "      <td>4837</td>\n",
       "      <td>[28336]</td>\n",
       "    </tr>\n",
       "    <tr>\n",
       "      <th>22000</th>\n",
       "      <td>2023-03-26 05:30:00</td>\n",
       "      <td>2053148071</td>\n",
       "      <td>748158976</td>\n",
       "      <td>CN</td>\n",
       "      <td>5060</td>\n",
       "      <td>1</td>\n",
       "      <td>4837</td>\n",
       "      <td>[17006]</td>\n",
       "    </tr>\n",
       "    <tr>\n",
       "      <th>22001</th>\n",
       "      <td>2023-03-26 05:30:00</td>\n",
       "      <td>2053148071</td>\n",
       "      <td>748290048</td>\n",
       "      <td>CN</td>\n",
       "      <td>5060</td>\n",
       "      <td>1</td>\n",
       "      <td>4837</td>\n",
       "      <td>[1694]</td>\n",
       "    </tr>\n",
       "    <tr>\n",
       "      <th>30549</th>\n",
       "      <td>2023-03-26 05:50:00</td>\n",
       "      <td>1026829321</td>\n",
       "      <td>745603072</td>\n",
       "      <td>CN</td>\n",
       "      <td>5060</td>\n",
       "      <td>1</td>\n",
       "      <td>4837</td>\n",
       "      <td>[1434]</td>\n",
       "    </tr>\n",
       "  </tbody>\n",
       "</table>\n",
       "<p>61099 rows × 8 columns</p>\n",
       "</div>"
      ],
      "text/plain": [
       "                      time      src_ip    dst_net netacq_country  dst_port  \\\n",
       "2408   2023-03-26 04:50:00  1731739012  742719488             CN      3306   \n",
       "2406   2023-03-26 04:50:00  1731739012  742588416             CN      3306   \n",
       "2417   2023-03-26 04:50:00  1731739012  743309312             CN      3306   \n",
       "2410   2023-03-26 04:50:00  1731739012  742850560             CN      3306   \n",
       "2416   2023-03-26 04:50:00  1731739012  743243776             CN      3306   \n",
       "...                    ...         ...        ...            ...       ...   \n",
       "21998  2023-03-26 05:30:00  2053148071  746192896             CN      5060   \n",
       "21999  2023-03-26 05:30:00  2053148071  746782720             CN      5060   \n",
       "22000  2023-03-26 05:30:00  2053148071  748158976             CN      5060   \n",
       "22001  2023-03-26 05:30:00  2053148071  748290048             CN      5060   \n",
       "30549  2023-03-26 05:50:00  1026829321  745603072             CN      5060   \n",
       "\n",
       "       packet_cnt  prefix2asn common_srcports  \n",
       "2408         9387        4837              []  \n",
       "2406         9355        4837              []  \n",
       "2417         9332        4837              []  \n",
       "2410         9323        4837              []  \n",
       "2416         9316        4837              []  \n",
       "...           ...         ...             ...  \n",
       "21998           1        4837         [17656]  \n",
       "21999           1        4837         [28336]  \n",
       "22000           1        4837         [17006]  \n",
       "22001           1        4837          [1694]  \n",
       "30549           1        4837          [1434]  \n",
       "\n",
       "[61099 rows x 8 columns]"
      ]
     },
     "execution_count": 467,
     "metadata": {},
     "output_type": "execute_result"
    }
   ],
   "source": [
    "top_as_df_2.sort_values(by='packet_cnt', ascending=False)"
   ]
  },
  {
   "cell_type": "code",
   "execution_count": 468,
   "id": "2afe2ae9-3dbf-4050-88fa-fae032ad0fe0",
   "metadata": {},
   "outputs": [
    {
     "data": {
      "image/png": "[encoded data removed]",
      "text/plain": [
       "<Figure size 500x500 with 1 Axes>"
      ]
     },
     "metadata": {},
     "output_type": "display_data"
    }
   ],
   "source": [
    "# Initialize the bin counts\n",
    "pkt_cnt_df_2 = top_as_df_2['packet_cnt'].tolist()\n",
    "\n",
    "# Using Freedman-Diaconis Rule to calculate bin size\n",
    "q75, q25 = np.percentile(pkt_cnt_df_2, [75 ,25])\n",
    "iqr = q75 - q25\n",
    "\n",
    "if iqr > 0:\n",
    "    bin_width = 2 * iqr * len(pkt_cnt_df_2) ** (-1/3)\n",
    "    bins = max(1, round((max(pkt_cnt_df_2) - min(pkt_cnt_df_2)) / bin_width))\n",
    "else:\n",
    "    # Fallback to default binning strategy\n",
    "    bins = 'auto'\n",
    "\n",
    "# Generating histogram data\n",
    "counts, bin_edges = np.histogram(pkt_cnt_df_2, bins=bins)\n",
    "\n",
    "# Convert counts to probabilities\n",
    "probabilities = counts / len(pkt_cnt_df_2)\n",
    "\n",
    "# Converting histogram to CDF\n",
    "cdf = np.cumsum(probabilities)\n",
    "\n",
    "# Plotting the CDF\n",
    "plt.figure(figsize=(5, 5))\n",
    "plt.plot(bin_edges[:-1], cdf, drawstyle='steps-pre', marker='o', color='blue', alpha=0.7)\n",
    "plt.title('Anomaly Packet CDF')\n",
    "plt.xlabel('Packet Count Range')\n",
    "plt.ylabel('Cumulative Probability')\n",
    "plt.grid(True)\n",
    "plt.show()\n"
   ]
  },
  {
   "cell_type": "code",
   "execution_count": 469,
   "id": "e895af58-4c07-4794-a418-e6f90c263384",
   "metadata": {},
   "outputs": [
    {
     "data": {
      "image/png": "[encoded data removed]",
      "text/plain": [
       "<Figure size 500x500 with 1 Axes>"
      ]
     },
     "metadata": {},
     "output_type": "display_data"
    }
   ],
   "source": [
    "import pandas as pd\n",
    "import numpy as np\n",
    "import matplotlib.pyplot as plt\n",
    "\n",
    "# Assuming top_as_df_1 and top_as_df_2 are your DataFrame variables.\n",
    "\n",
    "# Function to calculate the CDF using Freedman-Diaconis Rule\n",
    "def calculate_cdf(data):\n",
    "    q75, q25 = np.percentile(data, [75, 25])\n",
    "    iqr = q75 - q25\n",
    "    if iqr > 0:\n",
    "        bin_width = 2 * iqr * len(data) ** (-1/3)\n",
    "        bins = max(1, round((max(data) - min(data)) / bin_width))\n",
    "    else:\n",
    "        # Fallback to default binning strategy\n",
    "        bins = 'auto'\n",
    "    counts, bin_edges = np.histogram(data, bins=bins)\n",
    "    probabilities = counts / len(data)\n",
    "    cdf = np.cumsum(probabilities)\n",
    "    return bin_edges, cdf\n",
    "\n",
    "# Calculate CDF for both datasets\n",
    "pkt_cnt_df_1 = top_as_df_1['packet_cnt'].tolist()\n",
    "bin_edges_1, cdf_1 = calculate_cdf(pkt_cnt_df_1)\n",
    "\n",
    "pkt_cnt_df_2 = top_as_df_2['packet_cnt'].tolist()\n",
    "bin_edges_2, cdf_2 = calculate_cdf(pkt_cnt_df_2)\n",
    "\n",
    "# Plotting the CDFs on the same graph\n",
    "plt.figure(figsize=(5, 5))\n",
    "\n",
    "# Dataset 1 CDF\n",
    "plt.plot(bin_edges_1[:-1], cdf_1, drawstyle='steps-pre', marker='o', color='blue', alpha=0.7, label='Baseline')\n",
    "\n",
    "# Dataset 2 CDF\n",
    "plt.plot(bin_edges_2[:-1], cdf_2, drawstyle='steps-pre', marker='o', color='red', alpha=0.7, label='Anomaly')\n",
    "\n",
    "# Adding title, labels and grid\n",
    "plt.title('Comparison Packet CDF')\n",
    "plt.xlabel('Packet Count Range')\n",
    "plt.ylabel('Cumulative Probability')\n",
    "plt.grid(True)\n",
    "plt.legend() # Show the legend to distinguish between datasets\n",
    "\n",
    "# Show the plot\n",
    "plt.show()\n"
   ]
  },
  {
   "cell_type": "code",
   "execution_count": 470,
   "id": "37cd740d-90de-401b-bac5-485771ec3aed",
   "metadata": {},
   "outputs": [
    {
     "data": {
      "text/plain": [
       "prefix2asn         6499963\n",
       "uniq_src_ip_df1       2245\n",
       "uniq_src_ip_df2       1689\n",
       "ip_diff               -556\n",
       "dtype: int64"
      ]
     },
     "execution_count": 470,
     "metadata": {},
     "output_type": "execute_result"
    }
   ],
   "source": [
    "merged_df[merged_df['ip_diff'] < 0].sum()"
   ]
  },
  {
   "cell_type": "markdown",
   "id": "16e12bdd-cd6b-4adc-9697-35da393abe35",
   "metadata": {},
   "source": [
    "### Destination IPs per sender (Analysis on anomaly period)"
   ]
  },
  {
   "cell_type": "code",
   "execution_count": 471,
   "id": "82002bc3-a58d-4957-bcd6-5d9a6b2db0f4",
   "metadata": {},
   "outputs": [],
   "source": [
    "def plot_hist(values, title, ylabel, xlabel, log_scale=(False, True)):\n",
    "    plt.figure(figsize=(4,3))\n",
    "    sns.histplot(values, log_scale=log_scale)\n",
    "    plt.title(title, fontsize=14)\n",
    "    plt.xlabel(xlabel, fontsize=14)\n",
    "    plt.ylabel(ylabel, fontsize=14)\n",
    "    plt.grid()\n",
    "    plt.show()"
   ]
  },
  {
   "cell_type": "code",
   "execution_count": 472,
   "id": "a0404f7d-5f29-4e81-9199-9886e743a77c",
   "metadata": {},
   "outputs": [
    {
     "data": {
      "text/plain": [
       "[7170,\n",
       " 5060,\n",
       " 8008,\n",
       " 8009,\n",
       " 10250,\n",
       " 6443,\n",
       " 2379,\n",
       " 3306,\n",
       " 9200,\n",
       " 50001,\n",
       " 7547,\n",
       " 30005,\n",
       " 8085,\n",
       " 4567,\n",
       " 25,\n",
       " 8089,\n",
       " 1723]"
      ]
     },
     "execution_count": 472,
     "metadata": {},
     "output_type": "execute_result"
    }
   ],
   "source": [
    "sender_ports = list(set(top_as_df_2['dst_port'].to_list()))\n",
    "sender_ports"
   ]
  },
  {
   "cell_type": "code",
   "execution_count": 473,
   "id": "e591b509-1650-4ab3-a5d1-cf2bbf2934c8",
   "metadata": {},
   "outputs": [
    {
     "data": {
      "text/html": [
       "<div>\n",
       "<style scoped>\n",
       "    .dataframe tbody tr th:only-of-type {\n",
       "        vertical-align: middle;\n",
       "    }\n",
       "\n",
       "    .dataframe tbody tr th {\n",
       "        vertical-align: top;\n",
       "    }\n",
       "\n",
       "    .dataframe thead th {\n",
       "        text-align: right;\n",
       "    }\n",
       "</style>\n",
       "<table border=\"1\" class=\"dataframe\">\n",
       "  <thead>\n",
       "    <tr style=\"text-align: right;\">\n",
       "      <th></th>\n",
       "      <th>index</th>\n",
       "      <th>Port</th>\n",
       "      <th>Volume</th>\n",
       "    </tr>\n",
       "  </thead>\n",
       "  <tbody>\n",
       "    <tr>\n",
       "      <th>0</th>\n",
       "      <td>1</td>\n",
       "      <td>5060</td>\n",
       "      <td>59067</td>\n",
       "    </tr>\n",
       "    <tr>\n",
       "      <th>1</th>\n",
       "      <td>6</td>\n",
       "      <td>2379</td>\n",
       "      <td>153</td>\n",
       "    </tr>\n",
       "    <tr>\n",
       "      <th>2</th>\n",
       "      <td>16</td>\n",
       "      <td>1723</td>\n",
       "      <td>143</td>\n",
       "    </tr>\n",
       "  </tbody>\n",
       "</table>\n",
       "</div>"
      ],
      "text/plain": [
       "   index  Port  Volume\n",
       "0      1  5060   59067\n",
       "1      6  2379     153\n",
       "2     16  1723     143"
      ]
     },
     "execution_count": 473,
     "metadata": {},
     "output_type": "execute_result"
    }
   ],
   "source": [
    "top_traffic_port = 0\n",
    "maxv = 0\n",
    "port_volume = {}\n",
    "for port in sender_ports:\n",
    "    if port not in port_volume:\n",
    "        port_volume[port] = top_as_df_2[top_as_df_2['dst_port'] == port].shape[0]\n",
    "port_volume_df = pd.DataFrame(port_volume.items(), columns=['Port', 'Volume'])\n",
    "port_volume_df_sort = port_volume_df.sort_values(by='Volume', ascending=False).reset_index()\n",
    "port_volume_df_sort.head(3)"
   ]
  },
  {
   "cell_type": "code",
   "execution_count": 474,
   "id": "2a397912-16ff-49ae-acef-b0cf4e925c13",
   "metadata": {},
   "outputs": [
    {
     "data": {
      "text/html": [
       "<div>\n",
       "<style scoped>\n",
       "    .dataframe tbody tr th:only-of-type {\n",
       "        vertical-align: middle;\n",
       "    }\n",
       "\n",
       "    .dataframe tbody tr th {\n",
       "        vertical-align: top;\n",
       "    }\n",
       "\n",
       "    .dataframe thead th {\n",
       "        text-align: right;\n",
       "    }\n",
       "</style>\n",
       "<table border=\"1\" class=\"dataframe\">\n",
       "  <thead>\n",
       "    <tr style=\"text-align: right;\">\n",
       "      <th></th>\n",
       "      <th>time</th>\n",
       "      <th>src_ip</th>\n",
       "      <th>dst_net</th>\n",
       "      <th>netacq_country</th>\n",
       "      <th>dst_port</th>\n",
       "      <th>packet_cnt</th>\n",
       "      <th>prefix2asn</th>\n",
       "      <th>common_srcports</th>\n",
       "    </tr>\n",
       "  </thead>\n",
       "  <tbody>\n",
       "    <tr>\n",
       "      <th>4</th>\n",
       "      <td>2023-03-26 04:45:00</td>\n",
       "      <td>18395441</td>\n",
       "      <td>741539840</td>\n",
       "      <td>CN</td>\n",
       "      <td>5060</td>\n",
       "      <td>1</td>\n",
       "      <td>4837</td>\n",
       "      <td>[1434]</td>\n",
       "    </tr>\n",
       "    <tr>\n",
       "      <th>1590</th>\n",
       "      <td>2023-03-26 04:45:00</td>\n",
       "      <td>2064426080</td>\n",
       "      <td>741212160</td>\n",
       "      <td>CN</td>\n",
       "      <td>5060</td>\n",
       "      <td>1</td>\n",
       "      <td>4837</td>\n",
       "      <td>[1434]</td>\n",
       "    </tr>\n",
       "    <tr>\n",
       "      <th>1591</th>\n",
       "      <td>2023-03-26 04:45:00</td>\n",
       "      <td>2064426080</td>\n",
       "      <td>741736448</td>\n",
       "      <td>CN</td>\n",
       "      <td>5060</td>\n",
       "      <td>1</td>\n",
       "      <td>4837</td>\n",
       "      <td>[1434]</td>\n",
       "    </tr>\n",
       "    <tr>\n",
       "      <th>1592</th>\n",
       "      <td>2023-03-26 04:45:00</td>\n",
       "      <td>2064426080</td>\n",
       "      <td>741867520</td>\n",
       "      <td>CN</td>\n",
       "      <td>5060</td>\n",
       "      <td>1</td>\n",
       "      <td>4837</td>\n",
       "      <td>[1434]</td>\n",
       "    </tr>\n",
       "    <tr>\n",
       "      <th>1593</th>\n",
       "      <td>2023-03-26 04:45:00</td>\n",
       "      <td>2064426080</td>\n",
       "      <td>743243776</td>\n",
       "      <td>CN</td>\n",
       "      <td>5060</td>\n",
       "      <td>1</td>\n",
       "      <td>4837</td>\n",
       "      <td>[1434]</td>\n",
       "    </tr>\n",
       "    <tr>\n",
       "      <th>...</th>\n",
       "      <td>...</td>\n",
       "      <td>...</td>\n",
       "      <td>...</td>\n",
       "      <td>...</td>\n",
       "      <td>...</td>\n",
       "      <td>...</td>\n",
       "      <td>...</td>\n",
       "      <td>...</td>\n",
       "    </tr>\n",
       "    <tr>\n",
       "      <th>57767</th>\n",
       "      <td>2023-03-26 06:45:00</td>\n",
       "      <td>3061804446</td>\n",
       "      <td>744488960</td>\n",
       "      <td>CN</td>\n",
       "      <td>5060</td>\n",
       "      <td>1</td>\n",
       "      <td>4837</td>\n",
       "      <td>[1434]</td>\n",
       "    </tr>\n",
       "    <tr>\n",
       "      <th>57766</th>\n",
       "      <td>2023-03-26 06:45:00</td>\n",
       "      <td>3061804446</td>\n",
       "      <td>744357888</td>\n",
       "      <td>CN</td>\n",
       "      <td>5060</td>\n",
       "      <td>1</td>\n",
       "      <td>4837</td>\n",
       "      <td>[1434]</td>\n",
       "    </tr>\n",
       "    <tr>\n",
       "      <th>57765</th>\n",
       "      <td>2023-03-26 06:45:00</td>\n",
       "      <td>3061804446</td>\n",
       "      <td>743374848</td>\n",
       "      <td>CN</td>\n",
       "      <td>5060</td>\n",
       "      <td>1</td>\n",
       "      <td>4837</td>\n",
       "      <td>[1434]</td>\n",
       "    </tr>\n",
       "    <tr>\n",
       "      <th>57772</th>\n",
       "      <td>2023-03-26 06:45:00</td>\n",
       "      <td>3061804446</td>\n",
       "      <td>748552192</td>\n",
       "      <td>CN</td>\n",
       "      <td>5060</td>\n",
       "      <td>1</td>\n",
       "      <td>4837</td>\n",
       "      <td>[1434]</td>\n",
       "    </tr>\n",
       "    <tr>\n",
       "      <th>56131</th>\n",
       "      <td>2023-03-26 06:45:00</td>\n",
       "      <td>719804477</td>\n",
       "      <td>739311616</td>\n",
       "      <td>CN</td>\n",
       "      <td>5060</td>\n",
       "      <td>1</td>\n",
       "      <td>4837</td>\n",
       "      <td>[1434]</td>\n",
       "    </tr>\n",
       "  </tbody>\n",
       "</table>\n",
       "<p>59067 rows × 8 columns</p>\n",
       "</div>"
      ],
      "text/plain": [
       "                      time      src_ip    dst_net netacq_country  dst_port  \\\n",
       "4      2023-03-26 04:45:00    18395441  741539840             CN      5060   \n",
       "1590   2023-03-26 04:45:00  2064426080  741212160             CN      5060   \n",
       "1591   2023-03-26 04:45:00  2064426080  741736448             CN      5060   \n",
       "1592   2023-03-26 04:45:00  2064426080  741867520             CN      5060   \n",
       "1593   2023-03-26 04:45:00  2064426080  743243776             CN      5060   \n",
       "...                    ...         ...        ...            ...       ...   \n",
       "57767  2023-03-26 06:45:00  3061804446  744488960             CN      5060   \n",
       "57766  2023-03-26 06:45:00  3061804446  744357888             CN      5060   \n",
       "57765  2023-03-26 06:45:00  3061804446  743374848             CN      5060   \n",
       "57772  2023-03-26 06:45:00  3061804446  748552192             CN      5060   \n",
       "56131  2023-03-26 06:45:00   719804477  739311616             CN      5060   \n",
       "\n",
       "       packet_cnt  prefix2asn common_srcports  \n",
       "4               1        4837          [1434]  \n",
       "1590            1        4837          [1434]  \n",
       "1591            1        4837          [1434]  \n",
       "1592            1        4837          [1434]  \n",
       "1593            1        4837          [1434]  \n",
       "...           ...         ...             ...  \n",
       "57767           1        4837          [1434]  \n",
       "57766           1        4837          [1434]  \n",
       "57765           1        4837          [1434]  \n",
       "57772           1        4837          [1434]  \n",
       "56131           1        4837          [1434]  \n",
       "\n",
       "[59067 rows x 8 columns]"
      ]
     },
     "execution_count": 474,
     "metadata": {},
     "output_type": "execute_result"
    }
   ],
   "source": [
    "cur_port = port_volume_df_sort['Port'][0]\n",
    "port_filtered_df = top_as_df_2[top_as_df_2['dst_port'] == cur_port]\n",
    "port_filtered_df = port_filtered_df.sort_values(by='time', ascending=True)\n",
    "port_filtered_df"
   ]
  },
  {
   "cell_type": "code",
   "execution_count": 475,
   "id": "19dff656-24cf-4ce5-ac34-0db3b22f3490",
   "metadata": {},
   "outputs": [
    {
     "data": {
      "image/png": "[encoded data removed]",
      "text/plain": [
       "<Figure size 1000x500 with 1 Axes>"
      ]
     },
     "metadata": {},
     "output_type": "display_data"
    }
   ],
   "source": [
    "plt.figure(figsize=(10, 5))  # Set the figure size as desired\n",
    "plt.scatter(port_filtered_df['time'], port_filtered_df['dst_net'])\n",
    "\n",
    "plt.title(f'Port{cur_port}, AS{asn_top_diff}dst_net over Time')  # Set a title\n",
    "plt.xlabel('Time')  # Name the x-axis\n",
    "plt.ylabel('dst_net')  # Name the y-axis\n",
    "plt.grid(True)  # Add a grid\n",
    "plt.xticks(rotation=45)  # Rotate x-axis labels if needed\n",
    "plt.tight_layout()  # Fit the plot nicely into the figure area\n",
    "\n",
    "# Show the plot\n",
    "plt.show()"
   ]
  },
  {
   "cell_type": "code",
   "execution_count": 476,
   "id": "b2073580-c3a5-4de5-9768-3f539917e139",
   "metadata": {},
   "outputs": [
    {
     "data": {
      "image/png": "[encoded data removed]",
      "text/plain": [
       "<Figure size 640x480 with 1 Axes>"
      ]
     },
     "metadata": {},
     "output_type": "display_data"
    }
   ],
   "source": [
    "val = port_filtered_df.groupby('src_ip')['dst_net'].nunique().values\n",
    "\n",
    "# Calculating the range\n",
    "range_val = val.max() - val.min()\n",
    "\n",
    "# Splitting the range into 4 equal parts\n",
    "bins = np.linspace(val.min(), val.max(), 5)\n",
    "\n",
    "# Plotting the histogram\n",
    "plt.hist(val, bins=bins, edgecolor='black')\n",
    "plt.xlabel('Unique Destination Subnet Count')\n",
    "plt.ylabel('Frequency')\n",
    "plt.title('Unique Destination Networks Count per Source IP')\n",
    "plt.xticks(bins)\n",
    "plt.grid(axis='y', alpha=0.75)\n",
    "\n",
    "# Show the plot\n",
    "plt.show()\n"
   ]
  },
  {
   "cell_type": "markdown",
   "id": "b3bcb343-5ee2-4dcd-b225-0699a09943d6",
   "metadata": {},
   "source": [
    "### what fraction of ip of ASN is sending data"
   ]
  },
  {
   "cell_type": "code",
   "execution_count": 477,
   "id": "d42fe4cd-17ba-4366-add3-d7d67118bd50",
   "metadata": {},
   "outputs": [],
   "source": [
    "import requests\n",
    "\n",
    "def get_asn_details(asn):\n",
    "    url = f\"https://api.hackertarget.com/aslookup/?q={asn}\"\n",
    "    response = requests.get(url)\n",
    "    if response.status_code == 200:\n",
    "        return response.text\n",
    "    else:\n",
    "        return \"Error: Unable to fetch data\"\n",
    "\n",
    "asn = \"AS24400\"  # Replace with the ASN you're interested in\n",
    "asn_details = get_asn_details(asn)\n",
    "\n"
   ]
  },
  {
   "cell_type": "code",
   "execution_count": 478,
   "id": "feb4c5bb-8089-4451-b473-ad65f377fbbe",
   "metadata": {},
   "outputs": [],
   "source": [
    "# print(asn_details)\n",
    "subnets = asn_details.split('\\n')"
   ]
  },
  {
   "cell_type": "code",
   "execution_count": 479,
   "id": "ecc1aafd-f78b-446d-8079-9c0193abd093",
   "metadata": {},
   "outputs": [
    {
     "data": {
      "text/plain": [
       "1033984"
      ]
     },
     "execution_count": 479,
     "metadata": {},
     "output_type": "execute_result"
    }
   ],
   "source": [
    "import re\n",
    "\n",
    "def calculate_ips(subnet_mask):\n",
    "    return 2 ** (32 - subnet_mask)\n",
    "        \n",
    "ipv4_subnets = [subnet for subnet in subnets if not re.search(\"[a-zA-Z]\", subnet)]\n",
    "masks = [int(subnet[-2:]) for subnet in ipv4_subnets]\n",
    "total_ip_cnt = 0\n",
    "for mask in masks:\n",
    "    total_ip_cnt += calculate_ips(mask)\n",
    "total_ip_cnt"
   ]
  },
  {
   "cell_type": "markdown",
   "id": "5fceefb9-d974-489a-ac46-c2e1bcb9398e",
   "metadata": {},
   "source": [
    "### common source port Analysis"
   ]
  },
  {
   "cell_type": "code",
   "execution_count": 480,
   "id": "4a1272a0-869e-4bae-a154-91393b1e4dcd",
   "metadata": {},
   "outputs": [
    {
     "data": {
      "image/png": "[encoded data removed]",
      "text/plain": [
       "<Figure size 1000x800 with 1 Axes>"
      ]
     },
     "metadata": {},
     "output_type": "display_data"
    }
   ],
   "source": [
    "N = 50\n",
    "port_freq = {}\n",
    "for common_ports in port_filtered_df['common_srcports']:\n",
    "    for port in common_ports:\n",
    "        if port not in port_freq:\n",
    "            port_freq[port] = 1\n",
    "        else:\n",
    "            port_freq[port] += 1\n",
    "\n",
    "port_freq_df = pd.DataFrame(port_freq.items(), columns=['Port', 'Frequency'])\n",
    "top_n_df = port_freq_df.sort_values(by='Frequency',ascending=False).head(N)\n",
    "\n",
    "plt.figure(figsize=(10, 8))\n",
    "plt.barh(top_n_df['Port'].astype(str), top_n_df['Frequency'])  \n",
    "plt.xlabel('Frequency')\n",
    "plt.ylabel('Port')\n",
    "plt.title(f'Top {N} Common Ports by Frequency, AS{asn_top_diff}, Port{cur_port}')\n",
    "plt.gca().invert_yaxis() \n",
    "plt.show()"
   ]
  },
  {
   "cell_type": "markdown",
   "id": "c77bd26b-7aab-4589-982b-17fc492e6be1",
   "metadata": {},
   "source": [
    "### analyze single flow of asn with greatest surge"
   ]
  },
  {
   "cell_type": "code",
   "execution_count": 457,
   "id": "6b9e22c6-d64f-4943-a292-e340231bf1d9",
   "metadata": {},
   "outputs": [
    {
     "data": {
      "text/html": [
       "<div>\n",
       "<style scoped>\n",
       "    .dataframe tbody tr th:only-of-type {\n",
       "        vertical-align: middle;\n",
       "    }\n",
       "\n",
       "    .dataframe tbody tr th {\n",
       "        vertical-align: top;\n",
       "    }\n",
       "\n",
       "    .dataframe thead th {\n",
       "        text-align: right;\n",
       "    }\n",
       "</style>\n",
       "<table border=\"1\" class=\"dataframe\">\n",
       "  <thead>\n",
       "    <tr style=\"text-align: right;\">\n",
       "      <th></th>\n",
       "      <th>prefix2asn</th>\n",
       "      <th>uniq_src_ip</th>\n",
       "    </tr>\n",
       "  </thead>\n",
       "  <tbody>\n",
       "    <tr>\n",
       "      <th>0</th>\n",
       "      <td>8075</td>\n",
       "      <td>272</td>\n",
       "    </tr>\n",
       "    <tr>\n",
       "      <th>1</th>\n",
       "      <td>27651</td>\n",
       "      <td>2</td>\n",
       "    </tr>\n",
       "    <tr>\n",
       "      <th>2</th>\n",
       "      <td>203380</td>\n",
       "      <td>1</td>\n",
       "    </tr>\n",
       "    <tr>\n",
       "      <th>3</th>\n",
       "      <td>202561</td>\n",
       "      <td>3</td>\n",
       "    </tr>\n",
       "    <tr>\n",
       "      <th>4</th>\n",
       "      <td>131111</td>\n",
       "      <td>1</td>\n",
       "    </tr>\n",
       "    <tr>\n",
       "      <th>...</th>\n",
       "      <td>...</td>\n",
       "      <td>...</td>\n",
       "    </tr>\n",
       "    <tr>\n",
       "      <th>685</th>\n",
       "      <td>49505</td>\n",
       "      <td>6</td>\n",
       "    </tr>\n",
       "    <tr>\n",
       "      <th>686</th>\n",
       "      <td>1836</td>\n",
       "      <td>1</td>\n",
       "    </tr>\n",
       "    <tr>\n",
       "      <th>687</th>\n",
       "      <td>11776</td>\n",
       "      <td>1</td>\n",
       "    </tr>\n",
       "    <tr>\n",
       "      <th>688</th>\n",
       "      <td>34088</td>\n",
       "      <td>1</td>\n",
       "    </tr>\n",
       "    <tr>\n",
       "      <th>689</th>\n",
       "      <td>61680</td>\n",
       "      <td>1</td>\n",
       "    </tr>\n",
       "  </tbody>\n",
       "</table>\n",
       "<p>690 rows × 2 columns</p>\n",
       "</div>"
      ],
      "text/plain": [
       "     prefix2asn  uniq_src_ip\n",
       "0          8075          272\n",
       "1         27651            2\n",
       "2        203380            1\n",
       "3        202561            3\n",
       "4        131111            1\n",
       "..          ...          ...\n",
       "685       49505            6\n",
       "686        1836            1\n",
       "687       11776            1\n",
       "688       34088            1\n",
       "689       61680            1\n",
       "\n",
       "[690 rows x 2 columns]"
      ]
     },
     "execution_count": 457,
     "metadata": {},
     "output_type": "execute_result"
    }
   ],
   "source": [
    "asn_usp_2"
   ]
  },
  {
   "cell_type": "markdown",
   "id": "933e8a45-8f73-453d-8d1c-4caa1ee494a1",
   "metadata": {},
   "source": [
    "### Checking surge in single packet sender"
   ]
  },
  {
   "cell_type": "code",
   "execution_count": 458,
   "id": "dd0dbcaa-ff7e-4269-bb6b-b09d66949343",
   "metadata": {},
   "outputs": [
    {
     "name": "stderr",
     "output_type": "stream",
     "text": [
      "[Stage 287:====================================================>(126 + 2) / 128]\r"
     ]
    },
    {
     "name": "stdout",
     "output_type": "stream",
     "text": [
      "CPU times: user 73.3 ms, sys: 31.9 ms, total: 105 ms\n",
      "Wall time: 30.5 s\n"
     ]
    },
    {
     "name": "stderr",
     "output_type": "stream",
     "text": [
      "                                                                                \r"
     ]
    },
    {
     "data": {
      "text/html": [
       "<div>\n",
       "<style scoped>\n",
       "    .dataframe tbody tr th:only-of-type {\n",
       "        vertical-align: middle;\n",
       "    }\n",
       "\n",
       "    .dataframe tbody tr th {\n",
       "        vertical-align: top;\n",
       "    }\n",
       "\n",
       "    .dataframe thead th {\n",
       "        text-align: right;\n",
       "    }\n",
       "</style>\n",
       "<table border=\"1\" class=\"dataframe\">\n",
       "  <thead>\n",
       "    <tr style=\"text-align: right;\">\n",
       "      <th></th>\n",
       "      <th>prefix2asn</th>\n",
       "      <th>sum(packet_cnt)</th>\n",
       "    </tr>\n",
       "  </thead>\n",
       "  <tbody>\n",
       "    <tr>\n",
       "      <th>285</th>\n",
       "      <td>34088</td>\n",
       "      <td>50528620</td>\n",
       "    </tr>\n",
       "    <tr>\n",
       "      <th>20</th>\n",
       "      <td>14061</td>\n",
       "      <td>26322426</td>\n",
       "    </tr>\n",
       "    <tr>\n",
       "      <th>40</th>\n",
       "      <td>23470</td>\n",
       "      <td>18731654</td>\n",
       "    </tr>\n",
       "    <tr>\n",
       "      <th>53</th>\n",
       "      <td>12876</td>\n",
       "      <td>14288390</td>\n",
       "    </tr>\n",
       "    <tr>\n",
       "      <th>45</th>\n",
       "      <td>47154</td>\n",
       "      <td>12274516</td>\n",
       "    </tr>\n",
       "    <tr>\n",
       "      <th>...</th>\n",
       "      <td>...</td>\n",
       "      <td>...</td>\n",
       "    </tr>\n",
       "    <tr>\n",
       "      <th>491</th>\n",
       "      <td>9299</td>\n",
       "      <td>1</td>\n",
       "    </tr>\n",
       "    <tr>\n",
       "      <th>492</th>\n",
       "      <td>56478</td>\n",
       "      <td>1</td>\n",
       "    </tr>\n",
       "    <tr>\n",
       "      <th>495</th>\n",
       "      <td>48323</td>\n",
       "      <td>1</td>\n",
       "    </tr>\n",
       "    <tr>\n",
       "      <th>625</th>\n",
       "      <td>32505</td>\n",
       "      <td>1</td>\n",
       "    </tr>\n",
       "    <tr>\n",
       "      <th>733</th>\n",
       "      <td>9443</td>\n",
       "      <td>1</td>\n",
       "    </tr>\n",
       "  </tbody>\n",
       "</table>\n",
       "<p>734 rows × 2 columns</p>\n",
       "</div>"
      ],
      "text/plain": [
       "     prefix2asn  sum(packet_cnt)\n",
       "285       34088         50528620\n",
       "20        14061         26322426\n",
       "40        23470         18731654\n",
       "53        12876         14288390\n",
       "45        47154         12274516\n",
       "..          ...              ...\n",
       "491        9299                1\n",
       "492       56478                1\n",
       "495       48323                1\n",
       "625       32505                1\n",
       "733        9443                1\n",
       "\n",
       "[734 rows x 2 columns]"
      ]
     },
     "execution_count": 458,
     "metadata": {},
     "output_type": "execute_result"
    }
   ],
   "source": [
    "%%time\n",
    "\n",
    "pc_1 = traff_df_1.groupby('prefix2asn').sum('packet_cnt').alias('pkt_cnt').toPandas()\n",
    "        # .withColumn('time', traff_df_1.time.cast('string')).toPandas().astype({'time': 'datetime64[ns]'}) # Compatability fix\n",
    "pc_1.sort_values(by='sum(packet_cnt)', ascending=False)"
   ]
  },
  {
   "cell_type": "code",
   "execution_count": 459,
   "id": "19b2e836-47c0-4951-a8b9-c12772363ad9",
   "metadata": {},
   "outputs": [
    {
     "name": "stderr",
     "output_type": "stream",
     "text": [
      "ERROR:root:KeyboardInterrupt while sending command.             (0 + 125) / 128]\n",
      "Traceback (most recent call last):\n",
      "  File \"/home/jli21/miniconda3/envs/tele_ts/lib/python3.8/site-packages/py4j/java_gateway.py\", line 1038, in send_command\n",
      "    response = connection.send_command(command)\n",
      "  File \"/home/jli21/miniconda3/envs/tele_ts/lib/python3.8/site-packages/py4j/clientserver.py\", line 511, in send_command\n",
      "    answer = smart_decode(self.stream.readline()[:-1])\n",
      "  File \"/home/jli21/miniconda3/envs/tele_ts/lib/python3.8/socket.py\", line 669, in readinto\n",
      "    return self._sock.recv_into(b)\n",
      "KeyboardInterrupt\n",
      "Exception ignored in: <function JavaObject.__init__.<locals>.<lambda> at 0x15503f201b80>\n",
      "Traceback (most recent call last):\n",
      "  File \"/home/jli21/miniconda3/envs/tele_ts/lib/python3.8/site-packages/py4j/java_gateway.py\", line 1357, in <lambda>\n",
      "    lambda wr, cc=self._gateway_client, id=self._target_id:\n",
      "KeyboardInterrupt: \n",
      "[Stage 291:=>                                                   (4 + 124) / 128]\r"
     ]
    },
    {
     "ename": "KeyboardInterrupt",
     "evalue": "",
     "output_type": "error",
     "traceback": [
      "\u001b[0;31m---------------------------------------------------------------------------\u001b[0m",
      "\u001b[0;31mKeyboardInterrupt\u001b[0m                         Traceback (most recent call last)",
      "File \u001b[0;32m<timed exec>:1\u001b[0m\n",
      "File \u001b[0;32m~/miniconda3/envs/tele_ts/lib/python3.8/site-packages/pyspark/sql/pandas/conversion.py:157\u001b[0m, in \u001b[0;36mPandasConversionMixin.toPandas\u001b[0;34m(self)\u001b[0m\n\u001b[1;32m    154\u001b[0m             \u001b[38;5;28;01mraise\u001b[39;00m\n\u001b[1;32m    156\u001b[0m \u001b[38;5;66;03m# Below is toPandas without Arrow optimization.\u001b[39;00m\n\u001b[0;32m--> 157\u001b[0m pdf \u001b[38;5;241m=\u001b[39m pd\u001b[38;5;241m.\u001b[39mDataFrame\u001b[38;5;241m.\u001b[39mfrom_records(\u001b[38;5;28;43mself\u001b[39;49m\u001b[38;5;241;43m.\u001b[39;49m\u001b[43mcollect\u001b[49m\u001b[43m(\u001b[49m\u001b[43m)\u001b[49m, columns\u001b[38;5;241m=\u001b[39m\u001b[38;5;28mself\u001b[39m\u001b[38;5;241m.\u001b[39mcolumns)\n\u001b[1;32m    158\u001b[0m column_counter \u001b[38;5;241m=\u001b[39m Counter(\u001b[38;5;28mself\u001b[39m\u001b[38;5;241m.\u001b[39mcolumns)\n\u001b[1;32m    160\u001b[0m dtype \u001b[38;5;241m=\u001b[39m [\u001b[38;5;28;01mNone\u001b[39;00m] \u001b[38;5;241m*\u001b[39m \u001b[38;5;28mlen\u001b[39m(\u001b[38;5;28mself\u001b[39m\u001b[38;5;241m.\u001b[39mschema)\n",
      "File \u001b[0;32m~/miniconda3/envs/tele_ts/lib/python3.8/site-packages/pyspark/sql/dataframe.py:693\u001b[0m, in \u001b[0;36mDataFrame.collect\u001b[0;34m(self)\u001b[0m\n\u001b[1;32m    683\u001b[0m \u001b[38;5;250m\u001b[39m\u001b[38;5;124;03m\"\"\"Returns all the records as a list of :class:`Row`.\u001b[39;00m\n\u001b[1;32m    684\u001b[0m \n\u001b[1;32m    685\u001b[0m \u001b[38;5;124;03m.. versionadded:: 1.3.0\u001b[39;00m\n\u001b[0;32m   (...)\u001b[0m\n\u001b[1;32m    690\u001b[0m \u001b[38;5;124;03m[Row(age=2, name='Alice'), Row(age=5, name='Bob')]\u001b[39;00m\n\u001b[1;32m    691\u001b[0m \u001b[38;5;124;03m\"\"\"\u001b[39;00m\n\u001b[1;32m    692\u001b[0m \u001b[38;5;28;01mwith\u001b[39;00m SCCallSiteSync(\u001b[38;5;28mself\u001b[39m\u001b[38;5;241m.\u001b[39m_sc) \u001b[38;5;28;01mas\u001b[39;00m css:\n\u001b[0;32m--> 693\u001b[0m     sock_info \u001b[38;5;241m=\u001b[39m \u001b[38;5;28;43mself\u001b[39;49m\u001b[38;5;241;43m.\u001b[39;49m\u001b[43m_jdf\u001b[49m\u001b[38;5;241;43m.\u001b[39;49m\u001b[43mcollectToPython\u001b[49m\u001b[43m(\u001b[49m\u001b[43m)\u001b[49m\n\u001b[1;32m    694\u001b[0m \u001b[38;5;28;01mreturn\u001b[39;00m \u001b[38;5;28mlist\u001b[39m(_load_from_socket(sock_info, BatchedSerializer(PickleSerializer())))\n",
      "File \u001b[0;32m~/miniconda3/envs/tele_ts/lib/python3.8/site-packages/py4j/java_gateway.py:1320\u001b[0m, in \u001b[0;36mJavaMember.__call__\u001b[0;34m(self, *args)\u001b[0m\n\u001b[1;32m   1313\u001b[0m args_command, temp_args \u001b[38;5;241m=\u001b[39m \u001b[38;5;28mself\u001b[39m\u001b[38;5;241m.\u001b[39m_build_args(\u001b[38;5;241m*\u001b[39margs)\n\u001b[1;32m   1315\u001b[0m command \u001b[38;5;241m=\u001b[39m proto\u001b[38;5;241m.\u001b[39mCALL_COMMAND_NAME \u001b[38;5;241m+\u001b[39m\\\n\u001b[1;32m   1316\u001b[0m     \u001b[38;5;28mself\u001b[39m\u001b[38;5;241m.\u001b[39mcommand_header \u001b[38;5;241m+\u001b[39m\\\n\u001b[1;32m   1317\u001b[0m     args_command \u001b[38;5;241m+\u001b[39m\\\n\u001b[1;32m   1318\u001b[0m     proto\u001b[38;5;241m.\u001b[39mEND_COMMAND_PART\n\u001b[0;32m-> 1320\u001b[0m answer \u001b[38;5;241m=\u001b[39m \u001b[38;5;28;43mself\u001b[39;49m\u001b[38;5;241;43m.\u001b[39;49m\u001b[43mgateway_client\u001b[49m\u001b[38;5;241;43m.\u001b[39;49m\u001b[43msend_command\u001b[49m\u001b[43m(\u001b[49m\u001b[43mcommand\u001b[49m\u001b[43m)\u001b[49m\n\u001b[1;32m   1321\u001b[0m return_value \u001b[38;5;241m=\u001b[39m get_return_value(\n\u001b[1;32m   1322\u001b[0m     answer, \u001b[38;5;28mself\u001b[39m\u001b[38;5;241m.\u001b[39mgateway_client, \u001b[38;5;28mself\u001b[39m\u001b[38;5;241m.\u001b[39mtarget_id, \u001b[38;5;28mself\u001b[39m\u001b[38;5;241m.\u001b[39mname)\n\u001b[1;32m   1324\u001b[0m \u001b[38;5;28;01mfor\u001b[39;00m temp_arg \u001b[38;5;129;01min\u001b[39;00m temp_args:\n",
      "File \u001b[0;32m~/miniconda3/envs/tele_ts/lib/python3.8/site-packages/py4j/java_gateway.py:1038\u001b[0m, in \u001b[0;36mGatewayClient.send_command\u001b[0;34m(self, command, retry, binary)\u001b[0m\n\u001b[1;32m   1036\u001b[0m connection \u001b[38;5;241m=\u001b[39m \u001b[38;5;28mself\u001b[39m\u001b[38;5;241m.\u001b[39m_get_connection()\n\u001b[1;32m   1037\u001b[0m \u001b[38;5;28;01mtry\u001b[39;00m:\n\u001b[0;32m-> 1038\u001b[0m     response \u001b[38;5;241m=\u001b[39m \u001b[43mconnection\u001b[49m\u001b[38;5;241;43m.\u001b[39;49m\u001b[43msend_command\u001b[49m\u001b[43m(\u001b[49m\u001b[43mcommand\u001b[49m\u001b[43m)\u001b[49m\n\u001b[1;32m   1039\u001b[0m     \u001b[38;5;28;01mif\u001b[39;00m binary:\n\u001b[1;32m   1040\u001b[0m         \u001b[38;5;28;01mreturn\u001b[39;00m response, \u001b[38;5;28mself\u001b[39m\u001b[38;5;241m.\u001b[39m_create_connection_guard(connection)\n",
      "File \u001b[0;32m~/miniconda3/envs/tele_ts/lib/python3.8/site-packages/py4j/clientserver.py:511\u001b[0m, in \u001b[0;36mClientServerConnection.send_command\u001b[0;34m(self, command)\u001b[0m\n\u001b[1;32m    509\u001b[0m \u001b[38;5;28;01mtry\u001b[39;00m:\n\u001b[1;32m    510\u001b[0m     \u001b[38;5;28;01mwhile\u001b[39;00m \u001b[38;5;28;01mTrue\u001b[39;00m:\n\u001b[0;32m--> 511\u001b[0m         answer \u001b[38;5;241m=\u001b[39m smart_decode(\u001b[38;5;28;43mself\u001b[39;49m\u001b[38;5;241;43m.\u001b[39;49m\u001b[43mstream\u001b[49m\u001b[38;5;241;43m.\u001b[39;49m\u001b[43mreadline\u001b[49m\u001b[43m(\u001b[49m\u001b[43m)\u001b[49m[:\u001b[38;5;241m-\u001b[39m\u001b[38;5;241m1\u001b[39m])\n\u001b[1;32m    512\u001b[0m         logger\u001b[38;5;241m.\u001b[39mdebug(\u001b[38;5;124m\"\u001b[39m\u001b[38;5;124mAnswer received: \u001b[39m\u001b[38;5;132;01m{0}\u001b[39;00m\u001b[38;5;124m\"\u001b[39m\u001b[38;5;241m.\u001b[39mformat(answer))\n\u001b[1;32m    513\u001b[0m         \u001b[38;5;66;03m# Happens when a the other end is dead. There might be an empty\u001b[39;00m\n\u001b[1;32m    514\u001b[0m         \u001b[38;5;66;03m# answer before the socket raises an error.\u001b[39;00m\n",
      "File \u001b[0;32m~/miniconda3/envs/tele_ts/lib/python3.8/socket.py:669\u001b[0m, in \u001b[0;36mSocketIO.readinto\u001b[0;34m(self, b)\u001b[0m\n\u001b[1;32m    667\u001b[0m \u001b[38;5;28;01mwhile\u001b[39;00m \u001b[38;5;28;01mTrue\u001b[39;00m:\n\u001b[1;32m    668\u001b[0m     \u001b[38;5;28;01mtry\u001b[39;00m:\n\u001b[0;32m--> 669\u001b[0m         \u001b[38;5;28;01mreturn\u001b[39;00m \u001b[38;5;28;43mself\u001b[39;49m\u001b[38;5;241;43m.\u001b[39;49m\u001b[43m_sock\u001b[49m\u001b[38;5;241;43m.\u001b[39;49m\u001b[43mrecv_into\u001b[49m\u001b[43m(\u001b[49m\u001b[43mb\u001b[49m\u001b[43m)\u001b[49m\n\u001b[1;32m    670\u001b[0m     \u001b[38;5;28;01mexcept\u001b[39;00m timeout:\n\u001b[1;32m    671\u001b[0m         \u001b[38;5;28mself\u001b[39m\u001b[38;5;241m.\u001b[39m_timeout_occurred \u001b[38;5;241m=\u001b[39m \u001b[38;5;28;01mTrue\u001b[39;00m\n",
      "\u001b[0;31mKeyboardInterrupt\u001b[0m: "
     ]
    }
   ],
   "source": [
    "%%time\n",
    "\n",
    "pc_2 = traff_df_2.groupby('prefix2asn').sum('packet_cnt').alias('pkt_cnt').toPandas()\n",
    "        # .withColumn('time', traff_df_2.time.cast('string')).toPandas().astype({'time': 'datetime64[ns]'}) # Compatability fix\n",
    "pc_2.sort_values(by='sum(packet_cnt)', ascending=False)"
   ]
  },
  {
   "cell_type": "code",
   "execution_count": 460,
   "id": "41ad3064-aee4-4cf9-8cd2-e9ada529f5f1",
   "metadata": {},
   "outputs": [
    {
     "data": {
      "text/plain": [
       "-105"
      ]
     },
     "execution_count": 460,
     "metadata": {},
     "output_type": "execute_result"
    }
   ],
   "source": [
    "sg_sender_1 = pc_1[pc_1['sum(packet_cnt)'] <= 10]\n",
    "sg_sender_2 = pc_2[pc_2['sum(packet_cnt)'] <= 10]\n",
    "sg_sender_2.shape[0] - sg_sender_1.shape[0]"
   ]
  },
  {
   "cell_type": "code",
   "execution_count": 461,
   "id": "0edb2e4e-2ff1-4233-a5c1-3283e4bc5413",
   "metadata": {},
   "outputs": [
    {
     "name": "stderr",
     "output_type": "stream",
     "text": [
      "[Stage 291:===>                                                 (8 + 120) / 128]\r"
     ]
    },
    {
     "ename": "NameError",
     "evalue": "name 'new_df' is not defined",
     "output_type": "error",
     "traceback": [
      "\u001b[0;31m---------------------------------------------------------------------------\u001b[0m",
      "\u001b[0;31mNameError\u001b[0m                                 Traceback (most recent call last)",
      "Cell \u001b[0;32mIn[461], line 26\u001b[0m\n\u001b[1;32m     22\u001b[0m \u001b[38;5;66;03m# Ensure that the column name is correct\u001b[39;00m\n\u001b[1;32m     23\u001b[0m \u001b[38;5;66;03m# Replace 'packet_cnt' with the actual name of the column in new_df if it's different\u001b[39;00m\n\u001b[1;32m     24\u001b[0m diff_df \u001b[38;5;241m=\u001b[39m diff_df\u001b[38;5;241m.\u001b[39msort_values(by\u001b[38;5;241m=\u001b[39m\u001b[38;5;124m'\u001b[39m\u001b[38;5;124msum(packet_cnt)\u001b[39m\u001b[38;5;124m'\u001b[39m, ascending\u001b[38;5;241m=\u001b[39m\u001b[38;5;28;01mFalse\u001b[39;00m)\n\u001b[0;32m---> 26\u001b[0m diff_df[\u001b[43mnew_df\u001b[49m[\u001b[38;5;124m'\u001b[39m\u001b[38;5;124msum(packet_cnt)\u001b[39m\u001b[38;5;124m'\u001b[39m] \u001b[38;5;241m>\u001b[39m\u001b[38;5;241m=\u001b[39m \u001b[38;5;241m0\u001b[39m]\n",
      "\u001b[0;31mNameError\u001b[0m: name 'new_df' is not defined"
     ]
    }
   ],
   "source": [
    "import pandas as pd\n",
    "\n",
    "# Create a dictionary to hold the sum of 'packet_cnt' for each 'prefix2asn' in pc_1\n",
    "sum_packet_cnt_pc_1 = pc_1.groupby('prefix2asn')['sum(packet_cnt)'].sum().to_dict()\n",
    "\n",
    "# List to hold rows that match the condition\n",
    "rows = []\n",
    "\n",
    "# Iterate through rows of pc_2\n",
    "for index, row in pc_2.iterrows():\n",
    "    # Check if the prefix2asn exists in the sum_packet_cnt_pc_1 dictionary\n",
    "    if row['prefix2asn'] in sum_packet_cnt_pc_1:\n",
    "        # Subtract the sum(packet_cnt) from the corresponding value in sum_packet_cnt_pc_1\n",
    "        # and update the 'packet_cnt' value in the row\n",
    "        row['sum(packet_cnt)'] -= sum_packet_cnt_pc_1[row['prefix2asn']]\n",
    "    # Append the updated row to the list\n",
    "    rows.append(row)\n",
    "\n",
    "# Create a new DataFrame from the list of rows\n",
    "diff_df = pd.DataFrame(rows)\n",
    "\n",
    "# Ensure that the column name is correct\n",
    "# Replace 'packet_cnt' with the actual name of the column in new_df if it's different\n",
    "diff_df = diff_df.sort_values(by='sum(packet_cnt)', ascending=False)\n",
    "\n",
    "diff_df[new_df['sum(packet_cnt)'] >= 0]"
   ]
  },
  {
   "cell_type": "code",
   "execution_count": 67,
   "id": "8a2a6ead-68c7-4b70-a1e6-e3c2f2ceba60",
   "metadata": {},
   "outputs": [
    {
     "data": {
      "text/html": [
       "<div>\n",
       "<style scoped>\n",
       "    .dataframe tbody tr th:only-of-type {\n",
       "        vertical-align: middle;\n",
       "    }\n",
       "\n",
       "    .dataframe tbody tr th {\n",
       "        vertical-align: top;\n",
       "    }\n",
       "\n",
       "    .dataframe thead th {\n",
       "        text-align: right;\n",
       "    }\n",
       "</style>\n",
       "<table border=\"1\" class=\"dataframe\">\n",
       "  <thead>\n",
       "    <tr style=\"text-align: right;\">\n",
       "      <th></th>\n",
       "      <th>prefix2asn</th>\n",
       "      <th>sum(packet_cnt)</th>\n",
       "    </tr>\n",
       "  </thead>\n",
       "  <tbody>\n",
       "    <tr>\n",
       "      <th>80</th>\n",
       "      <td>135377</td>\n",
       "      <td>106262</td>\n",
       "    </tr>\n",
       "  </tbody>\n",
       "</table>\n",
       "</div>"
      ],
      "text/plain": [
       "    prefix2asn  sum(packet_cnt)\n",
       "80      135377           106262"
      ]
     },
     "execution_count": 67,
     "metadata": {},
     "output_type": "execute_result"
    }
   ],
   "source": [
    "pc_1[pc_1['prefix2asn'] == 135377]"
   ]
  },
  {
   "cell_type": "markdown",
   "id": "7e0d1ced-7a86-48b6-8248-5927588b0966",
   "metadata": {},
   "source": [
    "### Calculate Top-10 ASes by Unique Source IPs"
   ]
  },
  {
   "cell_type": "code",
   "execution_count": 50,
   "id": "8732e12c-9ecc-49de-a146-69db1db5129c",
   "metadata": {},
   "outputs": [
    {
     "ename": "NameError",
     "evalue": "name 'traff_df' is not defined",
     "output_type": "error",
     "traceback": [
      "\u001b[0;31m---------------------------------------------------------------------------\u001b[0m",
      "\u001b[0;31mNameError\u001b[0m                                 Traceback (most recent call last)",
      "File \u001b[0;32m<timed exec>:1\u001b[0m\n",
      "\u001b[0;31mNameError\u001b[0m: name 'traff_df' is not defined"
     ]
    }
   ],
   "source": [
    "%%time\n",
    "\n",
    "asn_usp = traff_df.groupby('prefix2asn').agg(F.countDistinct('src_ip').alias('uniq_src_ip')).toPandas()"
   ]
  },
  {
   "cell_type": "code",
   "execution_count": 51,
   "id": "8718a901-691f-4b43-98b4-524521d07f8b",
   "metadata": {},
   "outputs": [
    {
     "ename": "NameError",
     "evalue": "name 'asn_usp' is not defined",
     "output_type": "error",
     "traceback": [
      "\u001b[0;31m---------------------------------------------------------------------------\u001b[0m",
      "\u001b[0;31mNameError\u001b[0m                                 Traceback (most recent call last)",
      "Cell \u001b[0;32mIn[51], line 1\u001b[0m\n\u001b[0;32m----> 1\u001b[0m top10_asn\u001b[38;5;241m=\u001b[39m \u001b[43masn_usp\u001b[49m\u001b[38;5;241m.\u001b[39msort_values(by\u001b[38;5;241m=\u001b[39m\u001b[38;5;124m'\u001b[39m\u001b[38;5;124muniq_src_ip\u001b[39m\u001b[38;5;124m'\u001b[39m, ascending\u001b[38;5;241m=\u001b[39m\u001b[38;5;28;01mFalse\u001b[39;00m)\u001b[38;5;241m.\u001b[39mhead(\u001b[38;5;241m10\u001b[39m)[\u001b[38;5;124m'\u001b[39m\u001b[38;5;124mprefix2asn\u001b[39m\u001b[38;5;124m'\u001b[39m]\u001b[38;5;241m.\u001b[39mvalues\u001b[38;5;241m.\u001b[39mtolist()\n\u001b[1;32m      2\u001b[0m top10_asn\n",
      "\u001b[0;31mNameError\u001b[0m: name 'asn_usp' is not defined"
     ]
    }
   ],
   "source": [
    "top10_asn= asn_usp.sort_values(by='uniq_src_ip', ascending=False).head(10)['prefix2asn'].values.tolist()\n",
    "top10_asn"
   ]
  },
  {
   "cell_type": "code",
   "execution_count": null,
   "id": "746c1d0b-6aad-4aa9-bff6-8ac85773d81f",
   "metadata": {},
   "outputs": [],
   "source": [
    "top10_asn_filter_df = create_filter_df(top10_asn, 'prefix2asn')\n",
    "top10_asn_df = traff_df.join(\n",
    "    F.broadcast(\n",
    "        top10_asn_filter_df\n",
    "        ),\n",
    "    on='prefix2asn'\n",
    ")"
   ]
  },
  {
   "cell_type": "markdown",
   "id": "f4b5a0e4-cd96-4575-a7ec-962b29ae9b70",
   "metadata": {
    "jp-MarkdownHeadingCollapsed": true
   },
   "source": [
    "### Extract Unique Source IPs / 5 Minutes per Top-10 ASN"
   ]
  },
  {
   "cell_type": "code",
   "execution_count": null,
   "id": "08c2ff91-de06-4bcd-a552-ab8c97ddc8bc",
   "metadata": {},
   "outputs": [],
   "source": [
    "usp = top10_asn_df.groupby('time', 'prefix2asn').agg(F.countDistinct('src_ip').alias('uniq_src_ip'))\\\n",
    "        .withColumn('time', top10_asn_df.time.cast('string')).toPandas().astype({'time': 'datetime64[ns]'}) # Compatability fix"
   ]
  },
  {
   "cell_type": "code",
   "execution_count": null,
   "id": "3b59858a-8db3-4b28-8248-50dcc74bf456",
   "metadata": {
    "scrolled": true
   },
   "outputs": [],
   "source": [
    "import matplotlib.pyplot as plt\n",
    "\n",
    "for asn in usp.prefix2asn.unique():\n",
    "    asn_df = usp[usp['prefix2asn'] == asn]\n",
    "    asn_df = asn_df.set_index('time').sort_index()\n",
    "    print(asn_df)\n",
    "    plt.figure(figsize=(10,3))\n",
    "    plt.plot(asn_df['uniq_src_ip'])\n",
    "    plt.show()"
   ]
  },
  {
   "cell_type": "code",
   "execution_count": null,
   "id": "7a423800-9f83-42c3-aa42-72f849a0d422",
   "metadata": {},
   "outputs": [],
   "source": [
    "OUT_FILE = f'{OUT_DIR}/{start.strftime(\"%Y%m%dT%H%M\")}_{end.strftime(\"%Y%m%dT%H%M\")}_dst_port{DST_PORT}_top10_usp.parquet.gz'\n",
    "print(OUT_FILE)\n",
    "usp.to_parquet(f'{OUT_FILE}', compression='gzip')"
   ]
  },
  {
   "cell_type": "code",
   "execution_count": null,
   "id": "d71e08b0-2e88-4b55-8b41-9a7d99a94cfe",
   "metadata": {},
   "outputs": [],
   "source": [
    "pd.read_parquet(f'{OUT_FILE}')"
   ]
  },
  {
   "cell_type": "markdown",
   "id": "bca47c9f-af5c-40d4-8d6b-13617a364cc3",
   "metadata": {},
   "source": [
    "### Extract Packet Counts / Minute per Top-10 ASN"
   ]
  },
  {
   "cell_type": "code",
   "execution_count": null,
   "id": "1f2d918d-0b0b-4544-9758-fcd4c38b9823",
   "metadata": {
    "editable": true,
    "slideshow": {
     "slide_type": ""
    },
    "tags": []
   },
   "outputs": [],
   "source": [
    "%%time\n",
    "\n",
    "pc = top10_asn_df.groupby('time', 'prefix2asn').sum('packet_cnt').alias('pkt_cnt')\\\n",
    "        .withColumn('time', top10_asn_df.time.cast('string')).toPandas().astype({'time': 'datetime64[ns]'}) # Compatability fix"
   ]
  },
  {
   "cell_type": "code",
   "execution_count": null,
   "id": "41814906-b6a6-408f-92ce-45d80f9de150",
   "metadata": {},
   "outputs": [],
   "source": [
    "pc"
   ]
  },
  {
   "cell_type": "code",
   "execution_count": null,
   "id": "0a49ce51-e865-4e00-8e56-08a7cd6f1317",
   "metadata": {
    "scrolled": true
   },
   "outputs": [],
   "source": [
    "import matplotlib.pyplot as plt\n",
    "\n",
    "for asn in pc.prefix2asn.unique():\n",
    "    asn_df = pc[pc['prefix2asn'] == asn]\n",
    "    asn_df = asn_df.set_index('time').sort_index()\n",
    "    print(asn_df)\n",
    "    plt.figure(figsize=(10,3))\n",
    "    plt.plot(asn_df['sum(packet_cnt)'])\n",
    "    plt.show()"
   ]
  },
  {
   "cell_type": "code",
   "execution_count": null,
   "id": "cc61f934-6c26-4561-9f5e-a7eb22a6ddc9",
   "metadata": {
    "editable": true,
    "slideshow": {
     "slide_type": ""
    },
    "tags": []
   },
   "outputs": [],
   "source": [
    "OUT_FILE = f'{OUT_DIR}/{start.strftime(\"%Y%m%dT%H%M\")}_{end.strftime(\"%Y%m%dT%H%M\")}_dst_port{DST_PORT}_top10_pc.parquet.gz'\n",
    "print(OUT_FILE)\n",
    "pc.to_parquet(f'{OUT_FILE}', compression='gzip')"
   ]
  },
  {
   "cell_type": "code",
   "execution_count": null,
   "id": "ead95225-1252-4198-a935-06cdca793164",
   "metadata": {
    "editable": true,
    "slideshow": {
     "slide_type": ""
    },
    "tags": []
   },
   "outputs": [],
   "source": [
    "pd.read_parquet(f'{OUT_FILE}')"
   ]
  }
 ],
 "metadata": {
  "kernelspec": {
   "display_name": "Python 3 (ipykernel)",
   "language": "python",
   "name": "python3"
  },
  "language_info": {
   "codemirror_mode": {
    "name": "ipython",
    "version": 3
   },
   "file_extension": ".py",
   "mimetype": "text/x-python",
   "name": "python",
   "nbconvert_exporter": "python",
   "pygments_lexer": "ipython3",
   "version": "3.8.17"
  }
 },
 "nbformat": 4,
 "nbformat_minor": 5
}
